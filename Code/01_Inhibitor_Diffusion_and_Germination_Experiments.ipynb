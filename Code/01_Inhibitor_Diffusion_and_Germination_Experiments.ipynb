{
 "cells": [
  {
   "cell_type": "markdown",
   "metadata": {},
   "source": [
    "# Inhibitor Diffusion and Germination - Basic Setup\n",
    "\n",
    "## Numerical experiments\n",
    "\n",
    "_Boyan Mihaylov, MSc Computational Science (UVA/VU)_"
   ]
  },
  {
   "cell_type": "markdown",
   "metadata": {},
   "source": [
    "## 0. Prerequisite libraries"
   ]
  },
  {
   "cell_type": "code",
   "execution_count": 1,
   "metadata": {},
   "outputs": [],
   "source": [
    "import numpy as np\n",
    "import matplotlib.pyplot as plt"
   ]
  },
  {
   "cell_type": "markdown",
   "metadata": {},
   "source": [
    "## 1. Mathematical framework"
   ]
  },
  {
   "cell_type": "markdown",
   "metadata": {},
   "source": [
    "The presented model is used to simulate the dispersal of inhibitor concentrations $c$ over a square two-dimensional lattice, implementing the time-based diffusion equation with a diffusion coefficient $D$:\n",
    "\n",
    "$$\n",
    "\\frac{\\partial c}{\\partial t}=D\\nabla^2c.\\tag{2}\n",
    "$$\n",
    "\n",
    "It is assumed that the lattice is discretised with equal subdivisions in every dimension: $\\delta{x}=\\delta{y}=1/N$, where $N$ is the number of lattice subdivisions along one dimension.\n",
    "\n",
    "Time is discretised in steps of size $\\delta t$. The left-hand side of the equation can be approximated by a forward finite difference to obtain\n",
    "\n",
    "$$\n",
    "\\frac{\\partial c}{\\partial t}=\\frac{c_{i,j}^{k+1}-c_{i,j}^{k}}{\\delta{t}},\n",
    "$$\n",
    "\n",
    "where $i$ and $j$ are the discrete node indices in the $x$ and $y$ dimension, respectively, and $k$ is the time step index.\n",
    "\n",
    "The Laplacian of the concentration can be expressed as\n",
    "\n",
    "$$\n",
    "\\nabla^2c = \\frac{\\partial^2 c}{\\partial x^2} + \\frac{\\partial^2 c}{\\partial y^2}\n",
    "$$\n",
    "\n",
    "and each of the partial derivatives can be approximated as second-order forward finite differences:\n",
    "\n",
    "$$\n",
    "\\frac{\\partial^2 c}{\\partial x^2} = \\frac{c_{i+1,j}^{k}+c_{i-1,j}^{k}-2c_{i,j}^{k}}{\\delta{x^2}}\n",
    "$$\n",
    "\n",
    "$$\n",
    "\\frac{\\partial^2 c}{\\partial y^2} = \\frac{c_{i,j+1}^{k}+c_{i,j-1}^{k}-2c_{i,j}^{k}}{\\delta{x^2}}\n",
    "$$\n",
    "\n",
    "Combining the above expression yields the update scheme:\n",
    "\n",
    "$$\n",
    "c_{i,j}^{k+1} = \\frac{D\\delta{t}}{\\delta{x^2}}(c_{i+1,j}^{k}+c_{i-1,j}^{k}+c_{i,j+1}^{k}+c_{i,j-1}^{k}-4c_{i,j}^{k}) + c_{i,j}^{k}\n",
    "$$\n",
    "\n"
   ]
  },
  {
   "cell_type": "markdown",
   "metadata": {},
   "source": [
    "## 2. Experimental setup"
   ]
  },
  {
   "cell_type": "markdown",
   "metadata": {},
   "source": [
    "As an initial assumption, the experiment uses the diffusion coefficient of glucose in water at temperature $T = 293.15 K$, which is $D_g=600 µm^2/s$[1].\n",
    "\n",
    "In this experiment, a spore occupies a single node at the centre of a $W\\times H$ lattice. At this node, an inhibitor concentration $c_i=c_{\\textrm{max}}$ is defined, everywhere else the lattice is initiated with $c_i=0$."
   ]
  },
  {
   "cell_type": "code",
   "execution_count": null,
   "metadata": {},
   "outputs": [],
   "source": [
    "# Initialise lattice concentrations\n",
    "W = 101\n",
    "H = 101\n",
    "c_lattice = np.zeros((W, H))\n",
    "\n",
    "# Define spore index\n",
    "spore_idx = (W // 2, H // 2)"
   ]
  },
  {
   "cell_type": "markdown",
   "metadata": {},
   "source": [
    "## References"
   ]
  },
  {
   "cell_type": "markdown",
   "metadata": {},
   "source": [
    "[1] R. Hober, “Physical chemistry of cells and tissues,” 1945. [Online]. Available: https://api.semanticscholar.org/CorpusID:11597902"
   ]
  }
 ],
 "metadata": {
  "kernelspec": {
   "display_name": "base",
   "language": "python",
   "name": "python3"
  },
  "language_info": {
   "codemirror_mode": {
    "name": "ipython",
    "version": 3
   },
   "file_extension": ".py",
   "mimetype": "text/x-python",
   "name": "python",
   "nbconvert_exporter": "python",
   "pygments_lexer": "ipython3",
   "version": "3.12.4"
  }
 },
 "nbformat": 4,
 "nbformat_minor": 2
}
