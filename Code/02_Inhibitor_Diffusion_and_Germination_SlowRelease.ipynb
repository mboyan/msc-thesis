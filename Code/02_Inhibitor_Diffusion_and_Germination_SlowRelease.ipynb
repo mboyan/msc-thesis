{
 "cells": [
  {
   "cell_type": "markdown",
   "metadata": {},
   "source": [
    "# Inhibitor Diffusion and Germination - Slow Release\n",
    "\n",
    "## Numerical experiments - Week 45/2024\n",
    "\n",
    "_Boyan Mihaylov, MSc Computational Science (UVA/VU)_"
   ]
  },
  {
   "cell_type": "markdown",
   "metadata": {},
   "source": [
    "## Prerequisite libraries"
   ]
  },
  {
   "cell_type": "code",
   "execution_count": 1,
   "metadata": {},
   "outputs": [],
   "source": [
    "import numpy as np\n",
    "import matplotlib.pyplot as plt\n",
    "from numba import jit, cuda, float32\n",
    "import matplotlib.gridspec as gridspec"
   ]
  },
  {
   "cell_type": "markdown",
   "metadata": {},
   "source": [
    "## 1. General assumptions"
   ]
  },
  {
   "cell_type": "markdown",
   "metadata": {},
   "source": [
    "Medium and conidium sizes:\n",
    "- See Experiment 01.\n",
    "\n",
    "Concentrations:\n",
    "- See Experiment 01.\n",
    "\n",
    "Membrane permeability\n",
    "- The spore is assumed to have a lipid bilayer membrane with narrow channels which mediate the release of inhibitor."
   ]
  },
  {
   "cell_type": "markdown",
   "metadata": {},
   "source": [
    "## 2. Mathematical framework"
   ]
  },
  {
   "cell_type": "markdown",
   "metadata": {},
   "source": [
    "### 2.1 Permeation constant"
   ]
  },
  {
   "cell_type": "markdown",
   "metadata": {},
   "source": [
    "To model the pemeability of the spore membrane, one must consider the flux through a one-dimensional capillary tube, defined as\n",
    "\n",
    "$$\n",
    "J_s=-P_s\\nabla c,\n",
    "$$\n",
    "\n",
    "where $P_s$ is a permeation constant depending both on the membrane and the permeating molecule. For the diffusion of glucose across an artificial lipid bilayer membrane, $P_s\\approx 10^{-3}\\mu\\textrm{m/s}$[2].\n",
    "\n",
    "To incorporate this parameter into the diffusion model, its relationship to a diffusion constant needs to be determined. Some sources[1] define this relationship as\n",
    "\n",
    "$$\n",
    "P_s = \\frac{K}{d}D_m,\n",
    "$$\n",
    "\n",
    "where $d$ is the membrane thickness, $K$ is the oil/water partition coefficient and $D_m$ is the solute's diffusion coefficient in the membrane material. According to this formulation, the diffusion constant can be expressed as:\n",
    "\n",
    "$$\n",
    "D_m =\\frac{d}{K}P_s\n",
    "$$\n",
    "\n",
    "The octanol-water partition coefficient for glucose ($K\\approx 10^-3$)[3] can be used as a characteristic value for $K$. As a reference number for $d$, the cell wall thickness of _Aspergillus sydowii_ can be used[5]: $d\\approx 140\\textrm{nm}=0.14\\mu\\textrm{m}$. Substituting these values results in $D_m=\\frac{0.14\\mu\\textrm{m}\\times 10^{-3}\\mu\\textrm{m/s}}{10^{-3}}=0.14\\mu\\textrm{m}^2/\\textrm{s}$.\n",
    "\n",
    "Considering the interpretation of $P_s$ as the permeation constant through a narrow channel of the membrane, an alternative formulation can also be used[2]:\n",
    "\n",
    "$$\n",
    "P_s = \\frac{\\alpha}{d}D_m\n",
    "$$\n",
    "\n",
    "The formulation is related to the length of this channel ($d$, equivalent to the membrane thickness) and the fraction $\\alpha$ of the cell surface taken up by channels. The above equation can be rewritten for $D_m$:\n",
    "\n",
    "$$\n",
    "D_m = \\frac{d}{\\alpha}P_s\n",
    "$$\n",
    "\n",
    "Glucose is a relatively large molecule, which cannot easily pass through the hydrophobic core of a membrane and is generally facilitated by glucose transporters (GLUT proteins). It is estimated that such proteins may cover about 4\\% of the membrane area in yeasts[4]. Hence, a value of $\\alpha=0.04$ will be used in the current experiment.\n",
    "\n",
    "Under these assumptions, the diffusion constant for the membrane transport can be set to $D_m=\\frac{0.14\\mu\\textrm{m}\\times 10^{-3}\\mu\\textrm{m/s}}{0.04}=3.5\\times10^{-3}\\mu\\textrm{m}^2/\\textrm{s}$"
   ]
  },
  {
   "cell_type": "markdown",
   "metadata": {},
   "source": [
    "### 2.2. Modified diffusion equation and discretisation"
   ]
  },
  {
   "cell_type": "markdown",
   "metadata": {},
   "source": [
    "The standard flux equation from Fick's Law for diffusion in a fluid medium is defined as follows:\n",
    "\n",
    "$$\n",
    "J=-D\\nabla c\\tag{1}\n",
    "$$\n",
    "\n",
    "The resulting coefficient $D_m$ can be used in a similar way for a flux through a membrane:\n",
    "\n",
    "$$\n",
    "J_m=-D_m\\nabla c\\tag{2}\n",
    "$$\n",
    "\n",
    "$J_m$ is defined as the flux through an infinitessimal membrane segment. Since there are now two diffusion coefficients, the formulation of the diffusion equation from Fick's law needs to be revisited with specific regard to the interface between the spore and the surrounding medium.\n",
    "\n",
    "Consider an infinitessimal cube in a $x,y,z$-coordinate system with fluxes $J_x$, $J_y$ and $J_z$ in each dimension representing the amount of molecules passing through the cube along the respective dimension. The continuity equaition states:\n",
    "\n",
    "$$\n",
    "\\frac{\\partial c}{\\partial t}=-\\nabla J=-\\frac{\\partial J_x}{\\partial x}-\\frac{\\partial J_y}{\\partial y}-\\frac{\\partial J_z}{\\partial z}\n",
    "$$\n",
    "\n",
    "Since the dimensions are equivalent and the space is isotropic, $\\delta x=\\delta y=\\delta z$. Now, assume that a membrane boundary goes through the cube, oriented normal to one of the dimensions, e.g. $z$. Then we can replace $J_z$ by $J_m$:\n",
    "\n",
    "$$\n",
    "\\frac{\\partial c}{\\partial t}=-\\nabla J=-\\frac{\\partial J_x}{\\partial x}-\\frac{\\partial J_y}{\\partial x}-\\frac{\\partial J_m}{\\partial x}\n",
    "$$\n",
    "\n",
    "Equation 1 and Equation 2 can be substituted into the last expression, resulting in the following formula:\n",
    "\n",
    "$$\n",
    "\\frac{\\partial c}{\\partial t}=D\\frac{\\partial^2 c}{\\partial x^2}+D\\frac{\\partial^2 c}{\\partial x^2}+D_m\\frac{\\partial^2 c}{\\partial x^2}\n",
    "$$\n",
    "\n",
    "The current experimental setup poses a problem, since the membrane boundaries do not separate regions in space but are compressed to the singularity on the discrete lattice that is occupied by the spore. This can be overcome by appropriate discretisation measures.\n",
    "\n",
    "The membrane spans the sides of the discrete spore cube and separates it from its neighbour sites. Its outward flux on all sides would be defined by $J_m$. Lattice sites further away from the spore are treated trivially with the standard diffusion equation. The neighbour sites of the spore need to be treated specially. If the spore has a high concentration of inhibitor compared to its environment, initially the dominant flux is in a direction away from the spore. The influx from the side spanned by the membrane occurs with a different rate (dictated by $D_m$) compared to the outflux at the opposite side of the neighbour volume (toward the medium).\n",
    "\n",
    "This can be reflected in the finite difference of the second derivative. Taking a small step $\\delta x$ toward the spore, a forward finite difference can be defined using a Taylor expansion:\n",
    "\n",
    "$$\n",
    "c(x+\\delta{x}) = c(x) + \\delta{x}\\frac{\\partial c(x)}{\\partial{x}}+\\frac{1}{2}\\delta{x}^2\\frac{\\partial c(x)^2}{\\partial{x}^2}\n",
    "$$\n",
    "\n",
    "Similarly, a small step away from the spore yields a backward finite difference:\n",
    "\n",
    "$$\n",
    "c(x-\\delta{x}) = c(x) - \\delta{x}\\frac{\\partial c(x)}{\\partial{x}}+\\frac{1}{2}\\delta{x}^2\\frac{\\partial c(x)^2}{\\partial{x}^2}\n",
    "$$\n",
    "\n",
    "The two first-order differences can be added together to produce a centered finite difference:\n",
    "\n",
    "$$\n",
    "\\frac{\\partial c(x)^2}{\\partial x^2}\\approx \\frac{[c(x+\\delta x)-c(x)]+[c(x-\\delta x)-c(x)]}{\\delta{x}^2}\n",
    "$$\n",
    "\n",
    "At this point, the contributions from the spore-side and from the outer side can be multiplied by their separate diffusion constants:\n",
    "\n",
    "$$\n",
    "\\frac{\\partial c(x)^2}{\\partial x^2}\\approx \\frac{D_m}{\\delta{x}^2}[c(x+\\delta x)-c(x)]+\\frac{D}{\\delta{x}^2}[c(x-\\delta x)-c(x)]\n",
    "$$\n",
    "\n",
    "For a standard lattice node in the outside medium, this would reduce to the standard form:\n",
    "\n",
    "$$\n",
    "\\frac{\\partial c(x)^2}{\\partial x^2}\\approx \\frac{D}{\\delta{x}^2}[c(x+\\delta x)+c(x-\\delta x)-2c(x)]\n",
    "$$\n",
    "\n",
    "And for the spore itself, the only diffusion constant would be $D_m$:\n",
    "\n",
    "$$\n",
    "\\frac{\\partial c(x)^2}{\\partial x^2}\\approx \\frac{D_m}{\\delta{x}^2}[c(x+\\delta x)+c(x-\\delta x)-2c(x)]\n",
    "$$\n",
    "\n",
    "Following the finite difference approximations in both dimensions, a time-update scheme for a spore-adjacent site takes the form\n",
    "\n",
    "$$\n",
    "c_{i,j}^{n+1} = D\\frac{\\delta{t}}{\\delta{x^2}}(c_{i+1,j}^{n} - c_{i,j}^{n})+D\\frac{\\delta{t}}{\\delta{x^2}}(c_{i-1,j}^{n} - c_{i,j}^{n})+D\\frac{\\delta{t}}{\\delta{x^2}}(c_{i,j+1}^{n}-c_{i,j}^{n}) + D_m\\frac{\\delta{t}}{\\delta{x^2}}(c_{i,j-1}^{n}-c_{i,j}^{n}) + c_{i,j}^{n},\n",
    "$$\n",
    "\n",
    "where the diffusion constants may be swapped depending on which side the spore is situated."
   ]
  },
  {
   "cell_type": "code",
   "execution_count": null,
   "metadata": {},
   "outputs": [],
   "source": [
    "def invoke_smart_kernel(size, threads_per_block=(16, 16)):\n",
    "    \"\"\"\n",
    "    Invoke a kernel with the appropriate number of blocks and threads per block.\n",
    "    \"\"\"\n",
    "    blocks_per_grid = [(size + (tpb - 1)) // tpb for tpb in threads_per_block]\n",
    "    return tuple(blocks_per_grid), tuple(threads_per_block)\n",
    "\n",
    "\n",
    "@cuda.jit()\n",
    "def update_GPU(c_old, c_new, dtdx2, D, Dm, spore_idx):\n",
    "    \"\"\"\n",
    "    Update the concentration of a lattice point based on the time-dependent diffusion equation with a periodic boundary.\n",
    "    inputs:\n",
    "        c_old (numpy.ndarray) - the current state of the lattice;\n",
    "        c_new (numpy.ndarray) - the next state of the lattice;\n",
    "        dtdx2 (float) - the update factor;\n",
    "        D (float) - the diffusion constant through the medium;\n",
    "        Dm (float) - the diffusion constant through the spore membrane;\n",
    "        spore_idx (tuple) - the indices of the spore location.\n",
    "    \"\"\"\n",
    "    i, j = cuda.grid(2)\n",
    "\n",
    "    if i >= c_old.shape[0] or j >= c_old.shape[1]:\n",
    "        return\n",
    "    \n",
    "    center = c_old[i, j]\n",
    "    bottom = c_old[(i - 1) % c_old.shape[0], j]\n",
    "    top = c_old[(i + 1) % c_old.shape[0], j]\n",
    "    left = c_old[i, (j - 1) % c_old.shape[1]]\n",
    "    right = c_old[i, (j + 1) % c_old.shape[1]]\n",
    "    \n",
    "    Ddtdx2 = cuda.local.array(4, float32)\n",
    "    for k in range(4):\n",
    "        Ddtdx2[k] = D * dtdx2\n",
    "\n",
    "    if i == spore_idx[0] and j == spore_idx[1]:\n",
    "        for k in range(4):\n",
    "            Ddtdx2[k] = Dm * dtdx2\n",
    "    elif i == spore_idx[0] - 1 and j == spore_idx[1]:\n",
    "        Ddtdx2[1] = Dm * dtdx2\n",
    "    elif i == spore_idx[0] + 1 and j == spore_idx[1]:\n",
    "        Ddtdx2[0] = Dm * dtdx2\n",
    "    elif i == spore_idx[0] and j == spore_idx[1] - 1:\n",
    "        Ddtdx2[3] = Dm * dtdx2\n",
    "    elif i == spore_idx[0] and j == spore_idx[1] + 1:\n",
    "        Ddtdx2[2] = Dm * dtdx2\n",
    "    \n",
    "    diff_sum = Ddtdx2[0] * bottom + Ddtdx2[1] * top + Ddtdx2[2] * left + Ddtdx2[3] * right\n",
    "    c_new[i, j] = center + diff_sum - (Ddtdx2[0] + Ddtdx2[1] + Ddtdx2[2] + Ddtdx2[3]) * center\n",
    "\n",
    "\n",
    "@cuda.reduce\n",
    "def max_reduce(a, b):\n",
    "    \"\"\"\n",
    "    Find the maximum of two values.\n",
    "    \"\"\"\n",
    "    if a > b:\n",
    "        return a\n",
    "    else:\n",
    "        return b\n",
    "\n",
    "\n",
    "def diffusion_time_dependent_GPU(c_init, t_max, D=1.0, Dm=1.0, dt=0.001, dx=0.005, n_save_frames=100, spore_idx=(None, None), c_thresholds=None):\n",
    "    \"\"\"\n",
    "    Compute the evolution of a square lattice of concentration scalars\n",
    "    based on the time-dependent diffusion equation.\n",
    "    inputs:\n",
    "        c_init (numpy.ndarray) - the initial state of the lattice;\n",
    "        t_max (int) - a maximum number of iterations;\n",
    "        D (float) - the diffusion constant; defaults to 1;\n",
    "        Dm (float) - the diffusion constant through the spore membrane; defaults to 1;\n",
    "        dt (float) - timestep; defaults to 0.001;\n",
    "        dx (float) - spatial increment; defaults to 0.005;\n",
    "        n_save_frames (int) - determines the number of frames to save during the simulation; detaults to 100;\n",
    "        spore_idx (tuple) - the indices of the spore location; defaults to (None, None);\n",
    "        c_thresholds (float) - threshold values for the concentration; defaults to None.\n",
    "    outputs:\n",
    "        u_evolotion (numpy.ndarray) - the states of the lattice at all moments in time.\n",
    "    \"\"\"\n",
    "\n",
    "    assert c_init.ndim == 2, 'input array must be 2-dimensional'\n",
    "    assert c_init.shape[0] == c_init.shape[1], 'lattice must have equal size along each dimension'\n",
    "\n",
    "    # Determine number of lattice rows/columns\n",
    "    N = c_init.shape[0]\n",
    "\n",
    "    # Save update factor\n",
    "    dtdx2 = dt / (dx ** 2)\n",
    "\n",
    "    if  D * dtdx2 > 0.5:\n",
    "        print(\"Warning: inappropriate scaling of dx and dt due to D, may result in an unstable simulation.\")\n",
    "\n",
    "    if  Dm * dtdx2 > 0.5:\n",
    "        print(\"Warning: inappropriate scaling of dx and dt due to Dm, may result in an unstable simulation.\")\n",
    "\n",
    "    # Determine number of frames\n",
    "    n_frames = int(np.floor(t_max / dt))\n",
    "    print(f\"Simulation running for {n_frames} steps on a lattice of size {np.array(c_init.shape) * dx} microns.\")\n",
    "\n",
    "    # Array for storing lattice states\n",
    "    c_evolution = np.zeros((n_save_frames + 1, N, N))\n",
    "    times = np.zeros(n_save_frames + 1)\n",
    "    save_interval = np.floor(n_frames / n_save_frames)\n",
    "    save_ct = 0\n",
    "    \n",
    "    # Array for storing times at which thresholds are reached\n",
    "    if type(c_thresholds) == np.ndarray:\n",
    "        times_thresh = np.zeros(c_thresholds.shape)\n",
    "    else:\n",
    "        times_thresh = None\n",
    "    thresh_ct = 0\n",
    "\n",
    "    # Initialise lattice states\n",
    "    c_A_gpu = cuda.to_device(c_init)\n",
    "    c_B_gpu = cuda.device_array_like(c_init)\n",
    "    c_grids = [c_A_gpu, c_B_gpu]\n",
    "\n",
    "    kernel_blocks, kernel_threads = invoke_smart_kernel(N)\n",
    "\n",
    "    for t in range(n_frames):\n",
    "\n",
    "        print(f\"Frame {t} of {n_frames}\", end=\"\\r\")\n",
    "\n",
    "        # Save frame\n",
    "        if t % save_interval == 0:\n",
    "            c_evolution[save_ct] = c_grids[t%2].copy_to_host()\n",
    "            times[save_ct] = t * dt\n",
    "            save_ct += 1\n",
    "        \n",
    "        update_GPU[kernel_blocks, kernel_threads](c_grids[t%2], c_grids[(t+1)%2], dtdx2, D, Dm, spore_idx)\n",
    "\n",
    "        # Synchronize the GPU to ensure the kernel has finished\n",
    "        cuda.synchronize()\n",
    "\n",
    "        # Save time if threshold is reached\n",
    "        if c_thresholds is not None:\n",
    "            if thresh_ct < times_thresh.shape[0] and times_thresh[thresh_ct] == 0 and max_reduce(c_grids[(t+1)%2].ravel()) < c_thresholds[thresh_ct]:\n",
    "                times_thresh[thresh_ct] = t * dt\n",
    "                thresh_ct += 1\n",
    "\n",
    "    # Save final frame\n",
    "    c_evolution[save_ct] = c_grids[(n_frames+1)%2].copy_to_host()\n",
    "    times[save_ct] = t_max\n",
    "\n",
    "    return c_evolution, times, times_thresh"
   ]
  },
  {
   "cell_type": "markdown",
   "metadata": {},
   "source": [
    "### 2.2. Analytical solution"
   ]
  },
  {
   "cell_type": "markdown",
   "metadata": {},
   "source": [
    "The inhibitor concentration inside the spore at time $t$ ($c_{\\textrm{in}}(t)$) can be computed analytically. Since the diffusion outside the spore happens much faster than inside of it, it can be assumed that the concentration of the inhibitor outside of the spore ($c_{\\textrm{out}}$) is effectively constant everywhere, i.e. equal to zero. The following formula[1] can then be used:\n",
    "\n",
    "$$\n",
    "c_{\\textrm{in}}(t) = c_{\\textrm{out}} - \\Delta c(0)e^{-t/\\tau}\n",
    "$$\n",
    "\n",
    "$\\Delta c(0)$ is the difference between the external and internal concentrations at time zero. $\\tau$ is a decay constant and is related to the surface area of the spore $A$, its volume $V$ and the permeation constant $P_s$:\n",
    "\n",
    "$$\n",
    "\\tau=\\frac{V}{AP_s}\n",
    "$$\n",
    "\n",
    "The spore area through which the inhibitor diffuses is equal to $A=4\\times (5\\times5)\\mu\\textrm{m}^2=100\\mu\\textrm{m}^2=0.0001\\textrm{mm}^2$. However, it needs to be corrected with a factor equal to the partition constant $K$, such that the effective diffusive surface is $A_{\\textrm{eff}}=KA$. The volume of the cell wall, in which all the inhibitor is contained, amounts to $V_{\\textrm{cw}}=1.5\\mu\\textrm{m}^3$. Thus, the equation for $\\tau$ becomes\n",
    "\n",
    "$$\n",
    "\\tau=\\frac{V_{\\textrm{cw}}}{KAP_s}\n",
    "$$"
   ]
  },
  {
   "cell_type": "code",
   "execution_count": 3,
   "metadata": {},
   "outputs": [],
   "source": [
    "def permeation_time_dependent_analytical(c_in, c_out, t, Ps, A, V, alpha=1.0):\n",
    "    \"\"\"\n",
    "    Compute the concentration of a solute in a spore given the initial and external concentrations.\n",
    "    inputs:\n",
    "        c_in (float) - the initial concentration of the solute;\n",
    "        c_out (float) - the external concentration of the solute;\n",
    "        t (float) - time;\n",
    "        Ps (float) - the spore membrane permeation constant;\n",
    "        A (float) - the surface area of the spore;\n",
    "        V (float) - the volume of the spore;\n",
    "        alpha (float) - permeable fraction of the area; defaults to 1.\n",
    "    \"\"\"\n",
    "    tau = V / (alpha * A * Ps)\n",
    "    c = c_out - (c_out - c_in) * np.exp(-t / tau)\n",
    "    return c"
   ]
  },
  {
   "cell_type": "markdown",
   "metadata": {},
   "source": [
    "## 3. Experimental setup"
   ]
  },
  {
   "cell_type": "markdown",
   "metadata": {},
   "source": [
    "Three parallel experiments are conducted: two numerical, using the two respective formulations of $D_m$, and one which computes the internal concentration over time using the analytical formula."
   ]
  },
  {
   "cell_type": "code",
   "execution_count": 7,
   "metadata": {},
   "outputs": [
    {
     "name": "stdout",
     "output_type": "stream",
     "text": [
      "Simulation running for 2880000 steps on a lattice of size [3005 3005] microns.\n",
      "Total concentration at final step: 1.0000000014014159\n",
      "Numerical solution at spore for t_max=14400: 0.9956319691923341\n",
      "Analytical solution at spore for t_max=14400: 0.9956319677245647\n",
      "Final error of numerical solution: 1.467769350504966e-09\n"
     ]
    }
   ],
   "source": [
    "# Initialise lattice with zero concentrations\n",
    "W = 600\n",
    "H = 600\n",
    "c_lattice = np.zeros((W+1, H+1))\n",
    "\n",
    "# Define spore index and set concentration\n",
    "c_spore_init = 1#0.9e-5\n",
    "spore_idx = (W // 2, H // 2)\n",
    "c_lattice[spore_idx] = c_spore_init\n",
    "\n",
    "# Run simulation (Dm formulation 2)\n",
    "c_thresh = c_thresholds = 10.0**(-np.arange(1, 7)) * c_spore_init\n",
    "D = 600\n",
    "Ps = 1.9e-6\n",
    "Dm = 1.9e-5\n",
    "t_max = 14400 # 4 hours\n",
    "c_evolution, times, times_thresh = diffusion_time_dependent_GPU(c_lattice, t_max=t_max, D=D, Dm=Ps, dt=0.005, dx=5, n_save_frames=100, spore_idx=spore_idx, c_thresholds=c_thresholds)\n",
    "\n",
    "# Check with analytical solution\n",
    "# spore_wall_vol = 1.5\n",
    "spore_wall_vol = 125\n",
    "# spore_wall_vol = 125\n",
    "spore_area = 20 # 4 edges of square\n",
    "# spore_area = 20 # 4 edges of square\n",
    "# spore_area = 100 # 4 sides of cube\n",
    "# spore_area = 150 # 6 sides of cube\n",
    "# spore_area = 120.899 # sphere of spore volume\n",
    "# spore_area = 6.336 # sphere of cell wall volume\n",
    "# spore_area = 5.241 # 4 sides of cube with cell wall volume\n",
    "alpha = 1#10.0\n",
    "print(f\"Total concentration at final step: {np.sum(c_evolution[-1])}\")\n",
    "print(f\"Numerical solution at spore for t_max={t_max}: {c_evolution[-1, spore_idx[0], spore_idx[1]]}\")\n",
    "c_analytical = permeation_time_dependent_analytical(c_spore_init, 0, times, Ps, spore_area, spore_wall_vol, alpha)\n",
    "print(f\"Analytical solution at spore for t_max={t_max}: {c_analytical[-1]}\")\n",
    "print(f\"Final error of numerical solution: {np.abs(c_evolution[-1, spore_idx[0], spore_idx[1]] - c_analytical[-1])}\")"
   ]
  },
  {
   "cell_type": "markdown",
   "metadata": {},
   "source": [
    "## 4. Results"
   ]
  },
  {
   "cell_type": "code",
   "execution_count": 12,
   "metadata": {},
   "outputs": [
    {
     "name": "stdout",
     "output_type": "stream",
     "text": [
      "Thresholds reached at times: [0. 0. 0. 0. 0. 0.]\n",
      "Concentration dropped below 1e-06 at time 0.0\n"
     ]
    },
    {
     "data": {
      "text/plain": [
       "<matplotlib.colorbar.Colorbar at 0x217ba767fe0>"
      ]
     },
     "execution_count": 12,
     "metadata": {},
     "output_type": "execute_result"
    },
    {
     "data": {
      "image/png": "[encoded data removed]",
      "text/plain": [
       "<Figure size 600x800 with 3 Axes>"
      ]
     },
     "metadata": {},
     "output_type": "display_data"
    }
   ],
   "source": [
    "print(f\"Thresholds reached at times: {times_thresh}\")\n",
    "print(f\"Concentration dropped below {c_thresholds[-1]} at time {times_thresh[-1]}\")\n",
    "\n",
    "c_scale = 6.5e3\n",
    "c_analytical_scaled = c_scale * c_analytical\n",
    "c_evolution_scaled = c_scale * c_evolution\n",
    "\n",
    "# Compute threshold times analytically\n",
    "# thresh_times_analytical = time_to_threshold_analytical(c_spore_init, D, spore_vol, 10.0**(-np.arange(1, 7)))\n",
    "\n",
    "# Plot the concentration evolution\n",
    "fig = plt.figure(figsize=(6, 8))\n",
    "gs = gridspec.GridSpec(2, 1, height_ratios=[1,2], width_ratios=[1])\n",
    "axs = [plt.subplot(gs[0, :]), plt.subplot(gs[1, :])]\n",
    "\n",
    "axs[0].plot(times, c_evolution_scaled[:, spore_idx[0], spore_idx[1]], label='Numerical')\n",
    "axs[0].plot(times, c_analytical_scaled, label='Analytical')\n",
    "# axs[0].set_ylim(c_scale*0.8, c_scale*1.1)\n",
    "for i, time_thresh in enumerate(times_thresh):\n",
    "    dash_length = (i + 1)\n",
    "    if time_thresh > 0:\n",
    "        axs[0].axvline(x=time_thresh, color='c', dashes=(dash_length, dash_length), linewidth=2, label='$k=10^{'+str(-i-1)+'}$')\n",
    "# for i, time_thresh in enumerate(thresh_times_analytical):\n",
    "#     dash_length = (i + 1)\n",
    "#     if time_thresh > 0:\n",
    "#         axs[0].axvline(x=time_thresh, color='brown', dashes=(dash_length, dash_length), label='$k=10^{'+str(-i-1)+'}$ (analytical)')\n",
    "# axs[0].set_ylim(0, c_scale+0.01)\n",
    "axs[0].set_xlabel('Time [s]')\n",
    "axs[0].set_ylabel(r'Concentration $[\\text{mol}/\\text{L}]$')\n",
    "axs[0].set_title('a. Inhibitor concentration at spore over time')\n",
    "axs[0].legend(loc='upper right', ncol=2)\n",
    "axs[0].grid()\n",
    "fig.tight_layout()\n",
    "\n",
    "# Plot final concentrations on lattice\n",
    "img = axs[1].imshow(c_evolution_scaled[-1], cmap='viridis')\n",
    "axs[1].set_xlabel(f'x [$\\\\times 5\\\\mu m$]')\n",
    "axs[1].set_ylabel(f'y [$\\\\times 5\\\\mu m$]')\n",
    "axs[1].set_title(f'b. Inhibitor concentration at t={t_max} seconds')\n",
    "fig.colorbar(img, ax=axs[1])"
   ]
  },
  {
   "cell_type": "markdown",
   "metadata": {},
   "source": [
    "## 5. Discussion"
   ]
  },
  {
   "cell_type": "markdown",
   "metadata": {},
   "source": [
    "There is a perfect alignment between the numerical and the analytical solutions. The thresholds of orders of $O(10^{-n})$ are never reached within the four hours. This suggests the following issues:\n",
    "- the diffusion constant $D_m$ through biological membranes is actually higher than the one with regard to artificial lipid bilayers;\n",
    "- the threshold for the inhibitor is actually higher than 0.1 of the initial concentration;\n",
    "- dimensionality plays a role."
   ]
  },
  {
   "cell_type": "markdown",
   "metadata": {},
   "source": [
    "## References"
   ]
  },
  {
   "cell_type": "markdown",
   "metadata": {},
   "source": [
    "- [1] W. Shinoda, “Permeability across lipid membranes.,” Biochimica et biophysica acta, vol. 1858 10, pp. 2254–2265, 2016.\n",
    "- [2] P. C. Nelson, M. Radosavljevic, and S. Bromberg, “Biological Physics: Energy, Information, Life,” 2003.\n",
    "- [3] M. F. Mazzobre, M. Román, A. F. Mourelle, and H. R. Corti, “Octanol-water partition coefficient of glucose, sucrose, and trehalose.,” Carbohydrate research, vol. 340 6, pp. 1207–11, 2005.\n",
    "- [4] R. Milo and R. Phillips, “Cell Biology by the Numbers,” 2015.\n",
    "- [5] L. D. Fernando et al., “Structural adaptation of fungal cell wall in hypersaline environment,” Nature Communications, vol. 14, 2023."
   ]
  }
 ],
 "metadata": {
  "kernelspec": {
   "display_name": "Python 3",
   "language": "python",
   "name": "python3"
  },
  "language_info": {
   "codemirror_mode": {
    "name": "ipython",
    "version": 3
   },
   "file_extension": ".py",
   "mimetype": "text/x-python",
   "name": "python",
   "nbconvert_exporter": "python",
   "pygments_lexer": "ipython3",
   "version": "3.12.4"
  }
 },
 "nbformat": 4,
 "nbformat_minor": 2
}
