{
 "cells": [
  {
   "cell_type": "markdown",
   "metadata": {},
   "source": [
    "# Inhibitor Diffusion and Germination - Slow Release\n",
    "\n",
    "## Numerical experiments - Week 45/2024\n",
    "\n",
    "_Boyan Mihaylov, MSc Computational Science (UVA/VU)_"
   ]
  },
  {
   "cell_type": "markdown",
   "metadata": {},
   "source": [
    "## Prerequisite libraries"
   ]
  },
  {
   "cell_type": "code",
   "execution_count": 1,
   "metadata": {},
   "outputs": [],
   "source": [
    "import numpy as np\n",
    "import matplotlib.pyplot as plt\n",
    "from numba import jit, cuda, float32"
   ]
  },
  {
   "cell_type": "markdown",
   "metadata": {},
   "source": [
    "## 1. General assumptions"
   ]
  },
  {
   "cell_type": "markdown",
   "metadata": {},
   "source": [
    "Medium and conidium sizes:\n",
    "- See Experiment 01.\n",
    "\n",
    "Concentrations:\n",
    "- See Experiment 01.\n",
    "\n",
    "Membrane permeability\n",
    "- The spore is assumed to have a lipid bilayer membrane with narrow channels which mediate the release of inhibitor."
   ]
  },
  {
   "cell_type": "markdown",
   "metadata": {},
   "source": [
    "## 2. Mathematical framework"
   ]
  },
  {
   "cell_type": "markdown",
   "metadata": {},
   "source": [
    "To model the pemeability of the spore membrane, one must consider the flux through a one-dimensional capillary tube, defined as\n",
    "\n",
    "$$\n",
    "J_s=-P_s\\nabla c,\n",
    "$$\n",
    "\n",
    "where $P_s$ is a permeation constant depending both on the membrane and the permeating molecule. For the diffusion of glucose across an artificial lipid bilayer membrane, $P_s\\approx 10^{-3}\\mu\\textrm{m/s}$[1]. To convert this into a flux through a two-dimensional membrane surface, analogous to the infinitessimal cube wall of a solvent volume, we need to multiply $P_s$ with the area\n",
    "\n",
    "AAAAAAAAAAAAAAAAAAAAAAAAAAA\n",
    "\n",
    "This is opposed to the free diffusion of molecules in a solute, which follows the flux equation\n",
    "\n",
    "$$\n",
    "J=-D\\nabla c\n",
    "$$\n",
    "\n",
    "and is fundamental to Fick's law and the standard diffusion equation. This means that the formulation of the diffusion equation from Fick's law needs to be revisited with specific regard to the interface between the spore and the surrounding medium.\n",
    "\n",
    "Consider an infinitessimal cube in a $x,y,z$-coordinate system with fluxes $J_x$, $J_y$ and $J_z$ in each dimension representing the amount of molecules passing through the cube along the respective dimension. The continuity equaition states:\n",
    "\n",
    "$$\n",
    "\\frac{\\partial c}{\\partial t}=-\\nabla J=-\\frac{\\partial J_x}{\\partial x}-\\frac{\\partial J_y}{\\partial y}-\\frac{\\partial J_z}{\\partial z}\n",
    "$$\n",
    "\n",
    "Now, assume that a membrane goes through the cube and is oriented normal to one of the dimensions, e.g. $z$. Then we can replace $J_z$ by $J_s$:\n",
    "\n",
    "$$\n",
    "\\frac{\\partial c}{\\partial t}=-\\nabla J=-\\frac{\\partial J_x}{\\partial x}-\\frac{\\partial J_y}{\\partial y}-\\frac{\\partial J_s}{\\partial z}\n",
    "$$\n",
    "\n",
    "Then, substituting the equation for Fick's law for $J_x=J_y=-D\\nabla c$ and the modified equation $J_s=-P_s\\nabla c$, we obtain\n",
    "\n",
    "$$\n",
    "\\frac{\\partial c}{\\partial t}=D\\left(\\frac{\\partial^2 c}{\\partial x^2}+\\frac{\\partial^2 c}{\\partial y^2}\\right)+P_s\\frac{\\partial^2 c}{\\partial z^2}.\n",
    "$$\n",
    "\n",
    "In the two-dimensional configuration, only two spatial second-order derivatives need to be considered:\n",
    "\n",
    "$$\n",
    "\\frac{\\partial c}{\\partial t}=D\\frac{\\partial^2 c}{\\partial x^2}+P_s\\frac{\\partial^2 c}{\\partial y^2},\n",
    "$$\n",
    "\n",
    "where $x$ is the direction tangent to the membrane and $y$ is the direction normal to it."
   ]
  },
  {
   "cell_type": "markdown",
   "metadata": {},
   "source": [
    "### 2.1. Discretisation"
   ]
  },
  {
   "cell_type": "markdown",
   "metadata": {},
   "source": [
    "Following the finite difference approximations from before, the update scheme takes the form\n",
    "\n",
    "$$\n",
    "c_{i,j}^{n+1} = D\\frac{\\delta{t}}{\\delta{x^2}}(c_{i+1,j}^{n}+c_{i-1,j}^{n} - 2c_{i,j}^{n})+P_s\\frac{\\delta{t}}{\\delta{x^2}}(c_{i,j+1}^{n}+c_{i,j-1}^{n}-2c_{i,j}^{n}) + c_{i,j}^{n}\n",
    "$$\n",
    "\n",
    "Depending on whether the membrane is oriented horizontally or vertically, $D$ and $P_s$ may swap in the above expression. Since in the current experiment the spore only occupies a single lattice node, it is assumed that all sides of the membrane are included in it, hence the permeation constant $P_s$ is simply used as a general factor in the update:\n",
    "\n",
    "$$\n",
    "c_{i,j}^{n+1} = \\frac{P_s\\delta{t}}{\\delta{x^2}}(c_{i+1,j}^{n}+c_{i-1,j}^{n}+c_{i,j+1}^{n}+c_{i,j-1}^{n}-4c_{i,j}^{n}) + c_{i,j}^{n}\n",
    "$$"
   ]
  },
  {
   "cell_type": "code",
   "execution_count": 3,
   "metadata": {},
   "outputs": [],
   "source": [
    "def invoke_smart_kernel(size, threads_per_block=(16, 16)):\n",
    "    \"\"\"\n",
    "    Invoke a kernel with the appropriate number of blocks and threads per block.\n",
    "    \"\"\"\n",
    "    blocks_per_grid = [(size + (tpb - 1)) // tpb for tpb in threads_per_block]\n",
    "    return tuple(blocks_per_grid), tuple(threads_per_block)\n",
    "\n",
    "\n",
    "@cuda.jit()\n",
    "def update_GPU(c_old, c_new, dtdx2, D, Ps, spore_idx):\n",
    "    \"\"\"\n",
    "    Update the concentration of a lattice point based on the time-dependent diffusion equation with a periodic boundary.\n",
    "    inputs:\n",
    "        c_old (numpy.ndarray) - the current state of the lattice;\n",
    "        c_new (numpy.ndarray) - the next state of the lattice;\n",
    "        dtdx2 (float) - the update factor;\n",
    "        D (float) - the diffusion constant;\n",
    "        Ps (float) - the spore membrane permeation constant;\n",
    "        spore_idx (tuple) - the indices of the spore location.\n",
    "    \"\"\"\n",
    "    i, j = cuda.grid(2)\n",
    "\n",
    "    if i >= c_old.shape[0] or j >= c_old.shape[1]:\n",
    "        return\n",
    "    \n",
    "    center = c_old[i, j]\n",
    "    bottom = c_old[(i - 1) % c_old.shape[0], j]\n",
    "    top = c_old[(i + 1) % c_old.shape[0], j]\n",
    "    left = c_old[i, (j - 1) % c_old.shape[1]]\n",
    "    right = c_old[i, (j + 1) % c_old.shape[1]]\n",
    "    \n",
    "    Ddtdx2 = cuda.local.array(4, float32)\n",
    "    for k in range(4):\n",
    "        Ddtdx2[k] = D * dtdx2\n",
    "\n",
    "    if i == spore_idx[0] and j == spore_idx[1]:\n",
    "        for k in range(4):\n",
    "            Ddtdx2[k] = Ps * dtdx2\n",
    "    elif i == spore_idx[0] - 1 and j == spore_idx[1]:\n",
    "        Ddtdx2[1] = Ps * dtdx2\n",
    "    elif i == spore_idx[0] + 1 and j == spore_idx[1]:\n",
    "        Ddtdx2[0] = Ps * dtdx2\n",
    "    elif i == spore_idx[0] and j == spore_idx[1] - 1:\n",
    "        Ddtdx2[3] = Ps * dtdx2\n",
    "    elif i == spore_idx[0] and j == spore_idx[1] + 1:\n",
    "        Ddtdx2[2] = Ps * dtdx2\n",
    "\n",
    "    # c_new[i, j] = Ddtdx2 * (bottom + top + left + right - 4 * center) + center\n",
    "    # c_new[i, j] = Ddtdx2A * (bottom + top - 2*center) + Ddtdx2B * (left + right - 2*center) + center\n",
    "    # c_new[i, j] = Ddtdx2[0]*(bottom - center) + Ddtdx2[1]*(top - center) + Ddtdx2[2]*(left - center) + Ddtdx2[3]*(right - center) + center\n",
    "    diff_sum = Ddtdx2[0] * bottom + Ddtdx2[1] * top + Ddtdx2[2] * left + Ddtdx2[3] * right\n",
    "    c_new[i, j] = center + diff_sum - (Ddtdx2[0] + Ddtdx2[1] + Ddtdx2[2] + Ddtdx2[3]) * center\n",
    "\n",
    "\n",
    "@cuda.reduce\n",
    "def max_reduce(a, b):\n",
    "    \"\"\"\n",
    "    Find the maximum of two values.\n",
    "    \"\"\"\n",
    "    if a > b:\n",
    "        return a\n",
    "    else:\n",
    "        return b\n",
    "\n",
    "\n",
    "def diffusion_time_dependent_GPU(c_init, t_max, D=1.0, Ps=1.0, dt=0.001, dx=0.005, n_save_frames=100, spore_idx=(None, None), c_thresh=None):\n",
    "    \"\"\"\n",
    "    Compute the evolution of a square lattice of concentration scalars\n",
    "    based on the time-dependent diffusion equation.\n",
    "    inputs:\n",
    "        c_init (numpy.ndarray) - the initial state of the lattice;\n",
    "        t_max (int) - a maximum number of iterations;\n",
    "        D (float) - the diffusion constant; defaults to 1;\n",
    "        Ps (float) - the spore membrane permeation constant; defaults to 1;\n",
    "        dt (float) - timestep; defaults to 0.001;\n",
    "        dx (float) - spatial increment; defaults to 0.005;\n",
    "        n_save_frames (int) - determines the number of frames to save during the simulation; detaults to 100;\n",
    "        spore_idx (tuple) - the indices of the spore location; defaults to (None, None);\n",
    "        c_thresh (float) - a threshold value for the concentration; defaults to None.\n",
    "    outputs:\n",
    "        u_evolotion (numpy.ndarray) - the states of the lattice at all moments in time.\n",
    "    \"\"\"\n",
    "\n",
    "    assert c_init.ndim == 2, 'input array must be 2-dimensional'\n",
    "    assert c_init.shape[0] == c_init.shape[1], 'lattice must have equal size along each dimension'\n",
    "\n",
    "    # Determine number of lattice rows/columns\n",
    "    N = c_init.shape[0]\n",
    "\n",
    "    # Save update factor\n",
    "    dtdx2 =dt / (dx ** 2)\n",
    "\n",
    "    if  D * dtdx2 > 0.5:\n",
    "        print(\"Warning: inappropriate scaling of dx and dt due to D, may result in an unstable simulation.\")\n",
    "\n",
    "    if  Ps * dtdx2 > 0.5:\n",
    "        print(\"Warning: inappropriate scaling of dx and dt due to Ps, may result in an unstable simulation.\")\n",
    "\n",
    "    # Determine number of frames\n",
    "    n_frames = int(np.floor(t_max / dt)) + 1\n",
    "    print(f\"Simulation running for {n_frames} steps on a lattice of size {np.array(c_init.shape) * dx} mm.\")\n",
    "\n",
    "    # Array for storing lattice states\n",
    "    c_evolution = np.zeros((n_save_frames + 1, N, N))\n",
    "    times = np.zeros(n_save_frames + 1)\n",
    "    save_interval = np.floor(n_frames / n_save_frames)\n",
    "    save_ct = 0\n",
    "    time_thresh = None\n",
    "\n",
    "    # Initialise lattice states\n",
    "    c_A_gpu = cuda.to_device(c_init)\n",
    "    c_B_gpu = cuda.device_array_like(c_init)\n",
    "    c_grids = [c_A_gpu, c_B_gpu]\n",
    "\n",
    "    kernel_blocks, kernel_threads = invoke_smart_kernel(N)\n",
    "\n",
    "    for t in range(n_frames):\n",
    "\n",
    "        print(f\"Frame {t} of {n_frames}\", end=\"\\r\")\n",
    "        \n",
    "        update_GPU[kernel_blocks, kernel_threads](c_grids[t%2], c_grids[(t+1)%2], dtdx2, D, Ps, spore_idx)\n",
    "\n",
    "        # Synchronize the GPU to ensure the kernel has finished\n",
    "        cuda.synchronize()\n",
    "\n",
    "        # Save time if threshold is reached\n",
    "        if c_thresh is not None and time_thresh is None:\n",
    "            if max_reduce(c_grids[(t+1)%2].ravel()) < c_thresh:\n",
    "                time_thresh = t * dt\n",
    "\n",
    "        # Save frame\n",
    "        if t % save_interval == 0:\n",
    "            c_evolution[save_ct] = c_grids[(t+1)%2].copy_to_host()\n",
    "            times[save_ct] = t * dt\n",
    "            save_ct += 1\n",
    "\n",
    "    return c_evolution, times, time_thresh"
   ]
  },
  {
   "cell_type": "markdown",
   "metadata": {},
   "source": [
    "### 2.2. Analytical solution"
   ]
  },
  {
   "cell_type": "markdown",
   "metadata": {},
   "source": [
    "The inhibitor concentration inside the spore at time $t$ ($c_{\\textrm{in}}(t)$) can be computed analytically. Since the diffusion outside the spore happens much faster than inside of it, it can be assumed that the concentration of the inhibitor outside of the spore ($c_{\\textrm{out}}$) is effectively constant everywhere, i.e. equal to zero. The following formula[1] can then be used:\n",
    "\n",
    "$$\n",
    "c_{\\textrm{in}}(t) = c_{\\textrm{out}} - \\Delta c(0)e^{-t/\\tau}\n",
    "$$\n",
    "\n",
    "$\\Delta c(0)$ is the difference between the external and internal concentrations at time zero. $\\tau$ is a decay constant and is related to the surface area of the spore $A$, its volume $V$ and the permeability constant $P_s$:\n",
    "\n",
    "$$\n",
    "\\tau=\\frac{V}{AP_s}\n",
    "$$\n",
    "\n",
    "The spore area through which the inhibitor diffuses is equal to $A=4\\times (5\\times5)\\mu\\textrm{m}^2=100\\mu\\textrm{m}^2=0.0001\\textrm{mm}^2$. The volume, as computed before, is $V=1.25\\times 10^{-7}\\textrm{mm}^3$"
   ]
  },
  {
   "cell_type": "code",
   "execution_count": 4,
   "metadata": {},
   "outputs": [],
   "source": [
    "def permeation_time_dependent_analytical(c_in, c_out, t, Ps, A, V):\n",
    "    \"\"\"\n",
    "    Compute the concentration of a solute in a spore given the initial and external concentrations.\n",
    "    inputs:\n",
    "        c_in (float) - the initial concentration of the solute;\n",
    "        c_out (float) - the external concentration of the solute;\n",
    "        t (float) - time;\n",
    "        Ps (float) - the spore membrane permeation constant;\n",
    "        A (float) - the surface area of the spore;\n",
    "        V (float) - the volume of the spore.\n",
    "    \"\"\"\n",
    "    tau = V / (A * Ps)\n",
    "    c = c_out - (c_out - c_in) * np.exp(-t / tau)\n",
    "    return c"
   ]
  },
  {
   "cell_type": "markdown",
   "metadata": {},
   "source": [
    "## 3. Experimental setup"
   ]
  },
  {
   "cell_type": "code",
   "execution_count": 16,
   "metadata": {},
   "outputs": [
    {
     "name": "stdout",
     "output_type": "stream",
     "text": [
      "Simulation running for 60001 steps on a lattice of size [2.005 2.005] mm.\n",
      "Total concentration at final step: 1.000000000025051\n",
      "Numerical solution at spore for t_max=60: 0.9990404450526799\n",
      "Analytical solution at spore for t_max=60: 0.99999520001152\n"
     ]
    }
   ],
   "source": [
    "# Initialise lattice with zero concentrations\n",
    "W = 400\n",
    "H = 400\n",
    "c_lattice = np.zeros((W+1, H+1))\n",
    "\n",
    "# Define spore index and set concentration\n",
    "c_spore_init = 1#0.9e-5\n",
    "spore_idx = (W // 2, H // 2)\n",
    "c_lattice[spore_idx] = c_spore_init\n",
    "\n",
    "# # Run simulation\n",
    "c_thresh = 0.1 * c_spore_init\n",
    "D = 0.0006\n",
    "Ps = 1e-10#1e-6\n",
    "t_max = 60\n",
    "c_evolution, times, time_thresh = diffusion_time_dependent_GPU(c_lattice, t_max=t_max, D=D, Ps=Ps, dt=0.001, n_save_frames=100, spore_idx=spore_idx, c_thresh=c_thresh)\n",
    "\n",
    "# Check with analytical solution\n",
    "spore_vol = 1.25e-7\n",
    "spore_area = 0.0001\n",
    "print(f\"Total concentration at final step: {np.sum(c_evolution[-1])}\")\n",
    "c_analytical = permeation_time_dependent_analytical(c_spore_init, 0, t_max, Ps, spore_area, spore_vol)\n",
    "print(f\"Numerical solution at spore for t_max={t_max}: {c_evolution[-1, spore_idx[0], spore_idx[1]]}\")\n",
    "print(f\"Analytical solution at spore for t_max={t_max}: {c_analytical}\")"
   ]
  },
  {
   "cell_type": "markdown",
   "metadata": {},
   "source": [
    "## 4. Results"
   ]
  },
  {
   "cell_type": "code",
   "execution_count": 15,
   "metadata": {},
   "outputs": [
    {
     "name": "stdout",
     "output_type": "stream",
     "text": [
      "Concentration dropped below 0.1 at time None\n"
     ]
    },
    {
     "ename": "TypeError",
     "evalue": "'>' not supported between instances of 'float' and 'NoneType'",
     "output_type": "error",
     "traceback": [
      "\u001b[1;31m---------------------------------------------------------------------------\u001b[0m",
      "\u001b[1;31mTypeError\u001b[0m                                 Traceback (most recent call last)",
      "Cell \u001b[1;32mIn[15], line 5\u001b[0m\n\u001b[0;32m      3\u001b[0m fig, axs \u001b[38;5;241m=\u001b[39m plt\u001b[38;5;241m.\u001b[39msubplots(\u001b[38;5;241m2\u001b[39m, \u001b[38;5;241m1\u001b[39m, figsize\u001b[38;5;241m=\u001b[39m(\u001b[38;5;241m10\u001b[39m, \u001b[38;5;241m15\u001b[39m))\n\u001b[0;32m      4\u001b[0m axs[\u001b[38;5;241m0\u001b[39m]\u001b[38;5;241m.\u001b[39mplot(times, c_evolution[:, spore_idx[\u001b[38;5;241m0\u001b[39m], spore_idx[\u001b[38;5;241m1\u001b[39m]])\n\u001b[1;32m----> 5\u001b[0m \u001b[43maxs\u001b[49m\u001b[43m[\u001b[49m\u001b[38;5;241;43m0\u001b[39;49m\u001b[43m]\u001b[49m\u001b[38;5;241;43m.\u001b[39;49m\u001b[43maxvline\u001b[49m\u001b[43m(\u001b[49m\u001b[43mx\u001b[49m\u001b[38;5;241;43m=\u001b[39;49m\u001b[43mtime_thresh\u001b[49m\u001b[43m,\u001b[49m\u001b[43m \u001b[49m\u001b[43mcolor\u001b[49m\u001b[38;5;241;43m=\u001b[39;49m\u001b[38;5;124;43m'\u001b[39;49m\u001b[38;5;124;43mr\u001b[39;49m\u001b[38;5;124;43m'\u001b[39;49m\u001b[43m,\u001b[49m\u001b[43m \u001b[49m\u001b[43mlinestyle\u001b[49m\u001b[38;5;241;43m=\u001b[39;49m\u001b[38;5;124;43m'\u001b[39;49m\u001b[38;5;124;43m--\u001b[39;49m\u001b[38;5;124;43m'\u001b[39;49m\u001b[43m)\u001b[49m\n\u001b[0;32m      6\u001b[0m axs[\u001b[38;5;241m0\u001b[39m]\u001b[38;5;241m.\u001b[39mset_xlabel(\u001b[38;5;124m'\u001b[39m\u001b[38;5;124mTime [s]\u001b[39m\u001b[38;5;124m'\u001b[39m)\n\u001b[0;32m      7\u001b[0m axs[\u001b[38;5;241m0\u001b[39m]\u001b[38;5;241m.\u001b[39mset_ylabel(\u001b[38;5;124m'\u001b[39m\u001b[38;5;124mConcentration\u001b[39m\u001b[38;5;124m'\u001b[39m)\n",
      "File \u001b[1;32mc:\\Users\\mihbo\\anaconda3\\Lib\\site-packages\\matplotlib\\axes\\_axes.py:852\u001b[0m, in \u001b[0;36mAxes.axvline\u001b[1;34m(self, x, ymin, ymax, **kwargs)\u001b[0m\n\u001b[0;32m    850\u001b[0m \u001b[38;5;66;03m# Strip away the units for comparison with non-unitized bounds.\u001b[39;00m\n\u001b[0;32m    851\u001b[0m xx, \u001b[38;5;241m=\u001b[39m \u001b[38;5;28mself\u001b[39m\u001b[38;5;241m.\u001b[39m_process_unit_info([(\u001b[38;5;124m\"\u001b[39m\u001b[38;5;124mx\u001b[39m\u001b[38;5;124m\"\u001b[39m, x)], kwargs)\n\u001b[1;32m--> 852\u001b[0m scalex \u001b[38;5;241m=\u001b[39m (\u001b[43mxx\u001b[49m\u001b[43m \u001b[49m\u001b[38;5;241;43m<\u001b[39;49m\u001b[43m \u001b[49m\u001b[43mxmin\u001b[49m) \u001b[38;5;129;01mor\u001b[39;00m (xx \u001b[38;5;241m>\u001b[39m xmax)\n\u001b[0;32m    854\u001b[0m trans \u001b[38;5;241m=\u001b[39m \u001b[38;5;28mself\u001b[39m\u001b[38;5;241m.\u001b[39mget_xaxis_transform(which\u001b[38;5;241m=\u001b[39m\u001b[38;5;124m'\u001b[39m\u001b[38;5;124mgrid\u001b[39m\u001b[38;5;124m'\u001b[39m)\n\u001b[0;32m    855\u001b[0m l \u001b[38;5;241m=\u001b[39m mlines\u001b[38;5;241m.\u001b[39mLine2D([x, x], [ymin, ymax], transform\u001b[38;5;241m=\u001b[39mtrans, \u001b[38;5;241m*\u001b[39m\u001b[38;5;241m*\u001b[39mkwargs)\n",
      "\u001b[1;31mTypeError\u001b[0m: '>' not supported between instances of 'float' and 'NoneType'"
     ]
    },
    {
     "data": {
      "image/png": "[encoded data removed]",
      "text/plain": [
       "<Figure size 1000x1500 with 2 Axes>"
      ]
     },
     "metadata": {},
     "output_type": "display_data"
    }
   ],
   "source": [
    "print(f\"Concentration dropped below {c_thresh} at time {time_thresh}\")\n",
    "\n",
    "fig, axs = plt.subplots(2, 1, figsize=(10, 15))\n",
    "axs[0].plot(times, c_evolution[:, spore_idx[0], spore_idx[1]])\n",
    "axs[0].axvline(x=time_thresh, color='r', linestyle='--')\n",
    "axs[0].set_xlabel('Time [s]')\n",
    "axs[0].set_ylabel('Concentration')\n",
    "axs[0].set_title('Inhibitor concentration at spore over time')\n",
    "\n",
    "lattice = c_evolution[-1]\n",
    "img = axs[1].imshow(lattice, cmap='viridis')\n",
    "axs[1].set_xlabel(f'x [$\\\\times 5\\\\mu m$]')\n",
    "axs[1].set_ylabel(f'y [$\\\\times 5\\\\mu m$]')\n",
    "axs[1].set_title(f'Inhibitor concentration at t={t_max} seconds')\n",
    "fig.colorbar(img, ax=axs[1])"
   ]
  },
  {
   "cell_type": "markdown",
   "metadata": {},
   "source": [
    "## References"
   ]
  },
  {
   "cell_type": "markdown",
   "metadata": {},
   "source": [
    "- [1] P. C. Nelson, M. Radosavljevic, and S. Bromberg, “Biological Physics: Energy, Information, Life,” 2003."
   ]
  }
 ],
 "metadata": {
  "kernelspec": {
   "display_name": "base",
   "language": "python",
   "name": "python3"
  },
  "language_info": {
   "codemirror_mode": {
    "name": "ipython",
    "version": 3
   },
   "file_extension": ".py",
   "mimetype": "text/x-python",
   "name": "python",
   "nbconvert_exporter": "python",
   "pygments_lexer": "ipython3",
   "version": "3.12.3"
  }
 },
 "nbformat": 4,
 "nbformat_minor": 2
}
