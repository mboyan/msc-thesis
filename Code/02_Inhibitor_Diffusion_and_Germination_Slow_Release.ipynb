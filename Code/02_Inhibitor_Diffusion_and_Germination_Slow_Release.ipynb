{
 "cells": [
  {
   "cell_type": "markdown",
   "metadata": {},
   "source": [
    "# Inhibitor Diffusion and Germination - Slow Release\n",
    "\n",
    "## Numerical experiments - Week 45/2024\n",
    "\n",
    "_Boyan Mihaylov, MSc Computational Science (UVA/VU)_"
   ]
  },
  {
   "cell_type": "markdown",
   "metadata": {},
   "source": [
    "## Prerequisite libraries"
   ]
  },
  {
   "cell_type": "code",
   "execution_count": 1,
   "metadata": {},
   "outputs": [],
   "source": [
    "import numpy as np\n",
    "import matplotlib.pyplot as plt\n",
    "from numba import jit, cuda, float32"
   ]
  },
  {
   "cell_type": "markdown",
   "metadata": {},
   "source": [
    "## 1. General assumptions"
   ]
  },
  {
   "cell_type": "markdown",
   "metadata": {},
   "source": [
    "Medium and conidium sizes:\n",
    "- See Experiment 01.\n",
    "\n",
    "Concentrations:\n",
    "- See Experiment 01.\n",
    "\n",
    "Membrane permeability\n",
    "- The spore is assumed to have a lipid bilayer membrane with narrow channels which mediate the release of inhibitor."
   ]
  },
  {
   "cell_type": "markdown",
   "metadata": {},
   "source": [
    "## 2. Mathematical framework"
   ]
  },
  {
   "cell_type": "markdown",
   "metadata": {},
   "source": [
    "The flux through the membrane is defined as\n",
    "\n",
    "$$\n",
    "J_s=-P_s\\nabla c,\n",
    "$$\n",
    "\n",
    "where $P_s$ is a permeation constant depending both on the membrane and the permeating molecule. For the diffusion of glucose across an artificial lipid bilayer membrane, $P_s\\approx 10^{-3}\\mu\\textrm{m/s}$. This is opposed to the free diffusion of molecules in a solute, which follows the flux equation\n",
    "\n",
    "$$\n",
    "J=-D\\nabla c\n",
    "$$\n",
    "\n",
    "and is fundamental to Fick's law and the standard diffusion equation. This means that the formulation of the diffusion equation from Fick's law needs to be revisited with specific regard to the interface between the spore and the surrounding medium.\n",
    "\n",
    "Consider an infinitessimal cube in a $x,y,z$-coordinate system with fluxes $J_x$, $J_y$ and $J_z$ in each dimension representing the amount of molecules passing through the cube along the respective dimension. The continuity equaition states:\n",
    "\n",
    "$$\n",
    "\\frac{\\partial c}{\\partial t}=-\\nabla J=-\\frac{\\partial J_x}{\\partial x}-\\frac{\\partial J_y}{\\partial y}-\\frac{\\partial J_z}{\\partial z}\n",
    "$$\n",
    "\n",
    "Now, assume that a membrane goes through the cube and is oriented normal to one of the dimensions, e.g. $z$. Then we can replace $J_z$ by $J_s$:\n",
    "\n",
    "$$\n",
    "\\frac{\\partial c}{\\partial t}=-\\nabla J=-\\frac{\\partial J_x}{\\partial x}-\\frac{\\partial J_y}{\\partial y}-\\frac{\\partial J_s}{\\partial z}\n",
    "$$\n",
    "\n",
    "Then, substituting the equation for Fick's law for $J_x=J_y=-D\\nabla c$ and the modified equation $J_s=-P_s\\nabla c$, we obtain\n",
    "\n",
    "$$\n",
    "\\frac{\\partial c}{\\partial t}=D\\left(\\frac{\\partial^2 c}{\\partial x^2}+\\frac{\\partial^2 c}{\\partial y^2}\\right)+P_s\\frac{\\partial^2 c}{\\partial z^2}.\n",
    "$$\n",
    "\n",
    "In the two-dimensional configuration, only two spatial second-order derivatives need to be considered:\n",
    "\n",
    "$$\n",
    "\\frac{\\partial c}{\\partial t}=D\\frac{\\partial^2 c}{\\partial x^2}+P_s\\frac{\\partial^2 c}{\\partial y^2},\n",
    "$$\n",
    "\n",
    "where $x$ is the direction tangent to the membrane and $y$ is the direction normal to it.\n",
    "\n",
    "Following the finite difference approximations from before, the update scheme takes the form\n",
    "\n",
    "$$\n",
    "c_{i,j}^{n+1} = D\\frac{\\delta{t}}{\\delta{x^2}}(c_{i+1,j}^{n}+c_{i-1,j}^{n} - 2c_{i,j}^{n})+P_s\\frac{\\delta{t}}{\\delta{x^2}}(c_{i,j+1}^{n}+c_{i,j-1}^{n}-2c_{i,j}^{n}) + c_{i,j}^{n}\n",
    "$$\n",
    "\n",
    "Depending on whether the membrane is oriented horizontally or vertically, $D$ and $P_s$ may swap in the above expression. Since in the current experiment the spore only occupies a single lattice node, it is assumed that all sides of the membrane are included in it, hence the permeation constant $P_s$ is simply used as a general factor in the update:\n",
    "\n",
    "$$\n",
    "c_{i,j}^{n+1} = \\frac{P_s\\delta{t}}{\\delta{x^2}}(c_{i+1,j}^{n}+c_{i-1,j}^{n}+c_{i,j+1}^{n}+c_{i,j-1}^{n}-4c_{i,j}^{n}) + c_{i,j}^{n}\n",
    "$$"
   ]
  },
  {
   "cell_type": "code",
   "execution_count": 12,
   "metadata": {},
   "outputs": [],
   "source": [
    "def invoke_smart_kernel(size, threads_per_block=(16, 16)):\n",
    "    \"\"\"\n",
    "    Invoke a kernel with the appropriate number of blocks and threads per block.\n",
    "    \"\"\"\n",
    "    blocks_per_grid = [(size + (tpb - 1)) // tpb for tpb in threads_per_block]\n",
    "    return tuple(blocks_per_grid), tuple(threads_per_block)\n",
    "\n",
    "\n",
    "@cuda.jit()\n",
    "def update_GPU(c_old, c_new, dtdx2, D, Ps, spore_idx):\n",
    "    \"\"\"\n",
    "    Update the concentration of a lattice point based on the time-dependent diffusion equation with a periodic boundary.\n",
    "    inputs:\n",
    "        c_old (numpy.ndarray) - the current state of the lattice;\n",
    "        c_new (numpy.ndarray) - the next state of the lattice;\n",
    "        dtdx2 (float) - the update factor;\n",
    "        D (float) - the diffusion constant;\n",
    "        Ps (float) - the spore membrane permeation constant;\n",
    "        spore_idx (tuple) - the indices of the spore location.\n",
    "    \"\"\"\n",
    "    i, j = cuda.grid(2)\n",
    "\n",
    "    center = c_old[i, j]\n",
    "    bottom = c_old[(i + 1) % c_old.shape[0], j]\n",
    "    top = c_old[(i - 1) % c_old.shape[0], j]\n",
    "    left = c_old[i, (j - 1) % c_old.shape[1]]\n",
    "    right = c_old[i, (j + 1) % c_old.shape[1]]\n",
    "    \n",
    "    if (i, j) == spore_idx:\n",
    "        Ddtdx2A = Ps * dtdx2\n",
    "        Ddtdx2B = Ps * dtdx2\n",
    "    elif i == spore_idx[0] and (j == spore_idx[1] + 1 or j == spore_idx[1] - 1):\n",
    "        Ddtdx2A = Ps * dtdx2\n",
    "        Ddtdx2B = D * dtdx2\n",
    "    elif j == spore_idx[1] and (i == spore_idx[0] + 1 or i == spore_idx[0] - 1):\n",
    "        Ddtdx2A = D * dtdx2\n",
    "        Ddtdx2B = Ps * dtdx2\n",
    "    else:\n",
    "        Ddtdx2A = D * dtdx2\n",
    "        Ddtdx2B = D * dtdx2\n",
    "\n",
    "    # c_new[i, j] = Ddtdx2 * (bottom + top + left + right - 4 * center) + center\n",
    "    c_new[i, j] = Ddtdx2A * (bottom + top - 2*center) + Ddtdx2B * (left + right - 2*center) + center\n",
    "\n",
    "\n",
    "@cuda.reduce\n",
    "def max_reduce(a, b):\n",
    "    \"\"\"\n",
    "    Find the maximum of two values.\n",
    "    \"\"\"\n",
    "    if a > b:\n",
    "        return a\n",
    "    else:\n",
    "        return b\n",
    "\n",
    "\n",
    "def diffusion_time_dependent_GPU(c_init, t_max, D=1.0, Ps=1.0, dt=0.001, dx=0.005, n_save_frames=100, spore_idx=(None, None), c_thresh=None):\n",
    "    \"\"\"\n",
    "    Compute the evolution of a square lattice of concentration scalars\n",
    "    based on the time-dependent diffusion equation.\n",
    "    inputs:\n",
    "        c_init (numpy.ndarray) - the initial state of the lattice;\n",
    "        t_max (int) - a maximum number of iterations;\n",
    "        D (float) - the diffusion constant; defaults to 1;\n",
    "        Ps (float) - the spore membrane permeation constant; defaults to 1;\n",
    "        dt (float) - timestep; defaults to 0.001;\n",
    "        dx (float) - spatial increment; defaults to 0.005;\n",
    "        n_save_frames (int) - determines the number of frames to save during the simulation; detaults to 100;\n",
    "        spore_idx (tuple) - the indices of the spore location; defaults to (None, None);\n",
    "        c_thresh (float) - a threshold value for the concentration; defaults to None.\n",
    "    outputs:\n",
    "        u_evolotion (numpy.ndarray) - the states of the lattice at all moments in time.\n",
    "    \"\"\"\n",
    "\n",
    "    assert c_init.ndim == 2, 'input array must be 2-dimensional'\n",
    "    assert c_init.shape[0] == c_init.shape[1], 'lattice must have equal size along each dimension'\n",
    "\n",
    "    # Determine number of lattice rows/columns\n",
    "    N = c_init.shape[0]\n",
    "\n",
    "    # Save update factor\n",
    "    dtdx2 =dt / (dx ** 2)\n",
    "\n",
    "    if  D * dtdx2 > 0.5:\n",
    "        print(\"Warning: inappropriate scaling of dx and dt, may result in an unstable simulation.\")\n",
    "\n",
    "    # Determine number of frames\n",
    "    n_frames = int(np.floor(t_max / dt)) + 1\n",
    "    print(f\"Simulation running for {n_frames} steps on a lattice of size {np.array(c_init.shape) * dx} mm.\")\n",
    "\n",
    "    # Array for storing lattice states\n",
    "    c_evolution = np.zeros((n_save_frames + 1, N, N))\n",
    "    times = np.zeros(n_save_frames + 1)\n",
    "    save_interval = np.floor(n_frames / n_save_frames)\n",
    "    save_ct = 0\n",
    "    time_thresh = None\n",
    "\n",
    "    # Initialise lattice states\n",
    "    c_A_gpu = cuda.to_device(c_init)\n",
    "    c_B_gpu = cuda.device_array_like(c_init)\n",
    "    c_grids = [c_A_gpu, c_B_gpu]\n",
    "\n",
    "    kernel_blocks, kernel_threads = invoke_smart_kernel(N)\n",
    "\n",
    "    for t in range(n_frames):\n",
    "\n",
    "        print(f\"Frame {t} of {n_frames}\", end=\"\\r\")\n",
    "\n",
    "        c_curr = c_grids[t%2]\n",
    "        c_next = c_grids[(t+1)%2]\n",
    "        update_GPU[kernel_blocks, kernel_threads](c_curr, c_next, dtdx2, D, Ps, spore_idx)\n",
    "\n",
    "        # Save time if threshold is reached\n",
    "        if c_thresh is not None and time_thresh is None:\n",
    "            if max_reduce(c_grids[(t+1)%2].ravel()) < c_thresh:\n",
    "                time_thresh = t * dt\n",
    "\n",
    "        # Save frame\n",
    "        if t % save_interval == 0:\n",
    "            c_evolution[save_ct] = c_grids[(t+1)%2].copy_to_host()\n",
    "            times[save_ct] = t * dt\n",
    "            save_ct += 1\n",
    "\n",
    "    return c_evolution, times, time_thresh"
   ]
  },
  {
   "cell_type": "markdown",
   "metadata": {},
   "source": [
    "## 3. Experimental setup"
   ]
  },
  {
   "cell_type": "code",
   "execution_count": 13,
   "metadata": {},
   "outputs": [
    {
     "name": "stdout",
     "output_type": "stream",
     "text": [
      "Simulation running for 10001 steps on a lattice of size [1.005 1.005] mm.\n",
      "Frame 0 of 10001\r"
     ]
    },
    {
     "name": "stderr",
     "output_type": "stream",
     "text": [
      "c:\\Users\\mihbo\\AppData\\Local\\Programs\\Python\\Python312\\Lib\\site-packages\\numba\\cuda\\dispatcher.py:536: NumbaPerformanceWarning: \u001b[1mGrid size 64 will likely result in GPU under-utilization due to low occupancy.\u001b[0m\n",
      "  warn(NumbaPerformanceWarning(msg))\n",
      "c:\\Users\\mihbo\\AppData\\Local\\Programs\\Python\\Python312\\Lib\\site-packages\\numba\\cuda\\dispatcher.py:536: NumbaPerformanceWarning: \u001b[1mGrid size 1 will likely result in GPU under-utilization due to low occupancy.\u001b[0m\n",
      "  warn(NumbaPerformanceWarning(msg))\n"
     ]
    },
    {
     "name": "stdout",
     "output_type": "stream",
     "text": [
      "Total concentration at final step: 98.53418249759909\n",
      "Numerical solution at spore for t_max=1: 0.9950760514679109\n"
     ]
    }
   ],
   "source": [
    "# Initialise lattice with zero concentrations\n",
    "W = 200\n",
    "H = 200\n",
    "c_lattice = np.zeros((W+1, H+1))\n",
    "\n",
    "# Define spore index and set concentration\n",
    "c_spore_init = 1#0.9e-5\n",
    "spore_idx = (W // 2, H // 2)\n",
    "c_lattice[spore_idx] = c_spore_init\n",
    "\n",
    "# # Run simulation\n",
    "c_thresh = 0.1 * c_spore_init\n",
    "D = 0.0006\n",
    "Ps = 1e-7\n",
    "t_max = 1\n",
    "c_evolution, times, time_thresh = diffusion_time_dependent_GPU(c_lattice, t_max=t_max, D=D, Ps=Ps, dt=0.0001, n_save_frames=100, spore_idx=spore_idx, c_thresh=c_thresh)\n",
    "\n",
    "# Check with analytical solution\n",
    "spore_vol = 1.25e-7\n",
    "print(f\"Total concentration at final step: {np.sum(c_evolution[-1])}\")\n",
    "# c_analytical = diffusion_time_dependent_analytical(c_spore_init, D, t_max, spore_vol)\n",
    "print(f\"Numerical solution at spore for t_max={t_max}: {c_evolution[-1, spore_idx[0], spore_idx[1]]}\")\n",
    "# print(f\"Analytical solution at spore for t_max={t_max}: {c_analytical}\")"
   ]
  },
  {
   "cell_type": "markdown",
   "metadata": {},
   "source": [
    "## References"
   ]
  },
  {
   "cell_type": "markdown",
   "metadata": {},
   "source": [
    "- [1] P. C. Nelson, M. Radosavljevic, and S. Bromberg, “Biological Physics: Energy, Information, Life,” 2003."
   ]
  }
 ],
 "metadata": {
  "kernelspec": {
   "display_name": "Python 3",
   "language": "python",
   "name": "python3"
  },
  "language_info": {
   "codemirror_mode": {
    "name": "ipython",
    "version": 3
   },
   "file_extension": ".py",
   "mimetype": "text/x-python",
   "name": "python",
   "nbconvert_exporter": "python",
   "pygments_lexer": "ipython3",
   "version": "3.12.4"
  }
 },
 "nbformat": 4,
 "nbformat_minor": 2
}
