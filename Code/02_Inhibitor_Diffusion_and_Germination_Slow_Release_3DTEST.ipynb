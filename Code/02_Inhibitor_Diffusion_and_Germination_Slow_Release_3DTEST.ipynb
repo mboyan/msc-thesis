{
 "cells": [
  {
   "cell_type": "markdown",
   "metadata": {},
   "source": [
    "# Inhibitor Diffusion and Germination - Slow Release\n",
    "\n",
    "## Numerical experiments - Week 45/2024\n",
    "\n",
    "_Boyan Mihaylov, MSc Computational Science (UVA/VU)_"
   ]
  },
  {
   "cell_type": "markdown",
   "metadata": {},
   "source": [
    "## Prerequisite libraries"
   ]
  },
  {
   "cell_type": "code",
   "execution_count": 1,
   "metadata": {},
   "outputs": [],
   "source": [
    "import numpy as np\n",
    "import matplotlib.pyplot as plt\n",
    "import plotly.graph_objects as go\n",
    "from numba import jit, cuda, float32"
   ]
  },
  {
   "cell_type": "markdown",
   "metadata": {},
   "source": [
    "## 1. General assumptions"
   ]
  },
  {
   "cell_type": "markdown",
   "metadata": {},
   "source": [
    "Medium and conidium sizes:\n",
    "- The diameter of a spore is assumed to be $5 \\mu m$.\n",
    "- The experiments are performed on a three-dimensional cube lattice, in which a spore is approximated by a sphere of diameter $5 \\mu \\textrm{m}$ (radius $R=2.5\\mu \\textrm{m}$) in the middle of the lattice.\n",
    "- The lattice of size $L\\times L\\times L$ with $L=1\\textrm{mm}$ is discretised in segments of size $\\delta x = 1 \\mu \\textrm{m}$. This resuls in 1000 subdivisions along each dimension.\n",
    "- The spherical spore therefore contains 81 lattice sites and has a volume $V=\\frac{4}{3}\\pi R^3\\approx 65.45\\mu \\textrm{m}^3=6.525\\times 10^{-8}\\textrm{mm}^3$"
   ]
  },
  {
   "cell_type": "code",
   "execution_count": 2,
   "metadata": {},
   "outputs": [
    {
     "name": "stderr",
     "output_type": "stream",
     "text": [
      "c:\\Users\\mihbo\\AppData\\Local\\Programs\\Python\\Python312\\Lib\\site-packages\\numba\\cuda\\cudadrv\\devicearray.py:888: NumbaPerformanceWarning: \u001b[1mHost array used in CUDA kernel will incur copy overhead to/from device.\u001b[0m\n",
      "  warn(NumbaPerformanceWarning(msg))\n"
     ]
    },
    {
     "name": "stdout",
     "output_type": "stream",
     "text": [
      "Interior sites: 81.0\n"
     ]
    }
   ],
   "source": [
    "def invoke_smart_kernel(size, threads_per_block=(8, 8, 8)):\n",
    "    \"\"\"\n",
    "    Invoke a kernel with the appropriate number of blocks and threads per block.\n",
    "    \"\"\"\n",
    "    blocks_per_grid = [(size + (tpb - 1)) // tpb for tpb in threads_per_block]\n",
    "    return tuple(blocks_per_grid), tuple(threads_per_block)\n",
    "\n",
    "@cuda.jit\n",
    "def change_c_init_GPU(c_lattice, c_spore_init, spore_center_coords, spore_rad, dx):\n",
    "    \"\"\"\n",
    "    Parallel initialisation of the lattice with the spore concentration.\n",
    "    \"\"\"\n",
    "    i, j, k = cuda.grid(3)\n",
    "    if i < c_lattice.shape[0] and j < c_lattice.shape[1] and k < c_lattice.shape[2]:\n",
    "        if (i - spore_center_coords[0])**2 + (j - spore_center_coords[1])**2 + (k - spore_center_coords[2])**2 <= (spore_rad/dx)**2:\n",
    "            c_lattice[i, j, k] = c_spore_init\n",
    "\n",
    "def define_spore_region(spore_rad, c_spore_init, spore_center_coords, c_lattice, dx):\n",
    "    \"\"\"\n",
    "    Define the spore region in the lattice and initialise inhibitor concentrations in it.\n",
    "    inputs:\n",
    "        spore_rad: int, radius of the spore region\n",
    "        c_spore_init: float, initial concentration of the spore region\n",
    "        spore_center_coords: tuple or ndarray, coordinates of the spore region\n",
    "        c_lattice: np.array, lattice of inhibitor concentrations\n",
    "        dx: float, spatial step size\n",
    "    \"\"\"\n",
    "\n",
    "    spore_center_coords = np.array(spore_center_coords)\n",
    "\n",
    "    assert spore_center_coords.shape == (3,), \"spore_center_coords must be a 3D coordinate\"\n",
    "    assert c_lattice.ndim == 3, \"c_lattice must be a 3D lattice\"\n",
    "\n",
    "    d_c_lattice = cuda.to_device(c_lattice)\n",
    "\n",
    "    grid_dims, block_dims = invoke_smart_kernel(c_lattice.shape[0])\n",
    "\n",
    "    change_c_init_GPU[grid_dims, block_dims](d_c_lattice, c_spore_init, spore_center_coords, spore_rad, dx)\n",
    "\n",
    "    c_lattice = d_c_lattice.copy_to_host()\n",
    "\n",
    "    interior_sites = np.sum(c_lattice)\n",
    "\n",
    "    print(\"Interior sites:\", interior_sites)\n",
    "\n",
    "    return c_lattice\n",
    "\n",
    "# Example usage\n",
    "W, H, L = 1000, 1000, 1000\n",
    "c_lattice = np.zeros((W, H, L), dtype=np.float32)\n",
    "spore_rad = 0.0025\n",
    "c_spore_init = 1.0\n",
    "spore_idx = (W // 2, H // 2, L // 2)\n",
    "dx = 0.001\n",
    "\n",
    "c_lattice = define_spore_region(spore_rad, c_spore_init, spore_idx, c_lattice, dx)\n",
    "\n",
    "# X, Y, Z = np.meshgrid(np.arange(W), np.arange(H), np.arange(L))\n",
    "\n",
    "# fig = go.Figure(data=go.Isosurface(\n",
    "#     x=X.flatten(),\n",
    "#     y=Y.flatten(),\n",
    "#     z=Z.flatten(),\n",
    "#     value=c_lattice.flatten(),\n",
    "#     isomin=c_spore_init-0.01,\n",
    "#     isomax=c_spore_init+0.01,\n",
    "#     caps=dict(x_show=False, y_show=False)\n",
    "#     ))\n",
    "# fig.show()"
   ]
  },
  {
   "cell_type": "markdown",
   "metadata": {},
   "source": [
    "## 2. Mathematical framework"
   ]
  },
  {
   "cell_type": "markdown",
   "metadata": {},
   "source": [
    "The discretisation scheme is as in the previous experiment, but also accounts for the third dimension, yielding the update scheme:\n",
    "\n",
    "$$\n",
    "c_{i,j,k}^{n+1} = \\frac{D\\delta{t}}{\\delta{x^2}}(c_{i+1,j,k}^{n}+c_{i-1,j,k}^{n}+c_{i,j+1,k}^{n}+c_{i,j-1,k}^{n}+c_{i,j,k+1}^{n}+c_{i,j,k-1}^{n}-6c_{i,j,k}^{n}) + c_{i,j,k}^{n}\n",
    "$$"
   ]
  },
  {
   "cell_type": "code",
   "execution_count": null,
   "metadata": {},
   "outputs": [],
   "source": [
    "def invoke_smart_kernel(size, threads_per_block=(16, 16, 16)):\n",
    "    \"\"\"\n",
    "    Invoke a kernel with the appropriate number of blocks and threads per block.\n",
    "    \"\"\"\n",
    "    blocks_per_grid = [(size + (tpb - 1)) // tpb for tpb in threads_per_block]\n",
    "    return tuple(blocks_per_grid), tuple(threads_per_block)\n",
    "\n",
    "\n",
    "@cuda.jit()\n",
    "def update_GPU(c_old, c_new, Ddtdx2):\n",
    "    \"\"\"\n",
    "    Update the concentration of a lattice point based on the time-dependent diffusion equation with a periodic boundary.\n",
    "    inputs:\n",
    "        c_old (numpy.ndarray) - the current state of the lattice;\n",
    "        c_new (numpy.ndarray) - the next state of the lattice;\n",
    "        Ddtdx2 (float) - the update factor.\n",
    "    \"\"\"\n",
    "    i, j, k = cuda.grid(3)\n",
    "\n",
    "    center = c_old[i, j, k]\n",
    "    bottom = c_old[(i + 1) % c_old.shape[0], j, k]\n",
    "    top = c_old[(i - 1) % c_old.shape[0], j, k]\n",
    "    left = c_old[i, (j - 1) % c_old.shape[1], k]\n",
    "    right = c_old[i, (j + 1) % c_old.shape[1], k]\n",
    "    back = c_old[i, j, (k - 1) % c_old.shape[2]]\n",
    "    forward = c_old[i, j, (k + 1) % c_old.shape[2]]\n",
    "\n",
    "    c_new[i, j] = Ddtdx2 * (bottom + top + left + right + back + forward - 6 * center) + center\n",
    "\n",
    "\n",
    "def diffusion_time_dependent_GPU(c_init, t_max, D=1.0, dt=0.001, dx=0.0005, n_save_frames=100, c_thresh=None):\n",
    "    \"\"\"\n",
    "    Compute the evolution of a square lattice of concentration scalars\n",
    "    based on the time-dependent diffusion equation.\n",
    "    inputs:\n",
    "        c_init (numpy.ndarray) - the initial state of the lattice;\n",
    "        t_max (int) - a maximum number of iterations;\n",
    "        D (float) - the diffusion constant; defaults to 1;\n",
    "        dt (float) - timestep; defaults to 0.001;\n",
    "        dx (float) - spatial increment; defaults to 0.005;\n",
    "        n_save_frames (int) - determines the number of frames to save during the simulation; detaults to 100;\n",
    "        c_thresh (float) - a threshold value for the concentration; defaults to None.\n",
    "    outputs:\n",
    "        u_evolotion (numpy.ndarray) - the states of the lattice at all moments in time.\n",
    "    \"\"\"\n",
    "\n",
    "    assert c_init.ndim == 3, 'input array must be 3-dimensional'\n",
    "    assert all([c_init.shape[i-1] == c_init.shape[i] for i in range(3)]), 'lattice must have equal size along each dimension'\n",
    "\n",
    "    # Determine number of lattice rows/columns\n",
    "    N = c_init.shape[0]\n",
    "\n",
    "    # Save update factor\n",
    "    Ddtdx2 = D * dt / (dx ** 2)\n",
    "\n",
    "    if  Ddtdx2 > 0.5:\n",
    "        print(\"Warning: inappropriate scaling of dx and dt, may result in an unstable simulation.\")\n",
    "\n",
    "    # Determine number of frames\n",
    "    n_frames = int(np.floor(t_max / dt)) + 1\n",
    "    print(f\"Simulation running for {n_frames} steps on a lattice of size {np.array(c_init.shape) * dx} mm.\")\n",
    "\n",
    "    # Array for storing lattice states\n",
    "    # c_evolution = np.zeros((n_save_frames + 1, N, N))\n",
    "    # times = np.zeros(n_save_frames + 1)\n",
    "    # save_interval = np.floor(n_frames / n_save_frames)\n",
    "    # save_ct = 0\n",
    "    time_thresh = None\n",
    "\n",
    "    # Initialise lattice states\n",
    "    print(\"Saving first lattice to device.\")\n",
    "    c_A_gpu = cuda.to_device(c_init)\n",
    "    print(\"Saving second lattice to device.\")\n",
    "    c_B_gpu = cuda.device_array_like(c_init)\n",
    "    print(\"Lattices saved to device.\")\n",
    "    c_grids = [c_A_gpu, c_B_gpu]\n",
    "\n",
    "    kernel_blocks, kernel_threads = invoke_smart_kernel(N)\n",
    "\n",
    "    for t in range(n_frames):\n",
    "\n",
    "        print(f\"Frame {t} of {n_frames}\", end=\"\\r\")\n",
    "\n",
    "        c_curr = c_grids[t%2]\n",
    "        c_next = c_grids[(t+1)%2]\n",
    "        update_GPU[kernel_blocks, kernel_threads](c_curr, c_next, Ddtdx2)\n",
    "\n",
    "        # Save time if threshold is reached\n",
    "        if c_thresh is not None and time_thresh is None:\n",
    "            if cuda.reduce(c_grids[(t+1)%2].ravel(), cuda.maximum) < c_thresh:\n",
    "                time_thresh = t * dt\n",
    "\n",
    "        # Save frame\n",
    "        # if t % save_interval == 0:\n",
    "        #     c_evolution[save_ct] = c_grids[(t+1)%2].copy_to_host()\n",
    "        #     times[save_ct] = t * dt\n",
    "        #     save_ct += 1\n",
    "\n",
    "    c_final = c_grids[(n_frames+1)%2].copy_to_host()\n",
    "\n",
    "    return c_final, time_thresh"
   ]
  },
  {
   "cell_type": "markdown",
   "metadata": {},
   "source": [
    "## 3. Experimental setup"
   ]
  },
  {
   "cell_type": "code",
   "execution_count": null,
   "metadata": {},
   "outputs": [
    {
     "name": "stdout",
     "output_type": "stream",
     "text": [
      "Simulation running for 10001 steps on a lattice of size [1. 1. 1.] mm.\n",
      "Saving first lattice to device.\n",
      "Saving second lattice to device.\n",
      "Lattices saved to device.\n",
      "Frame 0 of 10001\r"
     ]
    },
    {
     "name": "stderr",
     "output_type": "stream",
     "text": [
      "c:\\Users\\mihbo\\AppData\\Local\\Programs\\Python\\Python312\\Lib\\site-packages\\numba\\cuda\\dispatcher.py:536: NumbaPerformanceWarning: \u001b[1mGrid size 1 will likely result in GPU under-utilization due to low occupancy.\u001b[0m\n",
      "  warn(NumbaPerformanceWarning(msg))\n"
     ]
    },
    {
     "name": "stdout",
     "output_type": "stream",
     "text": [
      "Frame 1038 of 10001\r"
     ]
    }
   ],
   "source": [
    "# # Run simulation\n",
    "c_thresh = 0.1 * c_spore_init\n",
    "D = 0.0006\n",
    "t_max = 1\n",
    "c_final, time_thresh = diffusion_time_dependent_GPU(c_lattice, t_max=t_max, D=D, dx=dx, dt=0.0001, n_save_frames=4, c_thresh=c_thresh)\n",
    "\n",
    "# Check with analytical solution\n",
    "# spore_vol = 1.25e-7\n",
    "# print(f\"Total concentration at final step: {np.sum(c_evolution[-1])}\")\n",
    "# c_analytical = diffusion_time_dependent_analytical(c_spore_init, D, t_max, spore_vol)\n",
    "# print(f\"Numerical solution at spore for t_max={t_max}: {c_evolution[-1, spore_idx[0], spore_idx[1]]}\")\n",
    "# print(f\"Analytical solution at spore for t_max={t_max}: {c_analytical}\")"
   ]
  }
 ],
 "metadata": {
  "kernelspec": {
   "display_name": "Python 3",
   "language": "python",
   "name": "python3"
  },
  "language_info": {
   "codemirror_mode": {
    "name": "ipython",
    "version": 3
   },
   "file_extension": ".py",
   "mimetype": "text/x-python",
   "name": "python",
   "nbconvert_exporter": "python",
   "pygments_lexer": "ipython3",
   "version": "3.12.4"
  }
 },
 "nbformat": 4,
 "nbformat_minor": 2
}
