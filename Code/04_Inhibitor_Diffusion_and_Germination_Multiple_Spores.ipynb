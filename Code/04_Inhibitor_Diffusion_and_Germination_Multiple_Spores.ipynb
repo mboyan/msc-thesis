{
 "cells": [
  {
   "cell_type": "markdown",
   "metadata": {},
   "source": [
    "# Inhibitor Diffusion and Germination - Multiple Spores\n",
    "\n",
    "## Numerical experiments - Week 50/2024\n",
    "\n",
    "_Boyan Mihaylov, MSc Computational Science (UVA/VU)_"
   ]
  },
  {
   "cell_type": "markdown",
   "metadata": {},
   "source": [
    "## Prerequisite libraries"
   ]
  },
  {
   "cell_type": "markdown",
   "metadata": {},
   "source": [
    "From this point on, the code is structured in Python modules, which are imported into the notebooks."
   ]
  },
  {
   "cell_type": "code",
   "execution_count": 23,
   "metadata": {},
   "outputs": [],
   "source": [
    "import numpy as np\n",
    "import matplotlib.pyplot as plt\n",
    "from numba import jit, cuda, float32\n",
    "import matplotlib.gridspec as gridspec\n",
    "\n",
    "from importlib import reload\n",
    "import setup as st\n",
    "import diffusion as df\n",
    "import conversions as conv"
   ]
  },
  {
   "cell_type": "code",
   "execution_count": 50,
   "metadata": {},
   "outputs": [
    {
     "data": {
      "text/plain": [
       "<module 'conversions' from 'c:\\\\Users\\\\mihbo\\\\Documents\\\\GitHub\\\\msc-thesis\\\\Code\\\\conversions.py'>"
      ]
     },
     "execution_count": 50,
     "metadata": {},
     "output_type": "execute_result"
    }
   ],
   "source": [
    "reload(st)\n",
    "reload(df)\n",
    "reload(conv)"
   ]
  },
  {
   "cell_type": "code",
   "execution_count": 51,
   "metadata": {},
   "outputs": [
    {
     "name": "stdout",
     "output_type": "stream",
     "text": [
      "Conversion: 0.00100000000000000 micrometers^-3\n",
      "635\n",
      "Populating volume of 256047875 micrometers^3 with 2.56047875e+17 spores, 635000.0 spores per dimension\n",
      "Spore spacing: 0.001 micrometers\n"
     ]
    }
   ],
   "source": [
    "N = 127\n",
    "dx = 5\n",
    "spore_density = 1e9 # spores per mL\n",
    "converted_density = conv.inverse_mL_to_micrometers_cubed(spore_density)\n",
    "\n",
    "spore_coords = st.populate_spore_grid_coords(N, dx, spore_density)\n",
    "\n",
    "# print(spore_coords[0].shape)"
   ]
  },
  {
   "cell_type": "code",
   "execution_count": null,
   "metadata": {},
   "outputs": [],
   "source": []
  }
 ],
 "metadata": {
  "kernelspec": {
   "display_name": "base",
   "language": "python",
   "name": "python3"
  },
  "language_info": {
   "codemirror_mode": {
    "name": "ipython",
    "version": 3
   },
   "file_extension": ".py",
   "mimetype": "text/x-python",
   "name": "python",
   "nbconvert_exporter": "python",
   "pygments_lexer": "ipython3",
   "version": "3.12.3"
  }
 },
 "nbformat": 4,
 "nbformat_minor": 2
}
