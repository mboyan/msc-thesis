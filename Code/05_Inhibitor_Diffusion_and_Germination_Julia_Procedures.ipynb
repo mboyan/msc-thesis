{
 "cells": [
  {
   "cell_type": "markdown",
   "metadata": {},
   "source": [
    "# Inhibitor Diffusion and Germination - Julia Procedures\n",
    "\n",
    "## Numerical experiments - Week 03/2025\n",
    "\n",
    "_Boyan Mihaylov, MSc Computational Science (UVA/VU)_"
   ]
  },
  {
   "cell_type": "markdown",
   "metadata": {},
   "source": [
    "## Prerequisite libraries"
   ]
  },
  {
   "cell_type": "markdown",
   "metadata": {},
   "source": [
    "With rising complexity of the simulations, performance issues need to be tackled. For this reason, a comparative study of a diffusion solver programmed in Julia is compared to its equivalent in Python."
   ]
  },
  {
   "cell_type": "code",
   "execution_count": null,
   "metadata": {},
   "outputs": [],
   "source": []
  }
 ],
 "metadata": {
  "language_info": {
   "name": "python"
  }
 },
 "nbformat": 4,
 "nbformat_minor": 2
}
