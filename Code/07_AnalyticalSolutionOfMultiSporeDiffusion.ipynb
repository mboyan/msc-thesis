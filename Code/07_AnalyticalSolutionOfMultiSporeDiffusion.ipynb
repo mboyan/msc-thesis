{
 "cells": [
  {
   "cell_type": "markdown",
   "metadata": {},
   "source": [
    "# 07. Analytical Solution of Multi-spore Diffusion\n",
    "## Numerical experiments - Week 03/2025\n",
    "\n",
    "_Boyan Mihaylov, MSc Computational Science (UVA/VU)_"
   ]
  },
  {
   "cell_type": "markdown",
   "metadata": {},
   "source": [
    "## 1. Derivation of an analytical solution"
   ]
  },
  {
   "cell_type": "markdown",
   "metadata": {},
   "source": [
    "The simple permeation scheme, in which the concentration drop, $\\Delta{c}{(t)}=c_{\\textrm{in}}-c_{\\textrm{out}}$, across the interface of the spore relaxes exponentially,\n",
    "\n",
    "$$\n",
    "\\begin{equation}\n",
    "\\Delta{c}{(t)}=\\Delta{c}{(0)}e^{-t/\\tau},\n",
    "\\end{equation}\n",
    "$$\n",
    "\n",
    "is only valid for the case when the outside concentration $c_{\\textrm{out}}$ is constant. However, when the medium is populated with spores at a significant density, the inhibitor released from the ensemble accumulates in the environment and becomes a non-negligible time-dependent variable. Furthermore, the volume excluded by those spores may become an important factor.\n",
    "\n",
    "One fundamental assumption of the simple permeation model that can be maintained is the considerably faster diffusion in the medium compared to the permeation rate at the spore interface. Because of this, one can assume that the inhibitor molecules quickly distribute in the medium and it is not necessary to explicitly solve the diffusion equation in the outside domain.\n",
    "\n",
    "Imposing the simplification that spores at an inoculum density of $\\rho_s$ are positioned in a regular grid, a designated volume per spore can be defined as\n",
    "\n",
    "$$\n",
    "\\begin{equation}\n",
    "V_{\\textrm{cell}}=\\frac{1}{\\rho}.\n",
    "\\end{equation}\n",
    "$$\n",
    "\n",
    "Even if molecules diffuse over its boundaries into adjacent volumes, this occurs in a symmetric fashion, so that the net quantity of molecules within a volume remains preserved. Consecutively, one can separate this volume into the space occupied by the spore, $V_s$, and that remaining for the medium, $V_{\\textrm{free}}=V_{\\textrm{cell}}-V_s$. A volume fraction, denoting the percentage per unit volume occupied by the conidia, can be defined as $\\phi=\\rho V_s$.\n",
    "\n",
    "The flux out of a sphere is still driven by the concentration jump, multiplied by the permeability across the entire spore surface:\n",
    "\n",
    "$$\n",
    "\\begin{equation}\n",
    "J{(t)}=P_sA\\left[c_{\\textrm{in}}{(t)}-c_{\\textrm{out}}{(t)}\\right].\n",
    "\\end{equation}\n",
    "$$\n",
    "\n",
    "The rate of particles exiting the spore is expressed as\n",
    "\n",
    "$$\n",
    "\\begin{equation}\n",
    "\\frac{d{N_{\\textrm{in}}}}{d{t}}=\\frac{d{(V_sc_{\\textrm{in}})}}{d{t}}=-J{(t)}=-P_sA\\left[c_{\\textrm{in}}{(t)}-c_{\\textrm{out}}{(t)}\\right].\n",
    "\\end{equation}\n",
    "$$\n",
    "\n",
    "Thus, the change in concentration in the spore can be written as\n",
    "\n",
    "$$\n",
    "\\begin{equation}\n",
    "\\frac{d{c_{\\textrm{in}}}}{d{t}}=-\\left(\\frac{P_sA}{V_s}\\right)\\left[c_{\\textrm{in}}{(t)}-c_{\\textrm{out}}{(t)}\\right]=-\\tau^{-1}\\left[c_{\\textrm{in}}{(t)}-c_{\\textrm{out}}{(t)}\\right].\n",
    "\\end{equation}\n",
    "$$\n",
    "\n",
    "The rate of particles entering the medium is equal to the flux, with an opposite sign:\n",
    "\n",
    "$$\n",
    "\\begin{equation}\n",
    "\\frac{d{N_{\\textrm{out}}}}{d{t}}=\\frac{d{(V_{\\textrm{free}}\\ c_{\\textrm{out}})}}{d{t}}=J{(t)}=P_sA\\left[c_{\\textrm{in}}{(t)}-c_{\\textrm{out}}{(t)}\\right].\n",
    "\\end{equation}\n",
    "$$\n",
    "\n",
    "Consecutively,\n",
    "\n",
    "$$\n",
    "\\begin{equation}\n",
    "\\frac{d{c_{\\textrm{out}}}}{d{t}}=\\left(\\frac{P_sA}{V_{\\textrm{free}}}\\right)\\left[c_{\\textrm{in}}{(t)}-c_{\\textrm{out}}{(t)}\\right]=\\tau^{-1}\\frac{V_s}{V_{\\textrm{free}}}\\left[c_{\\textrm{in}}{(t)}-c_{\\textrm{out}}{(t)}\\right].\n",
    "\\end{equation}\n",
    "$$\n",
    "\n",
    "It is easy to see that, in the limit $t\\to\\infty$, the concentrations will equilibrate to the same value, which would stop the release from the spore. The steady-state concentration can be obtained by observing the mass-conservation principle. At equilibrium, $c_{\\textrm{eq}}=c_{\\textrm{in}}{(\\infty)}=c_{\\textrm{out}}{(\\infty)}$ and the $M$ molecules are evenly distributed in the reference volume:\n",
    "\n",
    "$$\n",
    "\\begin{equation}\n",
    "M=\\left(V_s+V_{\\textrm{free}}\\right)c_{\\textrm{eq}}=\\frac{1}{\\rho_s}c_{\\textrm{eq}}.\n",
    "\\end{equation}\n",
    "$$\n",
    "\n",
    "In the initial condition,\n",
    "\n",
    "$$\n",
    "\\begin{equation}\n",
    "M=V_s\\ c_{\\textrm{in}}{(0)}+V_{\\textrm{free}}\\ c_{\\textrm{out}}{(0)}.\n",
    "\\end{equation}\n",
    "$$\n",
    "\n",
    "The initial concentration in the spore, $c_{\\textrm{in}}{(0)}=c_0$, and the initial external concentration $c_{\\textrm{out}}{(0)}=c_{\\textrm{ex}}$, are constants. Equating the mass expressions yields\n",
    "\n",
    "$$\n",
    "\\begin{equation}\n",
    "\\frac{1}{\\rho_s}c_{\\textrm{eq}}=V_s\\ c_0+V_{\\textrm{free}}\\ c_{\\textrm{ex}}=V_s\\ c_0+\\left(\\frac{1}{\\rho}-V_s\\right)\\ c_{\\textrm{ex}}.\n",
    "\\end{equation}\n",
    "$$\n",
    "\n",
    "Therefore,\n",
    "\n",
    "$$\n",
    "\\begin{equation}\n",
    "c_{\\textrm{eq}}=\\rho_s\\left[V_s\\ c_0+\\left(\\frac{1}{\\rho}-V_s\\right)\\ c_{\\textrm{ex}}\\right]=\\phi c_0+(1-\\phi)c_{\\textrm{ex}}.\n",
    "\\tag{3}\n",
    "\\end{equation}\n",
    "$$\n",
    "\n",
    "Coming back to the system of coupled ODEs,\n",
    "\n",
    "$$\n",
    "\\begin{align}\n",
    "&\\dot{c}_{\\textrm{in}}=\\tau^{-1}\\left(c_{\\textrm{in}}-c_{\\textrm{out}}\\right)\\\\\n",
    "&\\dot{c}_{\\textrm{out}}=\\tau^{-1}\\frac{V_s}{V_{\\textrm{free}}}\\left(c_{\\textrm{in}}-c_{\\textrm{out}}\\right),\n",
    "\\end{align}\n",
    "$$\n",
    "\n",
    "the eigenvalues of the matrix of coefficients,\n",
    "\n",
    "$$\n",
    "\\begin{equation}\n",
    "A=\\tau^{-1}\\begin{bmatrix}\n",
    "-1 & 1\\\\\n",
    "\\frac{V_s}{V_{\\textrm{free}}} & -\\frac{V_s}{V_{\\textrm{free}}}\n",
    "\\end{bmatrix}\n",
    "\\end{equation}\n",
    "$$\n",
    "\n",
    "are found to be $\\lambda_0=0$ and $\\lambda_1=-\\tau^{-1}\\left(1+\\frac{V_s}{V_{\\textrm{free}}}\\right)$. The latter governs the decay toward equilibrium and can be rewritten as\n",
    "\n",
    "$$\n",
    "\\begin{equation}\n",
    "\\lambda_1=-\\tau^{-1}\\left(1+\\frac{V_s}{V_{\\textrm{free}}}\\right)=-\\tau^{-1}\\left(\\frac{V_{\\textrm{free}}+V_s}{V_{\\textrm{free}}}\\right)=-\\tau^{-1}\\left(\\frac{V_{\\textrm{cell}}}{V_{\\textrm{cell}}-V_s}\\right)=-\\tau^{-1}\\left(\\frac{1}{1-\\phi}\\right).\n",
    "\\end{equation}\n",
    "$$\n",
    "\n",
    "Since the standard solution of both ODEs is an exponential decay, its effective characteristic time is computed as the reciprocal of $\\lambda_1$:\n",
    "\n",
    "$$\n",
    "\\begin{equation}\n",
    "\\tau_{\\textrm{eff}}=-\\frac{1}{\\lambda_1}=\\tau(1-\\phi).\n",
    "\\end{equation}\n",
    "$$\n",
    "\n",
    "One can define the deviation of the internal concentration from equilibrium as\n",
    "\n",
    "$$\n",
    "\\begin{equation}\n",
    "\\delta{(t)}=c_{\\textrm{in}}{(t)}-c_{\\textrm{eq}}\n",
    "\\end{equation}\n",
    "$$\n",
    "\n",
    "and it can be shown that this deviation relaxes to zero with the characteristic time $\\tau_{\\textrm{eff}}$:\n",
    "\n",
    "$$\n",
    "\\begin{equation}\n",
    "\\delta{(t)}=\\delta{(0)}e^{-t/\\tau_{\\textrm{eff}}}.\n",
    "\\end{equation}\n",
    "$$\n",
    "\n",
    "Since $\\delta{(0)}=c_0-c_{\\textrm{eq}}$,\n",
    "\n",
    "$$\n",
    "\\begin{equation}\n",
    "c_{\\textrm{in}}{(t)}=c_{\\textrm{eq}}+(c_0-c_{\\textrm{eq}})e^{-t/\\tau_{\\textrm{eff}}},\n",
    "\\end{equation}\n",
    "$$\n",
    "\n",
    "Plugging in the term for $c_{\\textrm{eq}}$ yields\n",
    "\n",
    "$$\n",
    "\\begin{equation}\n",
    "c_{\\textrm{in}}{(t)}=\\phi c_0+(1-\\phi)\\left[c_{\\textrm{ex}}+\\left(c_0-c_{\\textrm{ex}}\\right)e^{-\\frac{t}{\\tau(1-\\phi)}}\\right].\n",
    "\\end{equation}\n",
    "$$"
   ]
  },
  {
   "cell_type": "markdown",
   "metadata": {},
   "source": [
    "## 2. Numerical Procedure"
   ]
  },
  {
   "cell_type": "markdown",
   "metadata": {},
   "source": [
    "The new analytical procedure is implemented as a numerical algorithm in the function below."
   ]
  },
  {
   "cell_type": "code",
   "execution_count": null,
   "metadata": {},
   "outputs": [],
   "source": [
    "import numpy as np\n",
    "import matplotlib.pyplot as plt\n",
    "from scipy.special import erfc\n",
    "from importlib import reload\n",
    "import diffusion as diff"
   ]
  },
  {
   "cell_type": "code",
   "execution_count": null,
   "metadata": {},
   "outputs": [],
   "source": [
    "def concentration_spore_density(t, c0, c_ex, src_density, spore_diameter, Ps):\n",
    "    \"\"\"\n",
    "    Compute the concentration in the spore at time t_max\n",
    "    given a density of releasing spores.\n",
    "    inputs:\n",
    "        t (np.ndarray): times in seconds\n",
    "        c0 (float): initial concentration in the spore (M)\n",
    "        c_ex (float): concentration in the external medium (M)\n",
    "        src_density (float): density of spores (spores/um^3)\n",
    "        spore_diameter (float): diameter of the spore (um)\n",
    "        Ps (float): permeability of the spore (um/s)\n",
    "    returns:\n",
    "        results (float): concentration in the spore at time t (M)\n",
    "    \"\"\"\n",
    "\n",
    "    spore_radius = 0.5 * spore_diameter\n",
    "    spore_volume = (4/3) * np.pi * (spore_radius**3)  # um^3\n",
    "    spore_area = 4 * np.pi * (spore_radius**2)  # um^2\n",
    "    tau = spore_volume / (spore_area * Ps)  # s\n",
    "    phi = src_density * spore_volume  # um^3/mL\n",
    "\n",
    "    c_in = phi * c0 + (1 - phi) * (c_ex + (c0 - c_ex) * np.exp(-t / tau))  # M\n",
    "\n",
    "    return c_in"
   ]
  },
  {
   "cell_type": "markdown",
   "metadata": {},
   "source": [
    "## 3. Test and Comparison"
   ]
  },
  {
   "cell_type": "markdown",
   "metadata": {},
   "source": [
    "Next, a small lattice of size $N=8$ ($L=40\\ \\mu\\textrm{m}$) is used with a single cenral source. The experiment time is set to $t=14400$ seconds and the measured concentrations are compared to the solutions of the analytical solutions - one using the single-spore permeation scheme and another accounting for the equivalent density of spores at the given lattice size."
   ]
  },
  {
   "cell_type": "code",
   "execution_count": 3,
   "metadata": {},
   "outputs": [
    {
     "name": "stdout",
     "output_type": "stream",
     "text": [
      "3114.853672324434\n",
      "3D simulation with 3D periodic spores\n",
      "Using D = 600, Db = 0.0013376765347559091, Ps = 0.0002675353069511818\n",
      "Simulation running for 2880000 steps on a lattice of size [40 40 40] microns.\n",
      "Frame 0 of 2880000\r"
     ]
    },
    {
     "name": "stderr",
     "output_type": "stream",
     "text": [
      "c:\\Users\\mihbo\\anaconda3\\Lib\\site-packages\\numba\\cuda\\dispatcher.py:536: NumbaPerformanceWarning: \u001b[1mGrid size 1 will likely result in GPU under-utilization due to low occupancy.\u001b[0m\n",
      "  warn(NumbaPerformanceWarning(msg))\n"
     ]
    },
    {
     "name": "stdout",
     "output_type": "stream",
     "text": [
      "Frame 2879999 of 2880000\r"
     ]
    }
   ],
   "source": [
    "# Inputs\n",
    "N = 8  # Number of grid points\n",
    "dx = 5  # Grid spacing in microns\n",
    "D = 600  # micron^2/s\n",
    "Ps = 0.0002675353069511818 # microns/s\n",
    "V = 125 # microns^3\n",
    "A = 150 # microns^2\n",
    "\n",
    "sample_dist = 8\n",
    "src_idx = (N//2, N//2, N//2)\n",
    "\n",
    "c0 = 1.018  # Initial concentration at sources in M\n",
    "t_max = 14400  # Maximum time in seconds\n",
    "n_times = 100  # Number of time points\n",
    "\n",
    "# Compute the concentration at each observation point using the analytical solution\n",
    "src_density = 1 / (N * dx) ** 3\n",
    "ts_analytical = np.linspace(0, t_max, n_times+1)  # Time points\n",
    "c_analytical_ss = diff.permeation_time_dependent_analytical(c0, 0.0, ts_analytical, Ps, A, V)\n",
    "c_analytical_ms = concentration_spore_density(ts_analytical, c0, 0.0, src_density, dx, Ps)\n",
    "\n",
    "# Compute the concentration at each observation point using the numerical solution\n",
    "c_init = np.zeros((N, N, N))\n",
    "c_init[src_idx] = c0\n",
    "c_numerical, ts_numerical, _ = diff.diffusion_time_dependent_GPU(c_init, t_max, D, Db=None, Ps=Ps, n_save_frames=n_times, spore_idx=src_idx)"
   ]
  },
  {
   "cell_type": "markdown",
   "metadata": {},
   "source": [
    "The results from the simulations are compared in a plot."
   ]
  },
  {
   "cell_type": "code",
   "execution_count": 6,
   "metadata": {},
   "outputs": [
    {
     "data": {
      "image/png": "[encoded data removed]",
      "text/plain": [
       "<Figure size 600x400 with 1 Axes>"
      ]
     },
     "metadata": {},
     "output_type": "display_data"
    }
   ],
   "source": [
    "fig, ax = plt.subplots(figsize=(6, 4))\n",
    "ax.plot(ts_analytical[:], c_analytical_ms[:], label='Analytical, single source')\n",
    "ax.plot(ts_analytical[:], c_analytical_ms[:], label='Analytical, multi-source')\n",
    "ax.plot(ts_numerical[:], c_numerical[:, src_idx[0], src_idx[1], src_idx[2]], label='Numerical')\n",
    "ax.set_xlabel('Time (s)')\n",
    "ax.set_ylabel('Concentration (M)')\n",
    "ax.set_title('Concentration in the spore over time')\n",
    "ax.legend()\n",
    "ax.grid()\n",
    "ax.set_yscale('log')\n",
    "plt.show()"
   ]
  },
  {
   "cell_type": "code",
   "execution_count": 14,
   "metadata": {},
   "outputs": [
    {
     "name": "stdout",
     "output_type": "stream",
     "text": [
      "Initial total concentration: 1.018\n",
      "Final total concentration: 1.5147190947236482\n"
     ]
    }
   ],
   "source": [
    "print(f\"Initial total concentration: {np.sum(c_numerical[0, :, :, :])}\")\n",
    "print(f\"Final total concentration: {np.sum(c_numerical[-1, :, :, :])}\")"
   ]
  },
  {
   "cell_type": "markdown",
   "metadata": {},
   "source": [
    "The two analytical solutions remain closely aligned even at the considerable density of $1.5625\\times 10^7$ spores/mL, while the numerical solution shows clear signs of saturation toward the fourth hour. Analysis of the numerical solution, however, shows that the net amount of inhibitor has increased toward the end of the simulation - an inconsistency that needs to be investigated."
   ]
  }
 ],
 "metadata": {
  "kernelspec": {
   "display_name": "base",
   "language": "python",
   "name": "python3"
  },
  "language_info": {
   "codemirror_mode": {
    "name": "ipython",
    "version": 3
   },
   "file_extension": ".py",
   "mimetype": "text/x-python",
   "name": "python",
   "nbconvert_exporter": "python",
   "pygments_lexer": "ipython3",
   "version": "3.12.3"
  }
 },
 "nbformat": 4,
 "nbformat_minor": 2
}
