{
 "cells": [
  {
   "cell_type": "markdown",
   "metadata": {},
   "source": [
    "# 07. Analytical Solution of Multi-spore Diffusion\n",
    "## Numerical experiments - Week 03/2025\n",
    "\n",
    "_Boyan Mihaylov, MSc Computational Science (UVA/VU)_"
   ]
  },
  {
   "cell_type": "markdown",
   "metadata": {},
   "source": [
    "## 1. Derivation of Analytical Scheme"
   ]
  },
  {
   "cell_type": "markdown",
   "metadata": {},
   "source": [
    "The general solution for the concentration on a 3D lattice with an initial delta pulse at $(x,y,z)=(0,0,0)$ of size $c_0\\times V_s$, where $c_0$ is the initial concentration in the spore and $V_s$ is the volume of the source, follows the Green's function:\n",
    "\n",
    "$$\n",
    "\\begin{equation}\n",
    "c(x,y,z,t)=G(x,y,z,t)=\\frac{c_0V_s}{(4\\pi Dt)^{3/2}}e^{-\\frac{\\Delta{x}^2+\\Delta{y}^2+\\Delta{z}^2}{4Dt}}\n",
    "\\end{equation}\n",
    "$$\n",
    "\n",
    "Or, alternatively, defining $r=\\sqrt{\\Delta{x}^2+\\Delta{y}^2+\\Delta{z}^2}$ as the distance from the measured point to the source:\n",
    "\n",
    "$$\n",
    "\\begin{equation}\n",
    "c(r,t)=G(r,t)=\\frac{c_0V_s}{(4\\pi Dt)^{3/2}}e^{-\\frac{r^2}{4Dt}}\n",
    "\\end{equation}\n",
    "$$\n",
    "\n",
    "It is assumed for now that the spores are small compared to the scale of the observed domain and are a negligable obstacle for diffusion. However, they do add new concentration to the system, at a rate determined by the permeation through their cell wall. If this rate is denoted as $Q$, the concentration at a point in space incorporates the accumulation of solute added to the system over time:\n",
    "\n",
    "$$\n",
    "\\begin{equation}\n",
    "c(r,t)=\\int_0^t{Q{(t')}G{(r, t-t')}dt'}\n",
    "\\end{equation}\n",
    "$$\n",
    "\n",
    "The inhibitor release rate at time $t$ can be expressed as\n",
    "\n",
    "$$\n",
    "\\begin{equation}\n",
    "Q{(t)}=JA,\n",
    "\\end{equation}\n",
    "$$\n",
    "\n",
    "where $J$ is the flux through the cell wall and $A$ is the spore surface area. The flux is defined as\n",
    "\n",
    "$$\n",
    "\\begin{equation}\n",
    "J=P_s\\Delta{c_s{(t)}},\n",
    "\\end{equation}\n",
    "$$\n",
    "\n",
    "with $P_s$ being the permeation constant (measured in units of velocity) and $\\Delta{c_s{(t)}}$ the concentration difference between the spore and the exterior. This concentration difference evolves from an initial difference $\\Delta{c_s{(0)}}$ as follows:\n",
    "\n",
    "$$\n",
    "\\begin{equation}\n",
    "\\Delta{c_s{(t)}}=\\Delta{c_s{(0)}}e^{-t/\\tau},\n",
    "\\end{equation}\n",
    "$$\n",
    "\n",
    "where $\\tau=\\frac{V_s}{AP_s}$. The initial concentration drop can be thought of as the difference between the concentration at the interior of the spore interface and the concentration immediately outside of it. Following the previous assumption about the spore neglected as an obstacle, the location just outside of it is the entry point for new concentration, namely $(x_0, y_0, z_0)$. Therefore:\n",
    "\n",
    "$$\n",
    "\\begin{equation}\n",
    "\\Delta{c_s{(0)}}=c_0-c(x_0,y_0,z_0,0)\n",
    "\\end{equation}\n",
    "$$\n",
    "\n",
    "But since no prior inhibitor is assumed just outside the spore at $t=0$, this simplifies to\n",
    "\n",
    "$$\n",
    "\\begin{equation}\n",
    "\\Delta{c_s{(0)}}=c_0\n",
    "\\end{equation}\n",
    "$$\n",
    "\n",
    "Thus, the concentration transport at time $t$ amounts to\n",
    "\n",
    "$$\n",
    "\\begin{equation}\n",
    "Q{(t)}=AP_sc_0e^{-\\frac{P_sAt}{V_s}}.\n",
    "\\end{equation}\n",
    "$$\n",
    "\n",
    "Plugging this equation into the expression for the concentration and substituting the respective Green's function yields:\n",
    "\n",
    "$$\n",
    "\\begin{equation}\n",
    "c(r,t)=\\int_0^t{AP_sc_0e^{-\\frac{P_sAt'}{V_s}}\\frac{c_0V_s}{(4\\pi D(t-t'))^{3/2}}e^{-\\frac{r^2}{4D(t-t')}}dt'}\n",
    "\\end{equation}\n",
    "$$\n",
    "\n",
    "The integral can be simplified by defining $\\tau'=t-t'$, such that $t'=t-\\tau'$ and $dt'=-d\\tau'$:\n",
    "\n",
    "$$\n",
    "\\begin{equation}\n",
    "c(r,t)=AP_s\\frac{c_0^2V_s}{(4\\pi D)^{3/2}}\\int_0^t{\\frac{1}{\\tau'^{3/2}}\\exp{\\left(-\\frac{P_sA(t-\\tau')}{V_s}-\\frac{r^2}{4D\\tau}\\right)}d\\tau'}\n",
    "\\end{equation}\n",
    "$$\n",
    "\n",
    "$$\n",
    "\\begin{equation}\n",
    "c(r,t)=\\frac{AV_sP_sc_0^2}{(4\\pi D)^{3/2}}e^{-\\frac{P_sAt}{V_s}}\\int_0^t{\\tau'^{-3/2}\\exp{\\left(-\\frac{P_sA\\tau'}{V_s}-\\frac{r^2}{4D\\tau}\\right)}d\\tau'}\n",
    "\\end{equation}\n",
    "$$\n",
    "\n",
    "Now, assuming that there are $M$ sources which start releasing simultaneously with the same $c_0$, the resulting concentration over the lattice is simply the sum of the contributions from each source:\n",
    "\n",
    "$$\n",
    "\\begin{equation}\n",
    "c(x,y,z,t)=\\frac{AV_sP_sc_0^2}{(4\\pi D)^{3/2}}e^{-\\frac{P_sAt}{V_s}}\\sum_{i=0}^{M}{\\int_0^t{\\tau'^{-3/2}\\exp{\\left(-\\frac{P_sA\\tau'}{V_s}-\\frac{r_i^2}{4D\\tau}\\right)}d\\tau'}},\n",
    "\\end{equation}\n",
    "$$\n",
    "\n",
    "where $r_i=\\sqrt{\\Delta{x_i}^2+\\Delta{y_i}^2+\\Delta{z_i}^2}$ is the respective distance to a single source with index $i$."
   ]
  },
  {
   "cell_type": "markdown",
   "metadata": {},
   "source": [
    "## 2. Numerical Procedure"
   ]
  },
  {
   "cell_type": "markdown",
   "metadata": {},
   "source": [
    "The evaluation of $c(x,y,z,t)$ is performed by computing the prefactor and iteratively summing the contributions from the separate spore sources. The integral is thereby solved using the trapezoid rule with a step of $\\Delta{\\tau'}=0.01$."
   ]
  },
  {
   "cell_type": "code",
   "execution_count": 4,
   "metadata": {},
   "outputs": [],
   "source": [
    "import numpy as np\n",
    "import matplotlib.pyplot as plt\n",
    "from importlib import reload\n",
    "import diffusion as diff"
   ]
  },
  {
   "cell_type": "code",
   "execution_count": 6,
   "metadata": {},
   "outputs": [],
   "source": [
    "def concentration_from_permeating_sources(x, t, x_sources, c0, D, Ps, A, V, dt=0.01):\n",
    "    \"\"\"\n",
    "    Compute the concentration at a given point and time\n",
    "    due to singular permeating sources. The integral is \n",
    "    computed using the trapezoidal rule.\n",
    "    inputs:\n",
    "        x (numpy array): 3D positions of the observation point\n",
    "        t (float): time of observation\n",
    "        x_sources (numpy array): 3D positions of the sources\n",
    "        c0 (float): initial concentration at the sources\n",
    "        D (float): diffusion coefficient\n",
    "        Ps (float): source release rate\n",
    "        A (float): source area\n",
    "        V (float): source volume\n",
    "        dt (float): time step size\n",
    "    \"\"\"\n",
    "\n",
    "    prefactor = A * Ps * V * c0 ** 2 / np.power(4 * np.pi * D, 3/2) * np.exp(-Ps*A*t/V)\n",
    "    src_sum = 0\n",
    "\n",
    "    # Iterate over sources\n",
    "    for x_i in x_sources:\n",
    "        print(f\"Computing source at {x_i}\")\n",
    "        # Compute the integral over time using the trapezoidal rule\n",
    "        t_vals = np.arange(dt, t+dt, dt)\n",
    "        # print(t_vals)\n",
    "        # print(t)\n",
    "        G = np.zeros((t_vals.shape[0], x.shape[0]))\n",
    "        for i, tau in enumerate(t_vals):\n",
    "            # print(x.shape)\n",
    "            # print(x_i[np.newaxis, :].shape)\n",
    "            exp = np.exp(- Ps * A * tau / V - np.linalg.norm(x - x_i[np.newaxis, :], axis=1)**2 / (4 * D * tau)) * dt\n",
    "            # print(exp.shape)\n",
    "            # print(G.shape)\n",
    "            # print(G[i].shape)\n",
    "            G[i] = exp / np.sqrt(tau ** 3)\n",
    "        src_sum += np.trapz(G, t_vals[:, np.newaxis], axis=0)\n",
    "    \n",
    "    return prefactor * src_sum"
   ]
  },
  {
   "cell_type": "markdown",
   "metadata": {},
   "source": [
    "## 3. Test and Comparison"
   ]
  },
  {
   "cell_type": "markdown",
   "metadata": {},
   "source": [
    "The analytical method is tested for its correctness by several comparisons to numerical simulations with equivalent parameters.\n",
    "\n",
    "First, a lattice of size $N=64$ ($L=320\\mu\\textrm{m}$) is used with a single source at $(x_{0},y_{0},z_{0})=(160, 160, 160)$. The experiment time is set to $t=3600$ and the final concentration is sampled at the locations of the source as well as at an additional point $(x_s, y_s, z_s)=(150, 160, 160)$. This way the source and the second sampling point are positioned close enough to make any near-source diffusion noticeable, while keeping enough distance from the boundary to avoid the influence of its periodicity.\n",
    "\n",
    "The rest of the parameters are set to their values from the previous experiments."
   ]
  },
  {
   "cell_type": "code",
   "execution_count": 12,
   "metadata": {},
   "outputs": [
    {
     "data": {
      "text/plain": [
       "<module 'diffusion' from 'd:\\\\MSc Computational Science\\\\Master Thesis\\\\msc-thesis\\\\Code\\\\diffusion.py'>"
      ]
     },
     "execution_count": 12,
     "metadata": {},
     "output_type": "execute_result"
    }
   ],
   "source": [
    "reload(diff)"
   ]
  },
  {
   "cell_type": "code",
   "execution_count": 25,
   "metadata": {},
   "outputs": [
    {
     "name": "stdout",
     "output_type": "stream",
     "text": [
      "Sources: [[160 160 160]]\n",
      "Observation points: [[160 160 160]\n",
      " [150 160 160]]\n",
      "Computing concentration at time 0.0\n",
      "Computing source at [160 160 160]\n",
      "Computing concentration at time 900.0\n",
      "Computing source at [160 160 160]\n",
      "Computing concentration at time 1800.0\n",
      "Computing source at [160 160 160]\n",
      "Computing concentration at time 2700.0\n",
      "Computing source at [160 160 160]\n",
      "Computing concentration at time 3600.0\n",
      "Computing source at [160 160 160]\n",
      "Analytical solutions at times [   0.  900. 1800. 2700. 3600.]:\n",
      "[[0.00000000e+00 0.00000000e+00]\n",
      " [1.25133112e-06 5.07208411e-07]\n",
      " [9.37900331e-07 3.80508839e-07]\n",
      " [7.02684996e-07 2.85166132e-07]\n",
      " [5.26399744e-07 2.13653669e-07]]\n",
      "3D simulation\n",
      "Using D = 600, Db = 0.0013376765347559091, Ps = 0.0002675353069511818\n",
      "Simulation running for 720000 steps on a lattice of size [320 320 320] microns.\n",
      "Frame 278 of 720000\r"
     ]
    },
    {
     "name": "stderr",
     "output_type": "stream",
     "text": [
      "c:\\Users\\mihbo\\AppData\\Local\\Programs\\Python\\Python312\\Lib\\site-packages\\numba\\cuda\\cudadrv\\devicearray.py:888: NumbaPerformanceWarning: \u001b[1mHost array used in CUDA kernel will incur copy overhead to/from device.\u001b[0m\n",
      "  warn(NumbaPerformanceWarning(msg))\n"
     ]
    },
    {
     "name": "stdout",
     "output_type": "stream",
     "text": [
      "Numerical solutions at times [   0.  720. 1440. 2160. 2880. 3600.]:\n",
      "[[1.01800000e+00 0.00000000e+00]\n",
      " [3.88336182e-06 3.88336182e-06]\n",
      " [3.88336182e-06 3.88336182e-06]\n",
      " [3.88336182e-06 3.88336182e-06]\n",
      " [3.88336182e-06 3.88336182e-06]\n",
      " [3.88336182e-06 3.88336182e-06]]\n"
     ]
    }
   ],
   "source": [
    "# Inputs\n",
    "N = 64  # Number of grid points\n",
    "dx = 5  # Grid spacing in microns\n",
    "D = 600  # micron^2/s\n",
    "Ps = 0.0002675353069511818 # microns/s\n",
    "V = 125 # microns^3\n",
    "A = 150 # microns^2\n",
    "\n",
    "x_sources = np.array([[32, 32, 32]]) * dx  # Source positions\n",
    "x_obs = np.vstack([x_sources, np.array([30, 32, 32]) * dx])  # Observation positions\n",
    "print(f\"Sources: {x_sources}\")\n",
    "print(f\"Observation points: {x_obs}\")\n",
    "\n",
    "c0 = 1.018  # Initial concentration at sources in M\n",
    "t_max = 3600  # Maximum time in seconds\n",
    "n_times = 5  # Number of time points\n",
    "\n",
    "# Compute the concentration at each observation point using the analytical solution\n",
    "ts_analytical = np.linspace(0, t_max, n_times)  # Time points\n",
    "c_analytical_sample = np.zeros((ts_analytical.shape[0], x_obs.shape[0]))\n",
    "for i, t in enumerate(ts_analytical):\n",
    "    print(f\"Computing concentration at time {t}\")\n",
    "    c_analytical_sample[i] = concentration_from_permeating_sources(x_obs, t, x_sources, c0, D, Ps, A, V)\n",
    "print(f\"Analytical solutions at times {ts_analytical}:\\n{c_analytical_sample}\")\n",
    "\n",
    "# Compute the concentration at each observation point using the numerical solution\n",
    "c_init = np.zeros((N, N, N))\n",
    "c_init[32, 32, 32] = c0\n",
    "c_numerical, ts_numerical, _ = diff.diffusion_time_dependent_GPU(c_init, t_max, D, Db=None, Ps=Ps, n_save_frames=n_times, spore_idx=x_sources[0])\n",
    "c_numerical_sample = np.zeros((ts_numerical.shape[0], x_obs.shape[0]))\n",
    "for i, t in enumerate(ts_numerical):\n",
    "    for j, x in enumerate(x_obs):\n",
    "        c_numerical_sample[i, j] = c_numerical[i, int(x[0] / dx), int(x[1] / dx), int(x[2] / dx)]\n",
    "print(f\"Numerical solutions at times {ts_numerical}:\\n{c_numerical_sample}\")"
   ]
  },
  {
   "cell_type": "markdown",
   "metadata": {},
   "source": [
    "The results from the simulations are compared in a plot."
   ]
  },
  {
   "cell_type": "code",
   "execution_count": 28,
   "metadata": {},
   "outputs": [
    {
     "name": "stdout",
     "output_type": "stream",
     "text": [
      "Analytical solutions at times [   0.  900. 1800. 2700. 3600.]:\n",
      "[[0.00000000e+00 0.00000000e+00]\n",
      " [1.25133112e-06 5.07208411e-07]\n",
      " [9.37900331e-07 3.80508839e-07]\n",
      " [7.02684996e-07 2.85166132e-07]\n",
      " [5.26399744e-07 2.13653669e-07]]\n",
      "Numerical solutions at times [   0.  720. 1440. 2160. 2880. 3600.]:\n",
      "[[1.01800000e+00 0.00000000e+00]\n",
      " [3.88336182e-06 3.88336182e-06]\n",
      " [3.88336182e-06 3.88336182e-06]\n",
      " [3.88336182e-06 3.88336182e-06]\n",
      " [3.88336182e-06 3.88336182e-06]\n",
      " [3.88336182e-06 3.88336182e-06]]\n"
     ]
    },
    {
     "data": {
      "image/png": "[encoded data removed]",
      "text/plain": [
       "<Figure size 640x480 with 1 Axes>"
      ]
     },
     "metadata": {},
     "output_type": "display_data"
    }
   ],
   "source": [
    "print(f\"Analytical solutions at times {ts_analytical}:\\n{c_analytical_sample}\")\n",
    "print(f\"Numerical solutions at times {ts_numerical}:\\n{c_numerical_sample}\")\n",
    "\n",
    "fig, ax = plt.subplots()\n",
    "\n",
    "for i in range(x_obs.shape[0]):\n",
    "    ax.semilogy(ts_analytical[1:], c_analytical_sample[1:, i], label=f\"Analytical {x_obs[i]}\")\n",
    "    ax.semilogy(ts_numerical[1:], c_numerical_sample[1:, i], label=f\"Numerical {x_obs[i]}\", linestyle='--')\n"
   ]
  }
 ],
 "metadata": {
  "kernelspec": {
   "display_name": "Python 3",
   "language": "python",
   "name": "python3"
  },
  "language_info": {
   "codemirror_mode": {
    "name": "ipython",
    "version": 3
   },
   "file_extension": ".py",
   "mimetype": "text/x-python",
   "name": "python",
   "nbconvert_exporter": "python",
   "pygments_lexer": "ipython3",
   "version": "3.12.4"
  }
 },
 "nbformat": 4,
 "nbformat_minor": 2
}
