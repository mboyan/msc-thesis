{
 "cells": [
  {
   "cell_type": "markdown",
   "metadata": {},
   "source": [
    "# 08. Integration of Experimental Data\n",
    "\n",
    "## Numerical experiments - Week 04/2025\n",
    "\n",
    "_Boyan Mihaylov, MSc Computational Science (UVA/VU)_"
   ]
  },
  {
   "cell_type": "markdown",
   "metadata": {},
   "source": [
    "## Prerequisite libraries"
   ]
  },
  {
   "cell_type": "code",
   "execution_count": 1,
   "metadata": {},
   "outputs": [
    {
     "name": "stderr",
     "output_type": "stream",
     "text": [
      "\u001b[32m\u001b[1m    Updating\u001b[22m\u001b[39m registry at `C:\\Users\\mihbo\\.julia\\registries\\General.toml`\n",
      "\u001b[32m\u001b[1m   Resolving\u001b[22m\u001b[39m package versions...\n",
      "\u001b[32m\u001b[1m   Installed\u001b[22m\u001b[39m WorkerUtilities ─ v1.6.1\n",
      "\u001b[32m\u001b[1m   Installed\u001b[22m\u001b[39m WeakRefStrings ── v1.4.2\n",
      "\u001b[32m\u001b[1m   Installed\u001b[22m\u001b[39m CodecZlib ─────── v0.7.6\n",
      "\u001b[32m\u001b[1m   Installed\u001b[22m\u001b[39m CSV ───────────── v0.10.15\n",
      "\u001b[32m\u001b[1m    Updating\u001b[22m\u001b[39m `C:\\Users\\mihbo\\.julia\\environments\\v1.10\\Project.toml`\n",
      "  \u001b[90m[336ed68f] \u001b[39m\u001b[92m+ CSV v0.10.15\u001b[39m\n",
      "\u001b[32m\u001b[1m    Updating\u001b[22m\u001b[39m `C:\\Users\\mihbo\\.julia\\environments\\v1.10\\Manifest.toml`\n",
      "  \u001b[90m[336ed68f] \u001b[39m\u001b[92m+ CSV v0.10.15\u001b[39m\n",
      "  \u001b[90m[944b1d66] \u001b[39m\u001b[92m+ CodecZlib v0.7.6\u001b[39m\n",
      "  \u001b[90m[ea10d353] \u001b[39m\u001b[92m+ WeakRefStrings v1.4.2\u001b[39m\n",
      "  \u001b[90m[76eceee3] \u001b[39m\u001b[92m+ WorkerUtilities v1.6.1\u001b[39m\n",
      "┌ Warning: Circular dependency detected. Precompilation will be skipped for:\n",
      "│   SpecialFunctionsExt [1285c0f1-ff9f-5867-b66e-0f359bcf09ba]\n",
      "│   KernelAbstractions [63c18a36-062a-441e-b654-da1e3ab1ce7c]\n",
      "│   CUDA [052768ef-5323-5732-b1bb-66c8b64840ba]\n",
      "│   SparseArraysExt [85068d23-b5fb-53f1-8204-05c2aba6942f]\n",
      "│   AtomixCUDAExt [13011619-4c7c-5ef0-948f-5fc81565cd05]\n",
      "│   CUDAExt [11b7e2e0-d079-575b-885e-0ab22ef3252c]\n",
      "│   LinearAlgebraExt [66d79d19-2cc4-5b0b-ac7a-b340256d1ecd]\n",
      "│   ChainRulesCoreExt [eae2faf6-b232-58cb-a410-7764fda2830c]\n",
      "└ @ Pkg.API C:\\Users\\mihbo\\.julia\\juliaup\\julia-1.10.5+0.x64.w64.mingw32\\share\\julia\\stdlib\\v1.10\\Pkg\\src\\API.jl:1279\n",
      "\u001b[32m\u001b[1mPrecompiling\u001b[22m\u001b[39m project...\n",
      "\u001b[32m  ✓ \u001b[39m\u001b[90mWorkerUtilities\u001b[39m\n",
      "\u001b[32m  ✓ \u001b[39m\u001b[90mCodecZlib\u001b[39m\n",
      "\u001b[32m  ✓ \u001b[39m\u001b[90mWeakRefStrings\u001b[39m\n",
      "\u001b[32m  ✓ \u001b[39mCSV\n",
      "  4 dependencies successfully precompiled in 13 seconds. 292 already precompiled. 8 skipped due to circular dependency.\n"
     ]
    }
   ],
   "source": [
    "using Pkg\n",
    "Pkg.add(\"CSV\")"
   ]
  },
  {
   "cell_type": "code",
   "execution_count": 6,
   "metadata": {},
   "outputs": [],
   "source": [
    "using CSV"
   ]
  },
  {
   "cell_type": "markdown",
   "metadata": {},
   "source": [
    "## 1. Reading and visualising germination data from Ijadpanahsaravi (2024)"
   ]
  },
  {
   "cell_type": "markdown",
   "metadata": {},
   "source": [
    "There are two relevant data sets available from [1]. First, there are the results from incrementally increased inoculum sizes from 5000 to 40000 conidia per $150\\mu\\textrm{L}$ solution under different inducing carbon sources. A second series of experiments focuses on the two extremes of this conidial density range. The data from the `.csv` files is first parsed to extract two main measurements of interest - the incidence of swelling ($P_{\\textrm{max}}$) and the corresponding half-saturation time $\\tau$."
   ]
  },
  {
   "cell_type": "code",
   "execution_count": 28,
   "metadata": {},
   "outputs": [
    {
     "ename": "ErrorException",
     "evalue": "Invalid UTF-8 string",
     "output_type": "error",
     "traceback": [
      "Invalid UTF-8 string\n",
      "\n",
      "Stacktrace:\n",
      "  [1] error(s::String)\n",
      "    @ Base .\\error.jl:35\n",
      "  [2] utf8proc_error(result::Int64)\n",
      "    @ Base.Unicode .\\strings\\unicode.jl:146\n",
      "  [3] utf8proc_decompose\n",
      "    @ .\\strings\\unicode.jl:155 [inlined]\n",
      "  [4] utf8proc_map(str::String, options::Int64, chartransform::Function)\n",
      "    @ Base.Unicode .\\strings\\unicode.jl:167\n",
      "  [5] #normalize#1\n",
      "    @ .\\strings\\unicode.jl:226 [inlined]\n",
      "  [6] normalize\n",
      "    @ .\\strings\\unicode.jl:188 [inlined]\n",
      "  [7] normalize\n",
      "    @ C:\\Users\\mihbo\\.julia\\juliaup\\julia-1.10.5+0.x64.w64.mingw32\\share\\julia\\stdlib\\v1.10\\Unicode\\src\\Unicode.jl:118 [inlined]\n",
      "  [8] normalized_match_test(l::Dict{Symbol, Int64}, idx::Symbol)\n",
      "    @ DataFrames C:\\Users\\mihbo\\.julia\\packages\\DataFrames\\kcA9R\\src\\other\\index.jl:376\n",
      "  [9] lookupname\n",
      "    @ C:\\Users\\mihbo\\.julia\\packages\\DataFrames\\kcA9R\\src\\other\\index.jl:424 [inlined]\n",
      " [10] getindex\n",
      "    @ C:\\Users\\mihbo\\.julia\\packages\\DataFrames\\kcA9R\\src\\other\\index.jl:440 [inlined]\n",
      " [11] getindex\n",
      "    @ C:\\Users\\mihbo\\.julia\\packages\\DataFrames\\kcA9R\\src\\other\\index.jl:441 [inlined]\n",
      " [12] getindex(df::DataFrame, ::typeof(!), col_ind::String)\n",
      "    @ DataFrames C:\\Users\\mihbo\\.julia\\packages\\DataFrames\\kcA9R\\src\\dataframe\\dataframe.jl:557\n",
      " [13] top-level scope\n",
      "    @ c:\\Users\\mihbo\\Documents\\GitHub\\msc-thesis\\Code\\jl_notebook_cell_df34fa98e69747e1a8f8a730347b8e2f_W4sZmlsZQ==.jl:4"
     ]
    }
   ],
   "source": [
    "df_germination = DataFrame(CSV.File(\"Data/swelling_germination_results.csv\"; header=true))\n",
    "df_germination_extremes = DataFrame(CSV.File(\"Data/swelling_germination_results_extreme_densities.csv\"))\n",
    "\n",
    "println(df_germination[!, :\"---\"] == \"Swelling\")\n",
    "df_germination_swelling = df_germination[df_germination[!, 1] == \"Swelling\"]\n",
    "# df_germination"
   ]
  },
  {
   "cell_type": "code",
   "execution_count": null,
   "metadata": {},
   "outputs": [],
   "source": []
  },
  {
   "cell_type": "markdown",
   "metadata": {},
   "source": [
    "## References"
   ]
  },
  {
   "cell_type": "markdown",
   "metadata": {},
   "source": [
    "- [1] Ijadpanahsaravi, Maryam, L. Basten Snoek, Wieke R. Teertstra and Han A. B. Wösten. “The impact of inter- and intra-species spore density on germination of the food spoilage fungus Aspergillus niger.” _International journal of food microbiology_ 410 (2023): 110495 ."
   ]
  }
 ],
 "metadata": {
  "kernelspec": {
   "display_name": "Julia 1.10.5",
   "language": "julia",
   "name": "julia-1.10"
  },
  "language_info": {
   "file_extension": ".jl",
   "mimetype": "application/julia",
   "name": "julia",
   "version": "1.10.5"
  }
 },
 "nbformat": 4,
 "nbformat_minor": 2
}
