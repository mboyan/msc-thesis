{
 "cells": [
  {
   "cell_type": "markdown",
   "metadata": {},
   "source": [
    "# 09. Comparison of Model System Scales\n",
    "\n",
    "## Numerical experiments - Week 04/2025\n",
    "\n",
    "_Boyan Mihaylov, MSc Computational Science (UVA/VU)_"
   ]
  },
  {
   "cell_type": "markdown",
   "metadata": {},
   "source": [
    "## Prerequisite libraries"
   ]
  },
  {
   "cell_type": "code",
   "execution_count": 1,
   "metadata": {},
   "outputs": [],
   "source": [
    "using PyPlot\n",
    "using Revise\n",
    "\n",
    "Revise.includet(\"./conversions.jl\")\n",
    "Revise.includet(\"./diffusion.jl\")\n",
    "using .Conversions\n",
    "using .Diffusion"
   ]
  },
  {
   "cell_type": "markdown",
   "metadata": {},
   "source": [
    "## 1. Revision of scale assumptions - 3 options"
   ]
  },
  {
   "cell_type": "markdown",
   "metadata": {},
   "source": [
    "### 1.1. Spore-scale simulation\n",
    "\n",
    "The diffusion model developed so far is based on the discretisation of space using a single spore diameter as a spatial increment. This leads to a straightforward abstraction of the spore as a special node on the lattice which differs in its concentration contribution from the nodes of the extracellular medium. However, it could be argued that this discretisation is too arbitrary, too rough or leading to incoherences in the interpretation of the interface between spore and medium. For this reason, two additional alternative schemes are proposed.\n",
    "\n",
    "### 1.2. Super-spore-scale simulation\n",
    "\n",
    "First, inspired by the approach taken in the derivation of the analytical scheme in Notebook 7, it can be assumed that the spore source is of negligible size compared to the lattice resolution and that a single lattice site is a discrete box that _contains_ the spore, but their boundaries are not coincident. The spore can therefore be seen as a singular source which is not significantly large to pose an obstacle for diffusion within the box, but adds new concentration to the box with a rate based on the concentration difference between the spore and the medium. In this sense, the slow-permeating sub-system of the spore is spatially removed from the sub-system of the medium lattice, but they do communicate via the entry node assumed to contain the spore. The concentration drop between the spore and its containing cell evolves over time as follows:\n",
    "\n",
    "$$\n",
    "\\begin{equation}\n",
    "\\frac{d{(c_{\\textrm{in}}-c_{\\textrm{out}})}}{dt}=-\\frac{AP_s}{V}(c_{\\textrm{in}}-c_{\\textrm{out}})\n",
    "\\end{equation}\n",
    "$$\n",
    "\n",
    "This can be rewritten as\n",
    "\n",
    "$$\n",
    "\\begin{equation}\n",
    "\\frac{d{c_{\\textrm{in}}}}{dt}-\\frac{d{c_{\\textrm{out}}}}{dt}=-\\frac{AP_s}{V}(c_{\\textrm{in}}-c_{\\textrm{out}}).\n",
    "\\end{equation}\n",
    "$$\n",
    "\n",
    "The derivative $\\frac{d{c_{\\textrm{out}}}}{dt}$ is approximated by a finite difference scheme:\n",
    "\n",
    "$$\n",
    "\\begin{equation}\n",
    "\\frac{d{c_{\\textrm{out}}}}{dt}\\approx\\frac{c_{\\textrm{out}}(t+\\delta{t})-c_{\\textrm{out}}(t)}{\\delta{t}}\n",
    "\\end{equation}\n",
    "$$\n",
    "\n",
    "Similarly,\n",
    "\n",
    "$$\n",
    "\\begin{equation}\n",
    "\\frac{d{c_{\\textrm{in}}}}{dt}\\approx\\frac{c_{\\textrm{in}}(t+\\delta{t})-c_{\\textrm{in}}(t)}{\\delta{t}}\n",
    "\\end{equation}\n",
    "$$\n",
    "\n",
    "Using these discretisations, the update of the spore concentration can be expressed as\n",
    "\n",
    "$$\n",
    "\\begin{equation}\n",
    "c_{\\textrm{in}}(t+\\delta{t})=c_{\\textrm{out}}(t+\\delta{t})+c_{\\textrm{in}}(t)-c_{\\textrm{out}}(t)-\\frac{AP_s}{V}\\delta{t}(c_{\\textrm{in}}(t)-c_{\\textrm{out}}(t))=c_{\\textrm{out}}(t+\\delta{t})+(c_{\\textrm{in}}(t)-c_{\\textrm{out}}(t))\\left(1-\\frac{AP_s}{V}\\delta{t}\\right).\n",
    "\\end{equation}\n",
    "$$\n",
    "\n",
    "The problem arising here is the interdependence between $c_{\\textrm{in}}(t+\\delta{t})$ and $c_{\\textrm{out}}(t+\\delta{t})$. This can be resolved by implementing a half-step for updating the concentration drop:\n",
    "\n",
    "$$\n",
    "\\begin{equation}\n",
    "\\Delta{c}^{(1/2)}=(c_{\\textrm{in}}(t)-c_{\\textrm{out}}(t))\\left(1-\\frac{AP_s}{2V}\\delta{t}\\right).\n",
    "\\end{equation}\n",
    "$$\n",
    "\n",
    "The outside concentration in the spore-containing volume is then updated as a mixture of free diffusion with neighbour cells of the medium and the added concentration from the source:\n",
    "\n",
    "$$\n",
    "\\begin{equation}\n",
    "c_{\\textrm{out}}(t+\\delta{t})=c_{\\textrm{out}}(t)+\\delta{t}\\left[D\\nabla^2c_{\\textrm{out}}(t)+\\frac{AP_s}{V}\\Delta{c}^{(1/2)}\\right].\n",
    "\\end{equation}\n",
    "$$\n",
    "\n",
    "Finally, the inside concentration at a full time step can be completed:\n",
    "\n",
    "$$\n",
    "\\begin{equation}\n",
    "c_{\\textrm{in}}(t+\\delta{t})=c_{\\textrm{out}}(t+\\delta{t})+\\Delta{c}^{(1/2)}\\left(1-\\frac{AP_s}{2V}\\delta{t}\\right).\n",
    "\\end{equation}\n",
    "$$\n",
    "\n",
    "### 1.3. Cell-wall-scale simulation\n",
    "\n",
    "A second option considers the opposite scenario --- a much more fine-grain lattice, such that the detail of the spore's spherical shape can be captured. This becomes important in observing the spatial articulation of spore packings caused by aggregation and furthermore improves the accuracy of the diffusion simulation by considering scales closer to the infinitessimal limit.\n",
    "\n",
    "Since the high resolution of the lattice requires significantly increased computation, drastic optimisation measures are required. For this purpose, each cell in the lattice performs a dynamic check of its distance to the spore centre, given the spore radius. If the cell falls within this radius but has excluded neighbours (in its von Neumann neighbourhood), then it is considered a member of the cell wall - the source region governed by slow diffusion. If it is excluded from the radius along with all of its neighbours, it is a member of the medium region. If the cell and all of its neighbours are within the radius, it is excluded from the computation."
   ]
  },
  {
   "cell_type": "markdown",
   "metadata": {},
   "source": [
    "## 2. Comparative experiment"
   ]
  },
  {
   "cell_type": "markdown",
   "metadata": {},
   "source": [
    "The two newly proposed options are constructed and tested against the original discretisation scheme, applying different resolutions on a lattice with the same spatial dimensions and simulating inhibitor diffusion with a single spore. The concentration at the spore is recorded and compared to the analytical solution and among the numerical schemes."
   ]
  },
  {
   "cell_type": "code",
   "execution_count": 13,
   "metadata": {},
   "outputs": [
    {
     "name": "stdout",
     "output_type": "stream",
     "text": [
      "Analytical solution for spore with V=125 and A=150: 1.0147370292521385\n",
      "Analytical solution for spore with V=65.44984694978736 and A=78.53981633974483: 1.0147370292521385\n",
      "Using D = 600, Db = 5.350706139023637e-5, Ps = 0.0002675353069511818\n",
      "Spore radius in lattice units: 12.5\n",
      "Spore bounds: 14\n",
      "295 cell wall indices found.\n",
      "Storage arrays allocated.\n",
      "Kernel blocks: (32, 32, 32), kernel threads: (8, 8, 8)\n",
      "1.018\n",
      "0.031615127\n",
      "0.012979325\n",
      "0.007449735\n",
      "0.0049719554\n",
      "0.003616862\n",
      "0.002782142\n",
      "0.002225466\n",
      "0.0018324842\n",
      "0.0015429282\n",
      "0.0013223334\n",
      "0.0011497152\n",
      "0.0010116367\n",
      "0.0008991414\n",
      "0.0008060522\n",
      "0.00072798575\n",
      "0.0006617544\n",
      "0.00060499005\n",
      "0.000555901\n",
      "0.0005131089\n",
      "0.00047553843\n",
      "0.00044233905\n",
      "0.00041283056\n",
      "0.0003864629\n",
      "0.00036278725\n",
      "0.00034143394\n",
      "0.00032209622\n",
      "0.0003045174\n",
      "0.00028848124\n",
      "0.00027380482\n",
      "0.00026033187\n",
      "0.00024792872\n",
      "0.00023648007\n",
      "0.00022588622\n",
      "0.00021606036\n",
      "0.00020692675\n",
      "0.00019841903\n",
      "0.0001904787\n",
      "0.00018305419\n",
      "0.00017609977\n",
      "0.00016957479\n",
      "0.00016344301\n",
      "0.0001576721\n",
      "0.00015223293\n",
      "0.00014709946\n",
      "0.00014224816\n",
      "0.00013765776\n",
      "0.00013330908\n",
      "0.0001291846\n",
      "0.00012526853\n",
      "0.000121546385\n",
      "0.00011800498\n",
      "0.000114632276\n",
      "0.00011141721\n",
      "0.00010834968\n",
      "0.00010542037\n",
      "0.00010262071\n",
      "9.994281e-5\n",
      "9.7379394e-5\n",
      "9.492371e-5\n",
      "9.256953e-5\n",
      "9.031107e-5\n",
      "8.814298e-5\n",
      "8.606026e-5\n",
      "8.405831e-5\n",
      "8.213278e-5\n",
      "8.027965e-5\n",
      "7.849518e-5\n",
      "7.677585e-5\n",
      "7.51184e-5\n",
      "7.3519725e-5\n",
      "7.197698e-5\n",
      "7.048744e-5\n",
      "6.904859e-5\n",
      "6.765804e-5\n",
      "6.6313536e-5\n",
      "6.5012995e-5\n",
      "6.375443e-5\n",
      "6.253596e-5\n",
      "6.135584e-5\n",
      "6.0212365e-5\n",
      "5.9103986e-5\n",
      "5.8029214e-5\n",
      "5.6986646e-5\n",
      "5.597494e-5\n",
      "5.4992837e-5\n",
      "5.403914e-5\n",
      "5.3112715e-5\n",
      "5.2212483e-5\n",
      "5.1337425e-5\n",
      "5.048657e-5\n",
      "4.965899e-5\n",
      "4.8853795e-5\n",
      "4.8070175e-5\n",
      "4.730731e-5\n",
      "4.6564455e-5\n",
      "4.584088e-5\n",
      "4.513589e-5\n",
      "4.444884e-5\n",
      "4.377909e-5\n"
     ]
    },
    {
     "data": {
      "text/plain": [
       "([1.0180000066757202 1.0180000066757202 … 0.0 0.0; 0.018907714635133743 0.020971743389964104 … 0.014258980751037598 0.016628697514533997; … ; 4.348490620031953e-5 4.354346310719848e-5 … 4.3324420403223485e-5 4.341186649980955e-5; 4.2839157686103135e-5 4.289626667741686e-5 … 4.268264092388563e-5 4.276792242308147e-5;;; 1.0180000066757202 1.0180000066757202 … 0.0 0.0; 0.020971745252609253 0.023232605308294296 … 0.015849364921450615 0.018464576452970505; … ; 4.354346310719848e-5 4.360208913567476e-5 … 4.338280268711969e-5 4.347034337115474e-5; 4.2896263039438054e-5 4.29534338763915e-5 … 4.273957893019542e-5 4.282495137886144e-5;;; 1.0180000066757202 1.0180000066757202 … 0.0 0.0; 0.022700505331158638 0.025114117190241814 … 0.01719578541815281 0.02001102641224861; … ; 4.35874899267219e-5 4.364615597296506e-5 … 4.342669126344845e-5 4.351430470705964e-5; 4.293919846531935e-5 4.299640568206087e-5 … 4.278237611288205e-5 4.2867828597081825e-5;;; … ;;; 0.0 0.0 … 0.0 0.0; 0.011915689334273338 0.01325700618326664 … 0.008937467820942402 0.010449931025505066; … ; 4.322266249801032e-5 4.328091745264828e-5 … 4.306305345380679e-5 4.315001569921151e-5; 4.258339322404936e-5 4.264021117705852e-5 … 4.242772774887271e-5 4.251254358678125e-5;;; 0.0 0.0 … 0.0 0.0; 0.014258980751037598 0.015849364921450615 … 0.010712824761867523 0.012515723705291748; … ; 4.3324420403223485e-5 4.338280268711969e-5 … 4.316447302699089e-5 4.325162080931477e-5; 4.268264092388563e-5 4.2739575292216614e-5 … 4.252664075465873e-5 4.261163849150762e-5;;; 0.0 0.0 … 0.0 0.0; 0.016628699377179146 0.018464576452970505 … 0.012515723705291748 0.014609416015446186; … ; 4.3411870137788355e-5 4.347034700913355e-5 … 4.325162080931477e-5 4.333893593866378e-5; 4.276792242308147e-5 4.282495137886144e-5 … 4.261163849150762e-5 4.269679629942402e-5], [1.0e-5, 0.00101, 0.00201, 0.00301, 0.0040100000000000005, 0.0050100000000000006, 0.006010000000000001, 0.007010000000000001, 0.008010000000000001, 0.00901  …  0.09101000000000001, 0.09201000000000001, 0.09301000000000001, 0.09401000000000001, 0.09501000000000001, 0.09601000000000001, 0.09701000000000001, 0.09801000000000001, 0.09901000000000001, 0.0], nothing)"
      ]
     },
     "metadata": {},
     "output_type": "display_data"
    }
   ],
   "source": [
    "# Global parameters\n",
    "D = 600 # microns^2/s\n",
    "Ps_fit = 0.0002675353069511818 # microns/s\n",
    "t_max = 10#4400 # s\n",
    "c0 = 1.018 # M\n",
    "spore_diameter = 5 # microns\n",
    "\n",
    "# ----- Analytical solution -----\n",
    "c_out = 0.0 # M\n",
    "times = LinRange(0, t_max, 1000)\n",
    "\n",
    "# Cube spore\n",
    "V_spore_cube = spore_diameter^3 # microns^3\n",
    "A_spore_cube = 6 * spore_diameter^2 # microns^2\n",
    "c_analytical_cube = permeation_time_dependent_analytical(c0, c_out, times, Ps_fit, A_spore_cube, V_spore_cube)\n",
    "println(\"Analytical solution for spore with V=$V_spore_cube and A=$A_spore_cube: \", c_analytical_cube[end])\n",
    "\n",
    "# Sphere spore\n",
    "V_spore_sphere = 4π * (spore_diameter / 2)^3 / 3 # microns^3\n",
    "A_spore_sphere = 4π * (spore_diameter / 2)^2 # microns^2\n",
    "c_analytical_sphere = permeation_time_dependent_analytical(c0, c_out, times, Ps_fit, A_spore_sphere, V_spore_sphere)\n",
    "println(\"Analytical solution for spore with V=$V_spore_sphere and A=$A_spore_sphere: \", c_analytical_sphere[end])\n",
    "\n",
    "# ----- Numerical solution -----\n",
    "n_save_frames = 100\n",
    "\n",
    "# Mid resolution\n",
    "# N_mid = 64\n",
    "# dt = 0.005\n",
    "# spore_idx = (N_mid ÷ 2, N_mid ÷ 2, N_mid ÷ 2)\n",
    "# c_init = zeros(N_mid, N_mid, N_mid)\n",
    "# c_init[spore_idx...] = c0\n",
    "# c_numerical, times_numerical, _ = diffusion_time_dependent_GPU(c_init, t_max; D, Ps=Ps_fit, dt=dt, dx=spore_diameter, n_save_frames=n_save_frames, spore_idx=spore_idx)\n",
    "# println(\"Numerical solution (mid-resolution): \", c_numerical[end, spore_idx...])\n",
    "\n",
    "# # Low resolution\n",
    "# scale_factor = 4 # 1 cell is 4 spore diameters long\n",
    "# N_lo = N_mid ÷ scale_factor\n",
    "# dt = 0.1\n",
    "# dx = spore_diameter * scale_factor\n",
    "# spore_vol_idx = (N_lo ÷ 2, N_lo ÷ 2, N_lo ÷ 2)\n",
    "# c_init = zeros(N_lo, N_lo, N_lo)\n",
    "# _, c_numerical, times_numerical, _ = diffusion_time_dependent_GPU_low_res(c_init, c0, t_max; D=D, Pₛ=Ps_fit, \n",
    "#                                                                             A=A_spore_sphere, V=V_spore_sphere, dt=dt, dx=dx,\n",
    "#                                                                             n_save_frames=n_save_frames, spore_vol_idx=spore_vol_idx)\n",
    "# println(\"Numerical solution (low-resolution): \", c_numerical[end])\n",
    "\n",
    "# High resolution\n",
    "N_hi = 256#1600 # 1 cell is 0.20 um long\n",
    "dt = 0.00001\n",
    "dx = 0.2 # cell wall thickness\n",
    "spore_center_idx = (N_hi ÷ 2, N_hi ÷ 2, N_hi ÷ 2)\n",
    "c_init = zeros(N_hi, N_hi, N_hi)\n",
    "c_numerical, times_numerical, _ = diffusion_time_dependent_GPU_hi_res(c_init, c0, [spore_center_idx], spore_diameter / 2, 0.1;\n",
    "                                                                        D=D, Pₛ=Ps_fit, dt=dt, dx=dx, n_save_frames=n_save_frames)\n",
    "# println(\"Numerical solution (low-resolution): \", c_numerical[end])"
   ]
  },
  {
   "cell_type": "code",
   "execution_count": 16,
   "metadata": {},
   "outputs": [
    {
     "name": "stdout",
     "output_type": "stream",
     "text": [
      "Nonzero elements: 6450306\n"
     ]
    },
    {
     "data": {
      "image/png": "[encoded data removed]",
      "text/plain": [
       "Figure(PyObject <Figure size 640x480 with 1 Axes>)"
      ]
     },
     "metadata": {},
     "output_type": "display_data"
    }
   ],
   "source": [
    "# Count nonzero\n",
    "println(\"Nonzero elements: \", count(!iszero, c_numerical))\n",
    "\n",
    "fig, ax = subplots()\n",
    "ax.imshow(c_numerical[2, :, :], cmap=\"viridis\")\n",
    "# ax.set_xlim(100, 150)\n",
    "# ax.set_ylim(100, 150)\n",
    "# ax.set_xlim(750, 850)\n",
    "# ax.set_ylim(750, 850)\n",
    "gcf()"
   ]
  },
  {
   "cell_type": "code",
   "execution_count": null,
   "metadata": {},
   "outputs": [
    {
     "name": "stderr",
     "output_type": "stream",
     "text": [
      "\u001b[32m\u001b[1m   Resolving\u001b[22m\u001b[39m package versions...\n",
      "\u001b[32m\u001b[1m    Updating\u001b[22m\u001b[39m `C:\\Users\\mihbo\\.julia\\environments\\v1.10\\Project.toml`\n",
      "  \u001b[90m[c8e1da08] \u001b[39m\u001b[92m+ IterTools v1.10.0\u001b[39m\n",
      "\u001b[32m\u001b[1m  No Changes\u001b[22m\u001b[39m to `C:\\Users\\mihbo\\.julia\\environments\\v1.10\\Manifest.toml`\n",
      "┌ Warning: Circular dependency detected. Precompilation will be skipped for:\n",
      "│   SpecialFunctionsExt [1285c0f1-ff9f-5867-b66e-0f359bcf09ba]\n",
      "│   KernelAbstractions [63c18a36-062a-441e-b654-da1e3ab1ce7c]\n",
      "│   CUDA [052768ef-5323-5732-b1bb-66c8b64840ba]\n",
      "│   SparseArraysExt [85068d23-b5fb-53f1-8204-05c2aba6942f]\n",
      "│   AtomixCUDAExt [13011619-4c7c-5ef0-948f-5fc81565cd05]\n",
      "│   CUDAExt [11b7e2e0-d079-575b-885e-0ab22ef3252c]\n",
      "│   LinearAlgebraExt [66d79d19-2cc4-5b0b-ac7a-b340256d1ecd]\n",
      "│   ChainRulesCoreExt [eae2faf6-b232-58cb-a410-7764fda2830c]\n",
      "└ @ Pkg.API C:\\Users\\mihbo\\.julia\\juliaup\\julia-1.10.5+0.x64.w64.mingw32\\share\\julia\\stdlib\\v1.10\\Pkg\\src\\API.jl:1279\n"
     ]
    }
   ],
   "source": [
    "using Pkg\n",
    "Pkg.add(\"IterTools\")"
   ]
  },
  {
   "cell_type": "markdown",
   "metadata": {},
   "source": [
    "## 3. Sparse matrix exercise"
   ]
  },
  {
   "cell_type": "code",
   "execution_count": null,
   "metadata": {},
   "outputs": [],
   "source": [
    "using SparseArrays\n",
    "using IterTools"
   ]
  },
  {
   "cell_type": "code",
   "execution_count": null,
   "metadata": {},
   "outputs": [
    {
     "data": {
      "text/plain": [
       "20×20 SparseMatrixCSC{Any, Int64} with 36 stored entries:\n",
       "⎡⠀⠀⠀⠀⠀⠀⠀⠀⠀⠀⎤\n",
       "⎢⠀⠀⢠⠖⠚⠒⢦⠀⠀⠀⎥\n",
       "⎢⠀⠀⢺⠀⠀⠀⢸⠂⠀⠀⎥\n",
       "⎢⠀⠀⠈⠓⠲⠒⠋⠀⠀⠀⎥\n",
       "⎣⠀⠀⠀⠀⠀⠀⠀⠀⠀⠀⎦"
      ]
     },
     "metadata": {},
     "output_type": "display_data"
    }
   ],
   "source": [
    "N = 20\n",
    "rad = 5\n",
    "spore_idx = (N ÷ 2, N ÷ 2)\n",
    "medium_is, medium_js, medium_cs = [], [], []\n",
    "cw_is, cw_js, cw_concs = [], [], []\n",
    "for i in 1:N\n",
    "    for j in 1:N\n",
    "        steps = [-1, 0, 1]\n",
    "        von_neumann_nbrs = collect(IterTools.product(steps, steps))\n",
    "        excluded = false\n",
    "        excluded_nbrs = 0\n",
    "        for (di, dj) in von_neumann_nbrs\n",
    "            if (i + di - spore_idx[1])^2 + (j + dj - spore_idx[2])^2 > rad^2\n",
    "                if (di, dj) == (0, 0)\n",
    "                    excluded = true\n",
    "                    push!(medium_is, i)\n",
    "                    push!(medium_js, j)\n",
    "                    push!(medium_cs, 1.0)\n",
    "                else\n",
    "                    excluded_nbrs += 1\n",
    "                end\n",
    "            end\n",
    "        end\n",
    "        if !excluded && excluded_nbrs > 0\n",
    "            push!(cw_is, i)\n",
    "            push!(cw_js, j)\n",
    "            push!(cw_concs, 1.0)\n",
    "        end\n",
    "    end\n",
    "end\n",
    "# nz_is = hcat(nz_is...)\n",
    "# nx_js = hcat(nx_js...)\n",
    "# nz_concs = hcat(nz_concs...)\n",
    "medium_sparse = sparse(medium_is, medium_js, medium_cs, N, N)\n",
    "cw_sparse = sparse(cw_is, cw_js, cw_concs, N, N)"
   ]
  }
 ],
 "metadata": {
  "kernelspec": {
   "display_name": "Julia 1.10.5",
   "language": "julia",
   "name": "julia-1.10"
  },
  "language_info": {
   "file_extension": ".jl",
   "mimetype": "application/julia",
   "name": "julia",
   "version": "1.10.5"
  }
 },
 "nbformat": 4,
 "nbformat_minor": 2
}
