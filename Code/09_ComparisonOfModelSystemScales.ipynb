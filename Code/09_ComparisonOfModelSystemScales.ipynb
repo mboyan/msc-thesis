{
 "cells": [
  {
   "cell_type": "markdown",
   "metadata": {},
   "source": [
    "# 09. Comparison of Model System Scales\n",
    "\n",
    "## Numerical experiments - Week 04/2025\n",
    "\n",
    "_Boyan Mihaylov, MSc Computational Science (UVA/VU)_"
   ]
  },
  {
   "cell_type": "markdown",
   "metadata": {},
   "source": [
    "## Prerequisite libraries"
   ]
  },
  {
   "cell_type": "code",
   "execution_count": 7,
   "metadata": {},
   "outputs": [],
   "source": [
    "using PyPlot\n",
    "using Revise\n",
    "\n",
    "Revise.includet(\"./conversions.jl\")\n",
    "Revise.includet(\"./diffusion.jl\")\n",
    "using .Conversions\n",
    "using .Diffusion"
   ]
  },
  {
   "cell_type": "markdown",
   "metadata": {},
   "source": [
    "## 1. Revision of scale assumptions - 3 options"
   ]
  },
  {
   "cell_type": "markdown",
   "metadata": {},
   "source": [
    "The diffusion model developed so far is based on the discretisation of space using a single spore diameter as a spatial increment. This leads to a straightforward abstraction of the spore as a special node on the lattice which differs in its concentration contribution from the nodes of the extracellular medium. However, it could be argued that this discretisation is too arbitrary, too rough or leading to incoherences in the interpretation of the interface between spore and medium. For this reason, two additional alternative schemes are proposed.\n",
    "\n",
    "First, inspired by the approach taken in the derivation of the analytical scheme in Notebook 7, it can be assumed that the spore source is of negligible size compared to the lattice resolution and that a single lattice site is a discrete box that _contains_ the spore, but their boundaries are not coincident. The spore can therefore be seen as a singular source which is not significantly large to pose an obstacle for diffusion within the box, but adds new concentration to the box with a rate based on the concentration difference between the spore and the medium. In this sense, the slow-permeating sub-system of the spore is spatially removed from the sub-system of the medium lattice, but they do communicate via the entry node assumed to contain the spore. The concentration just outside the spore, in the container box, is then used as a reference for inhibition.\n",
    "\n",
    "A second option considers the opposite scenario --- a much more fine-grain lattice, such that the detail of the spore's spherical shape can be captured. This becomes important in observing the spatial articulation of spore packings caused by aggregation and furthermore improves the accuracy of the diffusion simulation by considering scales closer to the infinitessimal limit."
   ]
  },
  {
   "cell_type": "markdown",
   "metadata": {},
   "source": [
    "## 2. Comparative experiment"
   ]
  },
  {
   "cell_type": "markdown",
   "metadata": {},
   "source": [
    "The two newly proposed options are constructed and tested against the original discretisation scheme, applying different resolutions on a lattice with the same spatial dimensions and simulating inhibitor diffusion with a single spore. The concentration at the spore is recorded and compared to the analytical solution and among the numerical schemes."
   ]
  },
  {
   "cell_type": "code",
   "execution_count": 19,
   "metadata": {},
   "outputs": [],
   "source": [
    "GC.gc()"
   ]
  },
  {
   "cell_type": "code",
   "execution_count": 68,
   "metadata": {},
   "outputs": [
    {
     "name": "stdout",
     "output_type": "stream",
     "text": [
      "Analytical solution for spore with V=125 and A=150: 1.0176732313251298\n",
      "Analytical solution for spore with V=65.44984694978736 and A=78.53981633974483: 1.0176732313251298\n",
      "3D simulation\n",
      "Using D = 600, Db = 0.0013376765347559091, Ps = 0.0002675353069511818\n",
      "Storage arrays allocated.\n",
      "Frame 2 saved.\n",
      "Frame 3 saved.\n",
      "Frame 4 saved.\n",
      "Frame 5 saved.\n",
      "Frame 6 saved.\n",
      "Frame 7 saved.\n",
      "Frame 8 saved.\n",
      "Frame 9 saved.\n",
      "Frame 10 saved.\n",
      "Frame 11 saved.\n",
      "Frame 12 saved.\n",
      "Frame 13 saved.\n",
      "Frame 14 saved.\n",
      "Frame 15 saved.\n",
      "Frame 16 saved.\n",
      "Frame 17 saved.\n",
      "Frame 18 saved.\n",
      "Frame 19 saved.\n",
      "Frame 20 saved.\n",
      "Frame 21 saved.\n",
      "Frame 22 saved.\n",
      "Frame 23 saved.\n",
      "Frame 24 saved.\n",
      "Frame 25 saved.\n",
      "Frame 26 saved.\n",
      "Frame 27 saved.\n",
      "Frame 28 saved.\n",
      "Frame 29 saved.\n",
      "Frame 30 saved.\n",
      "Frame 31 saved.\n",
      "Frame 32 saved.\n",
      "Frame 33 saved.\n",
      "Frame 34 saved.\n",
      "Frame 35 saved.\n",
      "Frame 36 saved.\n",
      "Frame 37 saved.\n",
      "Frame 38 saved.\n",
      "Frame 39 saved.\n",
      "Frame 40 saved.\n",
      "Frame 41 saved.\n",
      "Frame 42 saved.\n",
      "Frame 43 saved.\n",
      "Frame 44 saved.\n",
      "Frame 45 saved.\n",
      "Frame 46 saved.\n",
      "Frame 47 saved.\n",
      "Frame 48 saved.\n",
      "Frame 49 saved.\n",
      "Frame 50 saved.\n",
      "Frame 51 saved.\n",
      "Frame 52 saved.\n",
      "Frame 53 saved.\n",
      "Frame 54 saved.\n",
      "Frame 55 saved.\n",
      "Frame 56 saved.\n",
      "Frame 57 saved.\n",
      "Frame 58 saved.\n",
      "Frame 59 saved.\n",
      "Frame 60 saved.\n",
      "Frame 61 saved.\n",
      "Frame 62 saved.\n",
      "Frame 63 saved.\n",
      "Frame 64 saved.\n",
      "Frame 65 saved.\n",
      "Frame 66 saved.\n",
      "Frame 67 saved.\n",
      "Frame 68 saved.\n",
      "Frame 69 saved.\n",
      "Frame 70 saved.\n",
      "Frame 71 saved.\n",
      "Frame 72 saved.\n",
      "Frame 73 saved.\n",
      "Frame 74 saved.\n",
      "Frame 75 saved.\n",
      "Frame 76 saved.\n",
      "Frame 77 saved.\n",
      "Frame 78 saved.\n",
      "Frame 79 saved.\n",
      "Frame 80 saved.\n",
      "Frame 81 saved.\n",
      "Frame 82 saved.\n",
      "Frame 83 saved.\n",
      "Frame 84 saved.\n",
      "Frame 85 saved.\n",
      "Frame 86 saved.\n",
      "Frame 87 saved.\n",
      "Frame 88 saved.\n",
      "Frame 89 saved.\n",
      "Frame 90 saved.\n",
      "Frame 91 saved.\n",
      "Frame 92 saved.\n",
      "Frame 93 saved.\n",
      "Frame 94 saved.\n",
      "Frame 95 saved.\n",
      "Frame 96 saved.\n",
      "Frame 97 saved.\n",
      "Frame 98 saved.\n",
      "Frame 99 saved.\n",
      "Frame 100 saved.\n",
      "Frame 101 saved.\n"
     ]
    },
    {
     "data": {
      "text/plain": [
       "1.017666220664978"
      ]
     },
     "metadata": {},
     "output_type": "display_data"
    }
   ],
   "source": [
    "# Global parameters\n",
    "D = 600 # microns^2/s\n",
    "Ps_fit = 0.0002675353069511818 # microns/s\n",
    "# V_spore = 125 # microns^3\n",
    "A_spore = 150 # microns^2\n",
    "# A_spore_sphere = 4 * π * (3 * V_spore / (4 * π))^(2/3)\n",
    "V_spore_sphere = 4π * √(A_spore / (4π)) ^ 3 / 3\n",
    "t_max = 1#4400 # s\n",
    "c0 = 1.018 # M\n",
    "spore_diameter = 5 # microns\n",
    "\n",
    "# ----- Analytical solution -----\n",
    "c_out = 0.0 # M\n",
    "times = LinRange(0, t_max, 1000)\n",
    "\n",
    "# Cube spore\n",
    "V_spore_cube = spore_diameter^3 # microns^3\n",
    "A_spore_cube = 6 * spore_diameter^2 # microns^2\n",
    "c_analytical_cube = permeation_time_dependent_analytical(c0, c_out, times, Ps_fit, A_spore_cube, V_spore_cube)\n",
    "println(\"Analytical solution for spore with V=$V_spore_cube and A=$A_spore_cube: \", c_analytical_cube[end])\n",
    "\n",
    "# Sphere spore\n",
    "V_spore_sphere = 4π * (spore_diameter / 2)^3 / 3 # microns^3\n",
    "A_spore_sphere = 4π * (spore_diameter / 2)^2 # microns^2\n",
    "c_analytical_sphere = permeation_time_dependent_analytical(c0, c_out, times, Ps_fit, A_spore_sphere, V_spore_sphere)\n",
    "println(\"Analytical solution for spore with V=$V_spore_sphere and A=$A_spore_sphere: \", c_analytical_sphere[end])\n",
    "\n",
    "# ----- Numerical solution -----\n",
    "n_save_frames = 100\n",
    "\n",
    "# Mid resolution\n",
    "N = 64\n",
    "dt = 0.005\n",
    "spore_idx = (N ÷ 2, N ÷ 2, N ÷ 2)\n",
    "c_init = zeros(N, N, N)\n",
    "c_init[spore_idx...] = c0\n",
    "c_numerical, times_numerical, t_thresholds = diffusion_time_dependent_GPU(c_init, t_max; D, Ps=Ps_fit, dt=dt, dx=spore_diameter, spore_idx=spore_idx);\n",
    "\n",
    "c_numerical[end, spore_idx...]\n",
    "maximum(c_numerical[end, :, :, :])"
   ]
  }
 ],
 "metadata": {
  "kernelspec": {
   "display_name": "Julia 1.10.5",
   "language": "julia",
   "name": "julia-1.10"
  },
  "language_info": {
   "file_extension": ".jl",
   "mimetype": "application/julia",
   "name": "julia",
   "version": "1.10.5"
  }
 },
 "nbformat": 4,
 "nbformat_minor": 2
}
