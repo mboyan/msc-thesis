{
 "cells": [
  {
   "cell_type": "markdown",
   "metadata": {},
   "source": [
    "# 09. Comparison of Model System Scales\n",
    "\n",
    "## Numerical experiments - Week 04/2025\n",
    "\n",
    "_Boyan Mihaylov, MSc Computational Science (UVA/VU)_"
   ]
  },
  {
   "cell_type": "markdown",
   "metadata": {},
   "source": [
    "## Prerequisite libraries"
   ]
  },
  {
   "cell_type": "code",
   "execution_count": 1,
   "metadata": {},
   "outputs": [],
   "source": [
    "using PyPlot\n",
    "using Revise\n",
    "\n",
    "include(\"./conversions.jl\")\n",
    "using .Conversions\n",
    "include(\"./diffusion.jl\")\n",
    "using .Diffusion"
   ]
  },
  {
   "cell_type": "markdown",
   "metadata": {},
   "source": [
    "## 1. Revision of scale assumptions - 3 options"
   ]
  },
  {
   "cell_type": "markdown",
   "metadata": {},
   "source": [
    "The diffusion model developed so far is based on the discretisation of space using a single spore diameter as a spatial increment. This leads to a straightforward abstraction of the spore as a special node on the lattice which differs in its concentration contribution from the nodes of the extracellular medium. However, it could be argued that this discretisation is too arbitrary, too rough or leading to incoherences in the interpretation of the interface between spore and medium. For this reason, two additional alternative schemes are proposed.\n",
    "\n",
    "First, inspired by the approach taken in the derivation of the analytical scheme in Notebook 7, it can be assumed that the spore source is of negligible size compared to the lattice resolution and that a single lattice site is a discrete box that _contains_ the spore, but their boundaries are not coincident. The spore can therefore be seen as a singular source which is not significantly large to pose an obstacle for diffusion within the box, but adds new concentration to the box with a rate based on the concentration difference between the spore and the medium. In this sense, the slow-permeating sub-system of the spore is spatially removed from the sub-system of the medium lattice, but they do communicate via the entry node assumed to contain the spore. The concentration just outside the spore, in the container box, is then used as a reference for inhibition.\n",
    "\n",
    "A second option considers the opposite scenario --- a much more fine-grain lattice, such that the detail of the spore's spherical shape can be captured. This becomes important in observing the spatial articulation of spore packings caused by aggregation and furthermore improves the accuracy of the diffusion simulation by considering scales closer to the infinitessimal limit."
   ]
  },
  {
   "cell_type": "markdown",
   "metadata": {},
   "source": [
    "## 2. Comparative experiment"
   ]
  },
  {
   "cell_type": "markdown",
   "metadata": {},
   "source": [
    "The two newly proposed options are constructed and tested against the original discretisation scheme, applying different resolutions on a lattice with the same spatial dimensions and simulating inhibitor diffusion with a single spore. The concentration at the spore is recorded and compared to the analytical solution and among the numerical schemes."
   ]
  },
  {
   "cell_type": "code",
   "execution_count": 2,
   "metadata": {},
   "outputs": [
    {
     "ename": "MethodError",
     "evalue": "MethodError: no method matching exp(::Vector{Float64})\n\nClosest candidates are:\n  exp(!Matched::BigFloat)\n   @ Base mpfr.jl:674\n  exp(!Matched::Missing)\n   @ Base math.jl:1580\n  exp(!Matched::ComplexF16)\n   @ Base math.jl:1564\n  ...\n",
     "output_type": "error",
     "traceback": [
      "MethodError: no method matching exp(::Vector{Float64})\n",
      "\n",
      "Closest candidates are:\n",
      "  exp(!Matched::BigFloat)\n",
      "   @ Base mpfr.jl:674\n",
      "  exp(!Matched::Missing)\n",
      "   @ Base math.jl:1580\n",
      "  exp(!Matched::ComplexF16)\n",
      "   @ Base math.jl:1564\n",
      "  ...\n",
      "\n",
      "\n",
      "Stacktrace:\n",
      " [1] permeation_time_dependent_analytical(c_in::Float64, c_out::Float64, t::Vector{Float64}, Ps::Float64, A::Int64, V::Int64; alpha::Float64)\n",
      "   @ Main.Diffusion c:\\Users\\mihbo\\Documents\\GitHub\\msc-thesis\\Code\\diffusion.jl:22\n",
      " [2] permeation_time_dependent_analytical(c_in::Float64, c_out::Float64, t::Vector{Float64}, Ps::Float64, A::Int64, V::Int64)\n",
      "   @ Main.Diffusion c:\\Users\\mihbo\\Documents\\GitHub\\msc-thesis\\Code\\diffusion.jl:9\n",
      " [3] top-level scope\n",
      "   @ c:\\Users\\mihbo\\Documents\\GitHub\\msc-thesis\\Code\\jl_notebook_cell_df34fa98e69747e1a8f8a730347b8e2f_X10sZmlsZQ==.jl:11"
     ]
    }
   ],
   "source": [
    "# Global parameters\n",
    "D = 600 # microns^2/s\n",
    "Ps_fit = 0.0002675353069511818 # microns/s\n",
    "V_spore = 125 # microns^3\n",
    "A_spore = 150 # microns^2\n",
    "\n",
    "# Analytical solution\n",
    "c_in = 1.018 # M\n",
    "c_out = 0.0 # M\n",
    "times = [0:0.1:1;]\n",
    "c_analytical = permeation_time_dependent_analytical(c_in, c_out, times, Ps_fit, A_spore, V_spore)"
   ]
  }
 ],
 "metadata": {
  "kernelspec": {
   "display_name": "Julia 1.10.5",
   "language": "julia",
   "name": "julia-1.10"
  },
  "language_info": {
   "file_extension": ".jl",
   "mimetype": "application/julia",
   "name": "julia",
   "version": "1.10.5"
  }
 },
 "nbformat": 4,
 "nbformat_minor": 2
}
