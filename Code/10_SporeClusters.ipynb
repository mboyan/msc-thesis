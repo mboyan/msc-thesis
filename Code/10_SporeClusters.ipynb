{
 "cells": [
  {
   "cell_type": "markdown",
   "metadata": {},
   "source": [
    "# 10. Spore Clusters\n",
    "\n",
    "## Numerical experiments - Week 08/2025\n",
    "\n",
    "_Boyan Mihaylov, MSc Computational Science (UVA/VU)_"
   ]
  },
  {
   "cell_type": "markdown",
   "metadata": {},
   "source": [
    "## Prerequisite libraries"
   ]
  },
  {
   "cell_type": "code",
   "execution_count": 1,
   "metadata": {},
   "outputs": [],
   "source": [
    "using PyPlot\n",
    "using Revise\n",
    "\n",
    "Revise.includet(\"./conversions.jl\")\n",
    "Revise.includet(\"./diffusion.jl\")\n",
    "Revise.includet(\"./setup.jl\")\n",
    "using .Conversions\n",
    "using .Diffusion\n",
    "using .Setup"
   ]
  },
  {
   "cell_type": "markdown",
   "metadata": {},
   "source": [
    "## 1. Spore centroid generation"
   ]
  },
  {
   "cell_type": "markdown",
   "metadata": {},
   "source": [
    "The following code computes the coordinates of a cluster of $n$ spherical spores, placing one spore at the centre of the lattice and the rest of the spores distributed evenly around it - in polar, triangular, tetrahedral, cubic, octahedral and icosahedral configurations."
   ]
  },
  {
   "cell_type": "code",
   "execution_count": 2,
   "metadata": {},
   "outputs": [
    {
     "ename": "TypeError",
     "evalue": "TypeError: non-boolean (Tuple{Bool, String}) used in boolean context",
     "output_type": "error",
     "traceback": [
      "TypeError: non-boolean (Tuple{Bool, String}) used in boolean context\n",
      "\n",
      "Stacktrace:\n",
      " [1] setup_spore_cluster(n_nbrs::Int64, N::Int64, spore_rad::Float64)\n",
      "   @ Main.Setup d:\\MSc Computational Science\\Master Thesis\\msc-thesis\\Code\\setup.jl:24\n",
      " [2] top-level scope\n",
      "   @ d:\\MSc Computational Science\\Master Thesis\\msc-thesis\\Code\\jl_notebook_cell_df34fa98e69747e1a8f8a730347b8e2f_W5sZmlsZQ==.jl:6"
     ]
    }
   ],
   "source": [
    "spore_diameter = 15.0\n",
    "spore_rad = spore_diameter / 2.0\n",
    "\n",
    "N=64\n",
    "\n",
    "spore_centers = setup_spore_cluster(3, N, spore_rad)"
   ]
  }
 ],
 "metadata": {
  "kernelspec": {
   "display_name": "Julia 1.10.5",
   "language": "julia",
   "name": "julia-1.10"
  },
  "language_info": {
   "file_extension": ".jl",
   "mimetype": "application/julia",
   "name": "julia",
   "version": "1.10.5"
  }
 },
 "nbformat": 4,
 "nbformat_minor": 2
}
