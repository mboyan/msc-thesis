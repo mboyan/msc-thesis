{
 "cells": [
  {
   "cell_type": "markdown",
   "metadata": {},
   "source": [
    "## 11. Alignment of Model Scales\n",
    "\n",
    "## Numerical experiments - Week 04/2025\n",
    "\n",
    "_Boyan Mihaylov, MSc Computational Science (UVA/VU)_"
   ]
  },
  {
   "cell_type": "markdown",
   "metadata": {},
   "source": [
    "The goal of this study is to cross-verify and combine the functionalities of the high-resolution, medium-resolution and low-resolution models, in order to obtain a universal mathematical relationship between cell wall permeability, spore density and spore coverage due to clustering."
   ]
  },
  {
   "cell_type": "markdown",
   "metadata": {},
   "source": [
    "## Prerequisite libraries"
   ]
  },
  {
   "cell_type": "code",
   "execution_count": null,
   "metadata": {},
   "outputs": [],
   "source": [
    "using PyPlot\n",
    "using CurveFit\n",
    "using Revise\n",
    "\n",
    "Revise.includet(\"./conversions.jl\")\n",
    "Revise.includet(\"./diffusion.jl\")\n",
    "Revise.includet(\"./setup.jl\")\n",
    "Revise.includet(\"./plotting.jl\")\n",
    "using .Conversions\n",
    "using .Diffusion\n",
    "using .Setup\n",
    "using .Plotting"
   ]
  },
  {
   "cell_type": "markdown",
   "metadata": {},
   "source": [
    "## 1. Spore clusters in the medium and low-resolution models"
   ]
  },
  {
   "cell_type": "markdown",
   "metadata": {},
   "source": [
    "The first experiment compares a high-resolution simulation of a 6-neighbour cluster with varying distances on a lattice of size $L=256\\times 0.2\\mu\\textrm{m}$ with an absorbing boundary to a medium-resolution and a low-resolution simulation of analogical clusters on a lattice of size $L=256\\times 5\\mu\\textrm{m}$ and $L=64\\times 20\\mu\\textrm{m}$, respectively, with a periodic boundary. This aims to investigate the following questions:\n",
    "- Does the absorbing boundary bias results compared to a free flow in a much larger space domain?\n",
    "- Can the medium and low-resolution model be used for a continuation of the distance-versus-decay-exponent function for larger distances?\n",
    "\n",
    "To this end, a range of center-to-center distances between $2R$ and $20R$ are simulated. The resolution of each model permits a specific sub-range of this set:\n",
    "- high resolution: $d_s=[2R, 5R]$;\n",
    "- medium resolution: $d_s=[4R, 40R]$, whereby the direct neighbourhood of spore sites is avoided;\n",
    "- low resolution: $d_s=[8R, 40R]$."
   ]
  },
  {
   "cell_type": "code",
   "execution_count": null,
   "metadata": {},
   "outputs": [
    {
     "data": {
      "text/plain": [
       "5-element Vector{Int64}:\n",
       "  20\n",
       "  40\n",
       "  60\n",
       "  80\n",
       " 100"
      ]
     },
     "metadata": {},
     "output_type": "display_data"
    }
   ],
   "source": [
    "# Global parameters\n",
    "D = 600 # microns^2/s\n",
    "Ps_fit = 0.0002675353069511818 # microns/s\n",
    "t_max = 14400#3600 # s\n",
    "c0_spore = 1.5 # x10^(-5) M\n",
    "c0_cw = 3.84 # x10^(-5) M\n",
    "spore_diameter = 5 # microns\n",
    "spore_rad = spore_diameter / 2.0\n",
    "K = 1#316.23 # partition coefficient, set to 1 since we don't necessarily deal with lipid membranes\n",
    "\n",
    "# Distance ranges\n",
    "dist_range_hr = collect(1:0.25:2.5) * spore_diameter\n",
    "dist_range_mr = collect(2:20) * spore_diameter\n",
    "dist_range_lr = collect(4:4:20) * spore_diameter\n",
    "\n",
    "# Simulation parameters\n",
    "n_save_frames = 10\n",
    "\n",
    "# High-resolution setup\n",
    "N = 256\n",
    "dx = 0.2\n",
    "dt = 0.05\n",
    "Db = Ps_fit * dx / K # compute diffusion coefficient from permeability\n",
    "c_init = zeros(Float64, N, N, N)\n",
    "cluster_params = [(2, true), (2, false), (6, true), (6, false)] # (neighbours, trim)\n",
    "\n",
    "# Run high-resolution simulation\n",
    "coverage_hr = zeros(Float64, length(cluster_params), length(dist_range_hr))\n",
    "exponents_hr = zeros(Float64, length(cluster_params), length(dist_range_hr))\n",
    "for (i, (cluster_size, trim)) in enumerate(cluster_params)\n",
    "    for (j, dist) in enumerate(dist_range_hr)\n",
    "        sp_cen_indices = setup_spore_cluster(cluster_size, N, 0.5 * dist / dx + 0.5, trim) # with safety radius of 0.5\n",
    "        coverage_hr[i, j] = measure_coverage(sp_cen_indices[1], sp_cen_indices[2:end], spore_rad, dx)\n",
    "        c_frames, c_numerical, times_numerical, region_ids, _ = diffusion_time_dependent_GPU_hi_res_implicit(copy(c_init), c0_cw, sp_cen_indices, spore_rad, t_max;\n",
    "                                                                                                                D=D, Db=Db, dt=dt, dx=dx, n_save_frames=n_save_frames,\n",
    "                                                                                                                crank_nicolson=false, abs_bndry=true)\n",
    "        fit = exp_fit(times_numerical, c_numerical)\n",
    "        exponents_hr[i, j] = fit[2]\n",
    "    end\n",
    "end\n",
    "\n",
    "# Mid-resolution setup\n",
    "N = 256\n",
    "dx = 5\n",
    "dt = 0.005\n",
    "c_init = zeros(Float64, N, N, N)\n",
    "cluster_sizes = [2, 3, 5, 6]\n",
    "\n",
    "# Run mid-resolution simulation\n",
    "coverage_mr = zeros(Float64, length(dist_range_mr))\n",
    "exponents_mr = zeros(Float64, length(dist_range_mr))\n",
    "for (i, cluster_size) in enumerate(cluster_sizes)\n",
    "    for (j, dist) in enumerate(dist_range_hr)\n",
    "        # Only for computation of coverage\n",
    "        sp_cen_indices = setup_spore_cluster(1, N, 0.5 * dist / dx + 0.5, trim) # with safety radius of 0.5, additive single neighbour contributions\n",
    "        coverage_mr[i, j] = cluster_size * measure_coverage(sp_cen_indices[1], sp_cen_indices[2], spore_rad, dx)\n",
    "        c_frames, c_numerical, times_numerical, region_ids, _ = diffusion_time_dependent_GPU!(copy(c_init), c0_cw, sp_cen_indices, spore_rad, t_max;\n",
    "                                                                                                D=D, Db=Db, dt=dt, dx=dx, n_save_frames=n_save_frames,\n",
    "                                                                                                cluster_size=1, cluster_spacing=10)\n",
    "        fit = exp_fit(times_numerical, c_numerical)\n",
    "        exponents_hr[i, j] = fit[2]\n",
    "    end\n",
    "end"
   ]
  },
  {
   "cell_type": "code",
   "execution_count": 11,
   "metadata": {},
   "outputs": [
    {
     "data": {
      "text/plain": [
       "4"
      ]
     },
     "metadata": {},
     "output_type": "display_data"
    }
   ],
   "source": [
    "cluster_params = [(2, true), (2, false), (6, true), (6, false)]\n",
    "length(cluster_params)"
   ]
  },
  {
   "cell_type": "code",
   "execution_count": 12,
   "metadata": {},
   "outputs": [
    {
     "data": {
      "text/plain": [
       "6-element Vector{Tuple{Int64, Int64, Int64}}:\n",
       " (0, 0, -1)\n",
       " (0, 0, 1)\n",
       " (0, -1, 0)\n",
       " (0, 1, 0)\n",
       " (-1, 0, 0)\n",
       " (1, 0, 0)"
      ]
     },
     "metadata": {},
     "output_type": "display_data"
    }
   ],
   "source": [
    "spore_idx = (0, 0, 0)\n",
    "cluster_spacing = 1\n",
    "spacing_combos = [-cluster_spacing, 0, cluster_spacing]\n",
    "spore_cluster = vec([(i, j, k) for i in spacing_combos, j in spacing_combos, k in spacing_combos])\n",
    "spore_cluster = spore_cluster[[norm(sc) for sc in spore_cluster] .== cluster_spacing]\n",
    "spore_cluster = [spore_idx .+ spore for spore in spore_cluster]\n",
    "order_indices = [1, 6, 2, 5, 3, 4]\n",
    "# order_indices = order_indices[1:3]\n",
    "spore_cluster = spore_cluster[order_indices]"
   ]
  },
  {
   "cell_type": "markdown",
   "metadata": {},
   "source": []
  }
 ],
 "metadata": {
  "kernelspec": {
   "display_name": "Julia 1.10.5",
   "language": "julia",
   "name": "julia-1.10"
  },
  "language_info": {
   "file_extension": ".jl",
   "mimetype": "application/julia",
   "name": "julia",
   "version": "1.10.5"
  }
 },
 "nbformat": 4,
 "nbformat_minor": 2
}
