{
 "cells": [
  {
   "cell_type": "markdown",
   "metadata": {},
   "source": [
    "## 11. Alignment of Model Scales\n",
    "\n",
    "## Numerical experiments - Week 04/2025\n",
    "\n",
    "_Boyan Mihaylov, MSc Computational Science (UVA/VU)_"
   ]
  },
  {
   "cell_type": "markdown",
   "metadata": {},
   "source": [
    "The goal of this study is to cross-verify and combine the functionalities of the high-resolution, medium-resolution and low-resolution models, in order to obtain a universal mathematical relationship between cell wall permeability, spore density and spore coverage due to clustering."
   ]
  },
  {
   "cell_type": "markdown",
   "metadata": {},
   "source": [
    "## Prerequisite libraries"
   ]
  },
  {
   "cell_type": "code",
   "execution_count": 1,
   "metadata": {},
   "outputs": [],
   "source": [
    "using PyPlot\n",
    "using Revise\n",
    "\n",
    "Revise.includet(\"./conversions.jl\")\n",
    "Revise.includet(\"./diffusion.jl\")\n",
    "Revise.includet(\"./setup.jl\")\n",
    "Revise.includet(\"./plotting.jl\")\n",
    "using .Conversions\n",
    "using .Diffusion\n",
    "using .Setup\n",
    "using .Plotting"
   ]
  },
  {
   "cell_type": "markdown",
   "metadata": {},
   "source": [
    "## 1. Spore clusters in the medium-resolution model"
   ]
  },
  {
   "cell_type": "markdown",
   "metadata": {},
   "source": [
    "The first experiment compares a high-resolution simulation of a 6-neighbour cluster with varying distances on a lattice of size $L=256\\times 0.2\\mu\\textrm{m}$ with an absorbing boundary to a medium-resolution simulation of analogical clusters on a lattice of size $L=256\\times 5\\mu\\textrm{m}$ with a periodic boundary. This aims to investigate the following questions:\n",
    "- Does the absorbing boundary bias results compared to a free flow in a much larger space domain?\n",
    "- Can the medium-resolution model be used for a continuation of the distance-versus-decay-exponent function for larger distances?\n",
    "\n"
   ]
  }
 ],
 "metadata": {
  "kernelspec": {
   "display_name": "Julia 1.10.5",
   "language": "julia",
   "name": "julia-1.10"
  },
  "language_info": {
   "file_extension": ".jl",
   "mimetype": "application/julia",
   "name": "julia",
   "version": "1.10.5"
  }
 },
 "nbformat": 4,
 "nbformat_minor": 2
}
