{
 "cells": [
  {
   "cell_type": "markdown",
   "metadata": {},
   "source": [
    "# 12. Revisiting the single-spore experiments\n",
    "\n",
    "## Numerical experiments - Week 15/2025\n",
    "\n",
    "_Boyan Mihaylov, MSc Computational Science (UVA/VU)_"
   ]
  },
  {
   "cell_type": "markdown",
   "metadata": {},
   "source": [
    "Having refined the models and obtained more insight into the diffusive properties of molecules in _Aspergillus_ conidia, the inhibitor release from a single spore is simulated under several assumed diffusion and permeation constants and multiple estimated permeation constants for targeted 4-hour depletion percentages."
   ]
  },
  {
   "cell_type": "markdown",
   "metadata": {},
   "source": [
    "## Prerequisite libraries"
   ]
  },
  {
   "cell_type": "code",
   "execution_count": 1,
   "metadata": {},
   "outputs": [],
   "source": [
    "using PyPlot\n",
    "using CurveFit\n",
    "using Revise\n",
    "\n",
    "Revise.includet(\"./conversions.jl\")\n",
    "Revise.includet(\"./diffusion.jl\")\n",
    "Revise.includet(\"./setup.jl\")\n",
    "Revise.includet(\"./plotting.jl\")\n",
    "Revise.includet(\"./analysis.jl\")\n",
    "using .Conversions\n",
    "using .Diffusion\n",
    "using .Setup\n",
    "using .Plotting\n",
    "using .Analysis"
   ]
  },
  {
   "cell_type": "markdown",
   "metadata": {},
   "source": [
    "## 1. Estimating the constants"
   ]
  },
  {
   "cell_type": "markdown",
   "metadata": {},
   "source": [
    "### 1.1. Diffusion constants"
   ]
  },
  {
   "cell_type": "markdown",
   "metadata": {},
   "source": [
    "#### 1.1.1. Known values"
   ]
  },
  {
   "cell_type": "markdown",
   "metadata": {},
   "source": [
    "Several permeativities of analogue systems are known:\n",
    "\n",
    "- the diffusion constant of glucose in water is $D=6\\times10^{-6}\\ \\textrm{cm}^2/\\textrm{s}=600\\ \\mu\\textrm{m}^2/\\textrm{s}$;\n",
    "- the diffusion constant of glucose in an agarose film is $D=6.38\\times10^{-6}\\ \\textrm{cm}^2/\\textrm{s}=638\\ \\mu\\textrm{m}^2/\\textrm{s}$;\n",
    "- the diffusion constant of glucose in cellulose nanofibrils is $D=1.7\\times10^{-7}\\ \\textrm{cm}^2/\\textrm{s}=17\\ \\mu\\textrm{m}^2/\\textrm{s}$."
   ]
  },
  {
   "cell_type": "markdown",
   "metadata": {},
   "source": [
    "#### 1.1.2. Diffusion constants of 1-Octen-3-ol"
   ]
  },
  {
   "cell_type": "markdown",
   "metadata": {},
   "source": [
    "The diffusion constant of 1-Octen-3-ol in water can be obtained from the Stokes-Einstein relation\n",
    "\n",
    "$$\n",
    "D=\\frac{k_BT}{6\\pi\\eta a},\n",
    "$$\n",
    "\n",
    "considering a temperature of $T=303.15\\ \\textrm{K}$ (a common cultivation temperature for _Aspergillus_ conidia) and thus a thermodynamic constant of $k_BT=4.18\\times10^{-21}\\ \\textrm{J}$.\n",
    "\n",
    "The Stokes radius of 1-octen-3-ol can be computed from its volume, which is obtained by multiplying its molecular mass $m_M$ by its average density $\\rho$. Since\n",
    "\n",
    "$$\n",
    "m_M(\\textrm{1-octen-3-ol})=128.21\\ \\textrm{g/mol},\n",
    "$$\n",
    "\n",
    "$$\n",
    "\\rho(\\textrm{1-octen-3-ol})=0.837\\ \\textrm{g/mL},\n",
    "$$\n",
    "\n",
    "the molecular volume is\n",
    "\n",
    "$$\n",
    "V_M(\\textrm{1-octen-3-ol})=\\frac{128.21\\ \\textrm{g/mol}}{0.837\\ \\textrm{g/mL}\\cdot 6.022\\times10^{23}\\ \\textrm{mol}^{-1}}\\approx 2.54364\\times 10^{-24}\\ \\textrm{mL},\n",
    "$$\n",
    "\n",
    "which yields a Stokes radius of\n",
    "\n",
    "$$\n",
    "a(\\textrm{1-octen-3-ol}) = \\left(\\frac{3}{4\\pi}V_M\\right)^{1/3}=0.393\\ \\textrm{nm}.\n",
    "$$\n",
    "\n",
    "Using the viscosity of water at $303.15 \\textrm{K}$,\n",
    "\n",
    "$$\n",
    "\\eta(\\textrm{water})=0.797 \\ \\textrm{mPa s},\n",
    "$$\n",
    "\n",
    "one arrives at\n",
    "\n",
    "$$\n",
    "D(\\textrm{1-octen-3-ol in water})\\approx 6.9016\\times 10^{-6}\\ \\textrm{cm}^2/\\textrm{s}=690.16\\ \\mu\\textrm{m}^2/\\textrm{s}.\n",
    "$$\n",
    "\n",
    "Since the Stokes radius of glucose is approximately $0.36\\ \\textrm{nm}$, one can obtain a comparable diffusion constant for glucose using the ratio of the Stokes radii:\n",
    "\n",
    "$$\n",
    "D(\\textrm{glucose in water})=\\frac{a(\\textrm{1-octen-3-ol})}{a(\\textrm{glucose})}\\times D(\\textrm{1-octen-3-ol in water})\\approx 7.534\\times 10^{-6}\\ \\textrm{cm}^2/\\textrm{s}=753.4\\ \\mu\\textrm{m}^2/\\textrm{s}.\n",
    "$$\n",
    "\n",
    "This value is slightly higher than the constant found in literature, possibly due to the sensitivity of the water viscosity $\\eta$ to temperature. Conversely, the ratio of the Stokes radii can be used to relate the other known diffusion constants of glucose to those of 1-octen-3-ol. Similar to glucose, the diffusivity of 1-octen-3-ol in an agarose film would be comparable to its diffusivity in water. In cellulose, the diffusion coefficient would be\n",
    "\n",
    "$$\n",
    "D(\\textrm{1-octen-3-ol in cellulose})\\approx \\frac{a(\\textrm{glucose})}{a(\\textrm{1-octen-3-ol})}\\times D(\\textrm{glucose in cellulose})= 1.56\\times 10^{-7}\\ \\textrm{cm}^2/\\textrm{s}=15.6\\ \\mu\\textrm{m}^2/\\textrm{s}.\n",
    "$$"
   ]
  },
  {
   "cell_type": "code",
   "execution_count": 31,
   "metadata": {},
   "outputs": [
    {
     "name": "stdout",
     "output_type": "stream",
     "text": [
      "Molecular volume: 2.590057057617608e-10\n",
      "Stokes radius: 0.00039543360500816373\n"
     ]
    },
    {
     "data": {
      "text/plain": [
       "690.161673634019"
      ]
     },
     "metadata": {},
     "output_type": "display_data"
    }
   ],
   "source": [
    "# Calculation of diffusion constant\n",
    "a = compute_stokes_radius(128.21, 0.822)\n",
    "println(\"Stokes radius: \", a)\n",
    "compute_D_from_radius_and_viscosity(a, 0.797)"
   ]
  },
  {
   "cell_type": "markdown",
   "metadata": {},
   "source": [
    "#### 1.1.4. Diffusion constants of other VOCs"
   ]
  },
  {
   "cell_type": "markdown",
   "metadata": {},
   "source": [
    "3-octanone is a structural isomer of 1-octen-3-ol and has the same molecular weight and an almost identical density of $0.822\\ \\textrm{g/mL}$. 3-octanol has a molecular weight of $130.23\\ \\textrm{g/mol}$ and a density of $0.818\\ \\textrm{g/mL}$, yielding a Stokes radius of approximately the same size as 1-octen-3-ol and a negligibly different diffusion constant. Hence, the diffusivity of the three VOCs can be considered equivalent."
   ]
  },
  {
   "cell_type": "code",
   "execution_count": 32,
   "metadata": {},
   "outputs": [
    {
     "name": "stdout",
     "output_type": "stream",
     "text": [
      "Molecular volume: 2.643729308752991e-10\n",
      "Stokes radius: 0.000398146398994561\n"
     ]
    },
    {
     "data": {
      "text/plain": [
       "685.4592163404097"
      ]
     },
     "metadata": {},
     "output_type": "display_data"
    }
   ],
   "source": [
    "# Calculation of diffusion constant\n",
    "a = compute_stokes_radius(130.23, 0.818)\n",
    "println(\"Stokes radius: \", a)\n",
    "compute_D_from_radius_and_viscosity(a, 0.797)"
   ]
  },
  {
   "cell_type": "markdown",
   "metadata": {},
   "source": [
    "#### 1.1.4. Diffusion constants of a heat-labile peptide"
   ]
  },
  {
   "cell_type": "markdown",
   "metadata": {},
   "source": [
    "Assuming a protein with a Stokes radius of $6.0\\ \\textrm{nm}$, which is the upper limit of the experimentally observed molecular passages through the conidial cell wall, a diffusion constant through water,\n",
    "\n",
    "$$\n",
    "D(\\textrm{heat-labile peptide in water})\\approx 4.54855\\times 10^{-7}\\ \\textrm{cm}^2/\\textrm{s}=45.4855\\ \\mu\\textrm{m}^2/\\textrm{s},\n",
    "$$\n",
    "\n",
    "can be approximated using the Stokes-Einstein relation. Relating the size of the molecule to that of glucose, the diffusivity of the protein through cellulose could be roughly estimated:\n",
    "\n",
    "$$\n",
    "D(\\textrm{heat-labile peptide in cellulose})\\approx \\frac{a(\\textrm{glucose})}{a(\\textrm{heat-labile peptide})}\\times D(\\textrm{glucose in cellulose})= 1.02\\times 10^{-8}\\ \\textrm{cm}^2/\\textrm{s}=1.02\\ \\mu\\textrm{m}^2/\\textrm{s}.$$"
   ]
  },
  {
   "cell_type": "code",
   "execution_count": 60,
   "metadata": {},
   "outputs": [
    {
     "data": {
      "text/plain": [
       "4.5485519773927985e-7"
      ]
     },
     "metadata": {},
     "output_type": "display_data"
    }
   ],
   "source": [
    "# Calculation of diffusion constant\n",
    "a = 6.0 # nm\n",
    "um2_to_cm2(compute_D_from_radius_and_viscosity(nm_to_um(a), 0.797))"
   ]
  },
  {
   "cell_type": "markdown",
   "metadata": {},
   "source": [
    "### 1.2. Permeation constants"
   ]
  },
  {
   "cell_type": "markdown",
   "metadata": {},
   "source": [
    "#### 1.2.1. Known values"
   ]
  },
  {
   "cell_type": "markdown",
   "metadata": {},
   "source": [
    "The permeation constant of glucose in synthetic lipid bylayer found in literature is $P_s=1.4\\times10^{-10}\\ \\textrm{cm/s}$ or $P_s=2.4\\times10^{-10}\\ \\textrm{cm/s}$. A rough average of $P_s=2.0\\times10^{-10}\\ \\textrm{cm/s}$ is taken.\n",
    "\n",
    "Using the Meyer-Overton rule,\n",
    "\n",
    "$$\n",
    "P_s=\\frac{KD}{d},\n",
    "$$\n",
    "\n",
    "a lipid bilayer thickness $d=3.8\\ \\textrm{nm}$ in its liquid phase and the octanol-water partition coefficient of glucose, $K=6.31\\times 10^{-4}$ (derived from $\\log{K}=-3.2$), the diffusion of glucose through the lipid bilayer can be quantified as\n",
    "\n",
    "$$\n",
    "D=\\frac{P_sd}{K}=\\frac{2.4\\times10^{-10}\\ \\textrm{cm/s}\\cdot 3.8\\times 10^{-7}\\ \\textrm{cm}}{6.31\\times 10^{-4}}\\approx 1.18\\times 10^{-13}\\ \\textrm{cm}^2/\\textrm{s}=1.18\\times 10^{-5}\\ \\mu\\textrm{m}^2/\\textrm{s}.\n",
    "$$"
   ]
  },
  {
   "cell_type": "code",
   "execution_count": 40,
   "metadata": {},
   "outputs": [
    {
     "data": {
      "text/plain": [
       "1.185647425897036e-5"
      ]
     },
     "metadata": {},
     "output_type": "display_data"
    }
   ],
   "source": [
    "# Calculation of diffusion constant\n",
    "D = convert_Ps_to_D(cm_to_um(2e-10), 6.41e-4, nm_to_um(3.8))"
   ]
  },
  {
   "cell_type": "markdown",
   "metadata": {},
   "source": [
    "#### 1.2.2. Permeation constants of 1-octen-3-ol"
   ]
  },
  {
   "cell_type": "markdown",
   "metadata": {},
   "source": [
    "1-octen-3-ol is less polar than glucose and its octanol-water partition coefficient is $K=316.23$ ($\\log{K}=2.5$). If its diffusivity in lipid bilayers is related to the $D$ coefficient of glucose via the Stokes radii, then the Meyer-Overton rule can be used to obtain its permeation coefficient\n",
    "\n",
    "$$\n",
    "P_s(\\textrm{1-octen-3-ol through lipid bilayer})=\\frac{K(\\textrm{1-octen-3-ol})\\cdot D(\\textrm{glucose in lipid bilayer})}{d}\\cdot\\frac{a(\\textrm{glucose})}{a(\\textrm{1-octen-3-ol})}\\approx 9.04\\times10^{-5}\\ \\textrm{cm/s}=0.904\\ \\mu\\textrm{m/s}.\n",
    "$$\n",
    "\n",
    "This would describe a scenario in which the cell membrane is the rate-limiting layer of the spore envelope."
   ]
  },
  {
   "cell_type": "code",
   "execution_count": null,
   "metadata": {},
   "outputs": [
    {
     "data": {
      "text/plain": [
       "0.0038"
      ]
     },
     "metadata": {},
     "output_type": "display_data"
    }
   ],
   "source": [
    "# Calculation of permeation constant\n",
    "convert_D_to_Ps(D, 316.23, nm_to_um(3.8)) * 0.36 / 0.393"
   ]
  },
  {
   "cell_type": "markdown",
   "metadata": {},
   "source": [
    "The Mayer-Overton rule generally does not apply in the same form to barriers different from lipid bilayers. In porous barriers that weakly interact with the solute, the partition coefficient can be approximated to $K\\approx 1$, indicating a lack of preference for the molecule to reside inside or outside the barrier. Other factors like the porosity of the barrier can be assimilated in an effective permeation constant\n",
    "\n",
    "$$\n",
    "P_{\\textrm{eff}}\\approx\\frac{D}{d}.\n",
    "$$\n",
    "\n",
    "It is hereby assumed that there is a rate-limiting permeability of the cell wall components, equivalent to the permeability of a specific substance, which determines the release of the inhibitor from the spore. The upper limit of the cell wall thickness in _Aspergillus_ conidia ($400\\ \\textrm{nm}$) can be used to transform the estimated diffusion constants of 1-octen-3-ol into permeation constants:\n",
    "\n",
    "$$\n",
    "P_{\\textrm{eff}}(\\textrm{1-octen-3-ol through agarose})=\\frac{D(\\textrm{1-octen-3-ol in agarose})}{d}\\approx\\frac{D(\\textrm{1-octen-3-ol in water})}{d}=\\frac{690\\ \\mu\\textrm{m}^2/\\textrm{s}}{0.4\\ \\mu\\textrm{m}}=0.1725\\ \\textrm{cm/s}=1725\\ \\mu\\textrm{m/s},\n",
    "$$"
   ]
  },
  {
   "cell_type": "code",
   "execution_count": 48,
   "metadata": {},
   "outputs": [
    {
     "data": {
      "text/plain": [
       "1725.0"
      ]
     },
     "metadata": {},
     "output_type": "display_data"
    }
   ],
   "source": [
    "# Calculation of permeation constant\n",
    "convert_D_to_Ps(690, 1, 0.4)"
   ]
  },
  {
   "cell_type": "markdown",
   "metadata": {},
   "source": [
    "$$\n",
    "P_{\\textrm{eff}}(\\textrm{1-octen-3-ol through cellulose})=\\frac{D(\\textrm{1-octen-3-ol in cellulose})}{d}=\\frac{15.6\\ \\mu\\textrm{m}^2/\\textrm{s}}{0.4\\ \\mu\\textrm{m}}=0.0039\\ \\textrm{cm/s}=39\\ \\mu\\textrm{m/s}.\n",
    "$$"
   ]
  },
  {
   "cell_type": "code",
   "execution_count": 50,
   "metadata": {},
   "outputs": [
    {
     "data": {
      "text/plain": [
       "39.0"
      ]
     },
     "metadata": {},
     "output_type": "display_data"
    }
   ],
   "source": [
    "# Calculation of permeation constant\n",
    "convert_D_to_Ps(15.6, 1, 0.4)"
   ]
  },
  {
   "cell_type": "markdown",
   "metadata": {},
   "source": [
    "#### 1.2.3. Permeation constants of a heat-labile peptide"
   ]
  },
  {
   "cell_type": "markdown",
   "metadata": {},
   "source": [
    "It is generally difficult to narrow down the range of partition coefficients for potential inhibitor proteins due to their size and complexity. Furthermore, in natural scenarios, proteins usually permeate cell membranes with the help of channels or transporters. Therefore, a permeation constant cannot be obtained in this case.\n",
    "\n",
    "Regarding barriers of polysaccharides, the previously used approach can be applied to link the estimated diffusion constants to permeation constants:\n",
    "\n",
    "$$\n",
    "P_{\\textrm{eff}}(\\textrm{heat-labile peptide through agarose})=\\frac{D(\\textrm{heat-labile peptide in agarose})}{d}\\approx\\frac{D(\\textrm{heat-labile peptide in water})}{d}=\\frac{45.4855}{0.4\\ \\mu\\textrm{m}}=0.011371375\\ \\textrm{cm/s}=113.71375\\ \\mu\\textrm{m/s},\n",
    "$$"
   ]
  },
  {
   "cell_type": "code",
   "execution_count": 62,
   "metadata": {},
   "outputs": [
    {
     "data": {
      "text/plain": [
       "113.71375"
      ]
     },
     "metadata": {},
     "output_type": "display_data"
    }
   ],
   "source": [
    "# Calculation of permeation constant\n",
    "convert_D_to_Ps(45.4855, 1, 0.4)"
   ]
  },
  {
   "cell_type": "markdown",
   "metadata": {},
   "source": [
    "$$\n",
    "P_{\\textrm{eff}}(\\textrm{heat-labile peptide through cellulose})=\\frac{D(\\textrm{heat-labile peptide in cellulose})}{d}=\\frac{1.02\\ \\mu\\textrm{m}^2/\\textrm{s}}{0.4\\ \\mu\\textrm{m}}=2.55\\times 10^{-4}\\ \\textrm{cm/s}=2.55\\ \\mu\\textrm{m/s}.\n",
    "$$"
   ]
  },
  {
   "cell_type": "code",
   "execution_count": 55,
   "metadata": {},
   "outputs": [
    {
     "data": {
      "text/plain": [
       "2.55"
      ]
     },
     "metadata": {},
     "output_type": "display_data"
    }
   ],
   "source": [
    "# Calculation of permeation constant\n",
    "convert_D_to_Ps(1.02, 1, 0.4)"
   ]
  },
  {
   "cell_type": "markdown",
   "metadata": {},
   "source": [
    "### 1.3. Summary"
   ]
  },
  {
   "cell_type": "markdown",
   "metadata": {},
   "source": [
    "The following table summarises the diffusivities of different inhibitor candidates through rate-limiting barrier types:\n",
    "\n",
    "|                                    | 1-octen-3-ol | heat-labile peptide |\n",
    "|------------------------------------|--------------|---------------------|\n",
    "|water                               |$D=6.9016\\times 10^{-6}\\ \\textrm{cm}^2/\\textrm{s}$|$D=4.54855\\times 10^{-7}\\ \\textrm{cm}^2/\\textrm{s}$|\n",
    "|lipid bilayer membrane              |$P_s=2.0\\times10^{-10}\\ \\textrm{cm/s}$|N/A|\n",
    "|agarose-like cell wall (400 nm)     |$P_{\\textrm{eff}}=0.1725\\ \\textrm{cm/s}$|$P_{\\textrm{eff}}=0.011371375\\ \\textrm{cm/s}$|\n",
    "|cellulose-like cell wall (400 nm)   |$P_{\\textrm{eff}}=0.0039\\ \\textrm{cm/s}$|$P_{\\textrm{eff}}=2.55\\times 10^{-4}\\ \\textrm{cm/s}$|"
   ]
  }
 ],
 "metadata": {
  "kernelspec": {
   "display_name": "Julia 1.10.5",
   "language": "julia",
   "name": "julia-1.10"
  },
  "language_info": {
   "file_extension": ".jl",
   "mimetype": "application/julia",
   "name": "julia",
   "version": "1.10.5"
  }
 },
 "nbformat": 4,
 "nbformat_minor": 2
}
