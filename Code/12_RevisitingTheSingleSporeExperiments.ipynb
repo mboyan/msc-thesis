{
 "cells": [
  {
   "cell_type": "markdown",
   "metadata": {
    "editable": true,
    "slideshow": {
     "slide_type": "slide"
    },
    "tags": []
   },
   "source": [
    "# 12. Revisiting the single-spore experiments\n",
    "\n",
    "## Numerical experiments - Week 15/2025\n",
    "\n",
    "_Boyan Mihaylov, MSc Computational Science (UVA/VU)_"
   ]
  },
  {
   "cell_type": "markdown",
   "metadata": {
    "slideshow": {
     "slide_type": "subslide"
    }
   },
   "source": [
    "Having refined the models and obtained more insight into the diffusive properties of molecules in _Aspergillus_ conidia, the inhibitor release from a single spore is simulated under several assumed diffusion and permeation constants and multiple estimated permeation constants for targeted 4-hour depletion percentages."
   ]
  },
  {
   "cell_type": "markdown",
   "metadata": {
    "slideshow": {
     "slide_type": "skip"
    }
   },
   "source": [
    "## Prerequisite libraries"
   ]
  },
  {
   "cell_type": "code",
   "execution_count": 2,
   "metadata": {
    "slideshow": {
     "slide_type": "skip"
    }
   },
   "outputs": [],
   "source": [
    "using PyPlot\n",
    "using CurveFit\n",
    "using Statistics\n",
    "using Optim\n",
    "using MeshGrid\n",
    "using Revise\n",
    "\n",
    "Revise.includet(\"./conversions.jl\")\n",
    "Revise.includet(\"./diffusion.jl\")\n",
    "Revise.includet(\"./setup.jl\")\n",
    "Revise.includet(\"./plotting.jl\")\n",
    "Revise.includet(\"./analysis.jl\")\n",
    "using .Conversions\n",
    "using .Diffusion\n",
    "using .Setup\n",
    "using .Plotting\n",
    "using .Analysis"
   ]
  },
  {
   "cell_type": "markdown",
   "metadata": {
    "slideshow": {
     "slide_type": "slide"
    }
   },
   "source": [
    "## 1. Estimating the constants"
   ]
  },
  {
   "cell_type": "markdown",
   "metadata": {
    "slideshow": {
     "slide_type": "slide"
    }
   },
   "source": [
    "### 1.1. Diffusion constants"
   ]
  },
  {
   "cell_type": "markdown",
   "metadata": {
    "slideshow": {
     "slide_type": "subslide"
    }
   },
   "source": [
    "#### 1.1.1. Known values"
   ]
  },
  {
   "cell_type": "markdown",
   "metadata": {
    "slideshow": {
     "slide_type": "fragment"
    }
   },
   "source": [
    "Several permeativities of analogue systems are known:\n",
    "\n",
    "- the diffusion constant of glucose in water is $D=6\\times10^{-6}\\ \\textrm{cm}^2/\\textrm{s}=600\\ \\mu\\textrm{m}^2/\\textrm{s}$ [1];\n",
    "- the diffusion constant of glucose in an agarose film is $D=6.38\\times10^{-6}\\ \\textrm{cm}^2/\\textrm{s}=638\\ \\mu\\textrm{m}^2/\\textrm{s}$ [2];\n",
    "- the diffusion constant of glucose in cellulose nanofibrils is $D=1.7\\times10^{-7}\\ \\textrm{cm}^2/\\textrm{s}=17\\ \\mu\\textrm{m}^2/\\textrm{s}$ [3]."
   ]
  },
  {
   "cell_type": "markdown",
   "metadata": {
    "slideshow": {
     "slide_type": "subslide"
    }
   },
   "source": [
    "#### 1.1.2. Diffusion constants of 1-Octen-3-ol"
   ]
  },
  {
   "cell_type": "markdown",
   "metadata": {
    "slideshow": {
     "slide_type": "fragment"
    }
   },
   "source": [
    "The diffusion constant of 1-Octen-3-ol in water can be obtained from the Stokes-Einstein relation\n",
    "\n",
    "$$\n",
    "D=\\frac{k_BT}{6\\pi\\eta a},\n",
    "$$\n",
    "\n",
    "considering a temperature of $T=303.15\\ \\textrm{K}$ (a common cultivation temperature for _Aspergillus_ conidia) and thus a thermodynamic constant of $k_BT=4.18\\times10^{-21}\\ \\textrm{J}$."
   ]
  },
  {
   "cell_type": "markdown",
   "metadata": {
    "slideshow": {
     "slide_type": "subslide"
    }
   },
   "source": [
    "The Stokes radius of 1-octen-3-ol can be computed from its volume, which is obtained by multiplying its molecular mass $m_M$ by its average density $\\rho$. Since\n",
    "\n",
    "$$\n",
    "m_M(\\textrm{1-octen-3-ol})=128.21\\ \\textrm{g/mol},\n",
    "$$\n",
    "\n",
    "$$\n",
    "\\rho(\\textrm{1-octen-3-ol})=0.837\\ \\textrm{g/mL},\n",
    "$$\n",
    "\n",
    "the molecular volume is\n",
    "\n",
    "$$\n",
    "V_M(\\textrm{1-octen-3-ol})=\\frac{128.21\\ \\textrm{g/mol}}{0.837\\ \\textrm{g/mL}\\cdot 6.022\\times10^{23}\\ \\textrm{mol}^{-1}}\\approx 2.54364\\times 10^{-24}\\ \\textrm{mL},\n",
    "$$\n",
    "\n",
    "which yields a Stokes radius of\n",
    "\n",
    "$$\n",
    "a(\\textrm{1-octen-3-ol}) = \\left(\\frac{3}{4\\pi}V_M\\right)^{1/3}=0.393\\ \\textrm{nm}.\n",
    "$$\n",
    "\n",
    "Using the viscosity of water at $303.15 \\textrm{K}$,\n",
    "\n",
    "$$\n",
    "\\eta(\\textrm{water})=0.797 \\ \\textrm{mPa s},\n",
    "$$\n",
    "\n",
    "one arrives at\n",
    "\n",
    "$$\n",
    "D(\\textrm{1-octen-3-ol in water})\\approx 6.9016\\times 10^{-6}\\ \\textrm{cm}^2/\\textrm{s}=690.16\\ \\mu\\textrm{m}^2/\\textrm{s}.\n",
    "$$\n",
    "\n"
   ]
  },
  {
   "cell_type": "markdown",
   "metadata": {
    "slideshow": {
     "slide_type": "subslide"
    }
   },
   "source": [
    "Since the Stokes radius of glucose is approximately $0.36\\ \\textrm{nm}$, one can obtain a comparable diffusion constant for glucose using the ratio of the Stokes radii:\n",
    "\n",
    "$$\n",
    "D(\\textrm{glucose in water})=\\frac{a(\\textrm{1-octen-3-ol})}{a(\\textrm{glucose})}\\times D(\\textrm{1-octen-3-ol in water})\\approx 7.534\\times 10^{-6}\\ \\textrm{cm}^2/\\textrm{s}=753.4\\ \\mu\\textrm{m}^2/\\textrm{s}.\n",
    "$$\n",
    "\n",
    "This value is slightly higher than the constant found in literature, possibly due to the sensitivity of the water viscosity $\\eta$ to temperature. Conversely, the ratio of the Stokes radii can be used to relate the other known diffusion constants of glucose to those of 1-octen-3-ol. Similar to glucose, the diffusivity of 1-octen-3-ol in an agarose film would be comparable to its diffusivity in water. In cellulose, the diffusion coefficient would be\n",
    "\n",
    "$$\n",
    "D(\\textrm{1-octen-3-ol in cellulose})\\approx \\frac{a(\\textrm{glucose})}{a(\\textrm{1-octen-3-ol})}\\times D(\\textrm{glucose in cellulose})= 1.56\\times 10^{-7}\\ \\textrm{cm}^2/\\textrm{s}=15.6\\ \\mu\\textrm{m}^2/\\textrm{s}.\n",
    "$$"
   ]
  },
  {
   "cell_type": "code",
   "execution_count": 31,
   "metadata": {
    "slideshow": {
     "slide_type": "skip"
    }
   },
   "outputs": [
    {
     "name": "stdout",
     "output_type": "stream",
     "text": [
      "Molecular volume: 2.590057057617608e-10\n",
      "Stokes radius: 0.00039543360500816373\n"
     ]
    },
    {
     "data": {
      "text/plain": [
       "690.161673634019"
      ]
     },
     "metadata": {},
     "output_type": "display_data"
    }
   ],
   "source": [
    "# Calculation of diffusion constant\n",
    "a = compute_stokes_radius(128.21, 0.822)\n",
    "println(\"Stokes radius: \", a)\n",
    "compute_D_from_radius_and_viscosity(a, 0.797)"
   ]
  },
  {
   "cell_type": "markdown",
   "metadata": {
    "slideshow": {
     "slide_type": "subslide"
    }
   },
   "source": [
    "#### 1.1.4. Diffusion constants of other VOCs"
   ]
  },
  {
   "cell_type": "markdown",
   "metadata": {
    "slideshow": {
     "slide_type": "fragment"
    }
   },
   "source": [
    "3-octanone is a structural isomer of 1-octen-3-ol and has the same molecular weight and an almost identical density of $0.822\\ \\textrm{g/mL}$. 3-octanol has a molecular weight of $130.23\\ \\textrm{g/mol}$ and a density of $0.818\\ \\textrm{g/mL}$, yielding a Stokes radius of approximately the same size as 1-octen-3-ol and a negligibly different diffusion constant. Hence, the diffusivity of the three VOCs can be considered equivalent."
   ]
  },
  {
   "cell_type": "code",
   "execution_count": 32,
   "metadata": {
    "slideshow": {
     "slide_type": "skip"
    }
   },
   "outputs": [
    {
     "name": "stdout",
     "output_type": "stream",
     "text": [
      "Molecular volume: 2.643729308752991e-10\n",
      "Stokes radius: 0.000398146398994561\n"
     ]
    },
    {
     "data": {
      "text/plain": [
       "685.4592163404097"
      ]
     },
     "metadata": {},
     "output_type": "display_data"
    }
   ],
   "source": [
    "# Calculation of diffusion constant\n",
    "a = compute_stokes_radius(130.23, 0.818)\n",
    "println(\"Stokes radius: \", a)\n",
    "compute_D_from_radius_and_viscosity(a, 0.797)"
   ]
  },
  {
   "cell_type": "markdown",
   "metadata": {
    "slideshow": {
     "slide_type": "subslide"
    }
   },
   "source": [
    "#### 1.1.4. Diffusion constants of a heat-labile peptide"
   ]
  },
  {
   "cell_type": "markdown",
   "metadata": {
    "slideshow": {
     "slide_type": "fragment"
    }
   },
   "source": [
    "Assuming a protein with a Stokes radius of $6.0\\ \\textrm{nm}$, which is the upper limit of the experimentally observed molecular passages through the conidial cell wall [4], a diffusion constant through water,\n",
    "\n",
    "$$\n",
    "D(\\textrm{heat-labile peptide in water})\\approx 4.54855\\times 10^{-7}\\ \\textrm{cm}^2/\\textrm{s}=45.4855\\ \\mu\\textrm{m}^2/\\textrm{s},\n",
    "$$\n",
    "\n",
    "can be approximated using the Stokes-Einstein relation. Relating the size of the molecule to that of glucose, the diffusivity of the protein through cellulose could be roughly estimated:\n",
    "\n",
    "$$\n",
    "D(\\textrm{heat-labile peptide in cellulose})\\approx \\frac{a(\\textrm{glucose})}{a(\\textrm{heat-labile peptide})}\\times D(\\textrm{glucose in cellulose})= 1.02\\times 10^{-8}\\ \\textrm{cm}^2/\\textrm{s}=1.02\\ \\mu\\textrm{m}^2/\\textrm{s}.$$"
   ]
  },
  {
   "cell_type": "code",
   "execution_count": 60,
   "metadata": {
    "slideshow": {
     "slide_type": "skip"
    }
   },
   "outputs": [
    {
     "data": {
      "text/plain": [
       "4.5485519773927985e-7"
      ]
     },
     "metadata": {},
     "output_type": "display_data"
    }
   ],
   "source": [
    "# Calculation of diffusion constant\n",
    "a = 6.0 # nm\n",
    "um2_to_cm2(compute_D_from_radius_and_viscosity(nm_to_um(a), 0.797))"
   ]
  },
  {
   "cell_type": "markdown",
   "metadata": {
    "slideshow": {
     "slide_type": "subslide"
    }
   },
   "source": [
    "### 1.2. Permeation constants"
   ]
  },
  {
   "cell_type": "markdown",
   "metadata": {
    "slideshow": {
     "slide_type": "subslide"
    }
   },
   "source": [
    "#### 1.2.1. Known values"
   ]
  },
  {
   "cell_type": "markdown",
   "metadata": {
    "slideshow": {
     "slide_type": "fragment"
    }
   },
   "source": [
    "The permeation constant of glucose in synthetic lipid bylayer found in literature is $P_s=1.4\\times10^{-10}\\ \\textrm{cm/s}$ [5] or $P_s=2.4\\times10^{-10}\\ \\textrm{cm/s}$ [6]. A rough average of $P_s=2.0\\times10^{-10}\\ \\textrm{cm/s}$ is taken.\n",
    "\n",
    "Using the Meyer-Overton rule,\n",
    "\n",
    "$$\n",
    "P_s=\\frac{KD}{d},\n",
    "$$\n",
    "\n",
    "a lipid bilayer thickness $d=3.8\\ \\textrm{nm}$ in its liquid phase [7] and the octanol-water partition coefficient of glucose, $K=6.31\\times 10^{-4}$ ($\\log{K}=-3.2$) [8], the diffusion of glucose through the lipid bilayer can be quantified as\n",
    "\n",
    "$$\n",
    "D=\\frac{P_sd}{K}=\\frac{2.4\\times10^{-10}\\ \\textrm{cm/s}\\cdot 3.8\\times 10^{-7}\\ \\textrm{cm}}{6.31\\times 10^{-4}}\\approx 1.18\\times 10^{-13}\\ \\textrm{cm}^2/\\textrm{s}=1.18\\times 10^{-5}\\ \\mu\\textrm{m}^2/\\textrm{s}.\n",
    "$$"
   ]
  },
  {
   "cell_type": "code",
   "execution_count": 40,
   "metadata": {
    "slideshow": {
     "slide_type": "skip"
    }
   },
   "outputs": [
    {
     "data": {
      "text/plain": [
       "1.185647425897036e-5"
      ]
     },
     "metadata": {},
     "output_type": "display_data"
    }
   ],
   "source": [
    "# Calculation of diffusion constant\n",
    "D = convert_Ps_to_D(cm_to_um(2e-10), 6.41e-4, nm_to_um(3.8))"
   ]
  },
  {
   "cell_type": "markdown",
   "metadata": {
    "slideshow": {
     "slide_type": "subslide"
    }
   },
   "source": [
    "#### 1.2.2. Permeation constants of 1-octen-3-ol"
   ]
  },
  {
   "cell_type": "markdown",
   "metadata": {
    "slideshow": {
     "slide_type": "fragment"
    }
   },
   "source": [
    "1-octen-3-ol is less polar than glucose and its octanol-water partition coefficient is $K=316.23$ ($\\log{K}=2.5$). If its diffusivity in lipid bilayers is related to the $D$ coefficient of glucose via the Stokes radii, then the Meyer-Overton rule can be used to obtain its permeation coefficient\n",
    "\n",
    "$$\n",
    "P_s(\\textrm{1-octen-3-ol through lipid bilayer})=\\frac{K(\\textrm{1-octen-3-ol})\\cdot D(\\textrm{glucose in lipid bilayer})}{d}\\cdot\\frac{a(\\textrm{glucose})}{a(\\textrm{1-octen-3-ol})}\\approx 9.04\\times10^{-5}\\ \\textrm{cm/s}=0.904\\ \\mu\\textrm{m/s}.\n",
    "$$\n",
    "\n",
    "This would describe a scenario in which the cell membrane is the rate-limiting layer of the spore envelope."
   ]
  },
  {
   "cell_type": "code",
   "execution_count": null,
   "metadata": {
    "slideshow": {
     "slide_type": "skip"
    }
   },
   "outputs": [
    {
     "data": {
      "text/plain": [
       "0.0038"
      ]
     },
     "metadata": {},
     "output_type": "display_data"
    }
   ],
   "source": [
    "# Calculation of permeation constant\n",
    "convert_D_to_Ps(D, 316.23, nm_to_um(3.8)) * 0.36 / 0.393"
   ]
  },
  {
   "cell_type": "markdown",
   "metadata": {
    "slideshow": {
     "slide_type": "subslide"
    }
   },
   "source": [
    "The Meyer-Overton rule generally does not apply in the same form to barriers different from lipid bilayers. In porous barriers, filled with water, that weakly interact with the solute, the partition coefficient can be approximated to $K\\approx 1$, indicating a lack of preference for the molecule to reside inside or outside the barrier. Other factors like the porosity of the barrier can be assimilated in an effective permeation constant\n",
    "\n",
    "$$\n",
    "P_{\\textrm{eff}}\\approx\\frac{D}{d}.\n",
    "$$\n",
    "\n",
    "It is hereby assumed that there is a rate-limiting permeability of the cell wall components, equivalent to the permeability of a specific substance, which determines the release of the inhibitor from the spore. The upper limit of the cell wall thickness in _Aspergillus_ conidia ($400\\ \\textrm{nm}$) [9] can be used to transform the estimated diffusion constants of 1-octen-3-ol into permeation constants:\n",
    "\n",
    "$$\n",
    "P_{\\textrm{eff}}(\\textrm{1-octen-3-ol through agarose})=\\frac{D(\\textrm{1-octen-3-ol in agarose})}{d}\\approx\\frac{D(\\textrm{1-octen-3-ol in water})}{d}=\\frac{690\\ \\mu\\textrm{m}^2/\\textrm{s}}{0.4\\ \\mu\\textrm{m}}=0.1725\\ \\textrm{cm/s}=1725\\ \\mu\\textrm{m/s},\n",
    "$$"
   ]
  },
  {
   "cell_type": "code",
   "execution_count": 48,
   "metadata": {
    "slideshow": {
     "slide_type": "skip"
    }
   },
   "outputs": [
    {
     "data": {
      "text/plain": [
       "1725.0"
      ]
     },
     "metadata": {},
     "output_type": "display_data"
    }
   ],
   "source": [
    "# Calculation of permeation constant\n",
    "convert_D_to_Ps(690, 1, 0.4)"
   ]
  },
  {
   "cell_type": "markdown",
   "metadata": {
    "slideshow": {
     "slide_type": "subslide"
    }
   },
   "source": [
    "$$\n",
    "P_{\\textrm{eff}}(\\textrm{1-octen-3-ol through cellulose})=\\frac{D(\\textrm{1-octen-3-ol in cellulose})}{d}=\\frac{15.6\\ \\mu\\textrm{m}^2/\\textrm{s}}{0.4\\ \\mu\\textrm{m}}=0.0039\\ \\textrm{cm/s}=39\\ \\mu\\textrm{m/s}.\n",
    "$$"
   ]
  },
  {
   "cell_type": "code",
   "execution_count": 50,
   "metadata": {
    "slideshow": {
     "slide_type": "skip"
    }
   },
   "outputs": [
    {
     "data": {
      "text/plain": [
       "39.0"
      ]
     },
     "metadata": {},
     "output_type": "display_data"
    }
   ],
   "source": [
    "# Calculation of permeation constant\n",
    "convert_D_to_Ps(15.6, 1, 0.4)"
   ]
  },
  {
   "cell_type": "markdown",
   "metadata": {
    "slideshow": {
     "slide_type": "subslide"
    }
   },
   "source": [
    "#### 1.2.3. Permeation constants of a heat-labile peptide"
   ]
  },
  {
   "cell_type": "markdown",
   "metadata": {
    "slideshow": {
     "slide_type": "fragment"
    }
   },
   "source": [
    "It is generally difficult to narrow down the range of partition coefficients for potential inhibitor proteins due to their size and complexity. Furthermore, in natural scenarios, proteins usually permeate cell membranes with the help of channels or transporters. Therefore, a permeation constant cannot be obtained in this case.\n",
    "\n",
    "Regarding barriers of polysaccharides, the previously used approach can be applied to link the estimated diffusion constants to permeation constants:\n",
    "\n",
    "$$\n",
    "P_{\\textrm{eff}}(\\textrm{heat-labile peptide through agarose})=\\frac{D(\\textrm{heat-labile peptide in agarose})}{d}\\approx\\frac{D(\\textrm{heat-labile peptide in water})}{d}=\\frac{45.4855}{0.4\\ \\mu\\textrm{m}}=0.011371375\\ \\textrm{cm/s}=113.71375\\ \\mu\\textrm{m/s},\n",
    "$$"
   ]
  },
  {
   "cell_type": "code",
   "execution_count": 62,
   "metadata": {
    "slideshow": {
     "slide_type": "skip"
    }
   },
   "outputs": [
    {
     "data": {
      "text/plain": [
       "113.71375"
      ]
     },
     "metadata": {},
     "output_type": "display_data"
    }
   ],
   "source": [
    "# Calculation of permeation constant\n",
    "convert_D_to_Ps(45.4855, 1, 0.4)"
   ]
  },
  {
   "cell_type": "markdown",
   "metadata": {
    "slideshow": {
     "slide_type": "subslide"
    }
   },
   "source": [
    "$$\n",
    "P_{\\textrm{eff}}(\\textrm{heat-labile peptide through cellulose})=\\frac{D(\\textrm{heat-labile peptide in cellulose})}{d}=\\frac{1.02\\ \\mu\\textrm{m}^2/\\textrm{s}}{0.4\\ \\mu\\textrm{m}}=2.55\\times 10^{-4}\\ \\textrm{cm/s}=2.55\\ \\mu\\textrm{m/s}.\n",
    "$$"
   ]
  },
  {
   "cell_type": "code",
   "execution_count": 55,
   "metadata": {
    "slideshow": {
     "slide_type": "skip"
    }
   },
   "outputs": [
    {
     "data": {
      "text/plain": [
       "2.55"
      ]
     },
     "metadata": {},
     "output_type": "display_data"
    }
   ],
   "source": [
    "# Calculation of permeation constant\n",
    "convert_D_to_Ps(1.02, 1, 0.4)"
   ]
  },
  {
   "cell_type": "markdown",
   "metadata": {
    "slideshow": {
     "slide_type": "subslide"
    }
   },
   "source": [
    "### 1.3. Summary"
   ]
  },
  {
   "cell_type": "markdown",
   "metadata": {
    "slideshow": {
     "slide_type": "fragment"
    }
   },
   "source": [
    "The following table summarises the diffusivities of different inhibitor candidates through rate-limiting barrier types:\n",
    "\n",
    "|                                    | 1-octen-3-ol | heat-labile peptide |\n",
    "|------------------------------------|--------------|---------------------|\n",
    "|water                               |$D=6.9016\\times 10^{-6}\\ \\textrm{cm}^2/\\textrm{s}$|$D=4.54855\\times 10^{-7}\\ \\textrm{cm}^2/\\textrm{s}$|\n",
    "|lipid bilayer membrane              |$P_s=2.0\\times10^{-10}\\ \\textrm{cm/s}$|N/A|\n",
    "|agarose-like cell wall (400 nm)     |$P_{\\textrm{eff}}=0.1725\\ \\textrm{cm/s}$|$P_{\\textrm{eff}}=0.011371375\\ \\textrm{cm/s}$|\n",
    "|cellulose-like cell wall (400 nm)   |$P_{\\textrm{eff}}=0.0039\\ \\textrm{cm/s}$|$P_{\\textrm{eff}}=2.55\\times 10^{-4}\\ \\textrm{cm/s}$|"
   ]
  },
  {
   "cell_type": "markdown",
   "metadata": {
    "slideshow": {
     "slide_type": "slide"
    }
   },
   "source": [
    "## 2. Time-based concentration differences"
   ]
  },
  {
   "cell_type": "markdown",
   "metadata": {
    "slideshow": {
     "slide_type": "fragment"
    }
   },
   "source": [
    "Without knowing the precise mechanisms of inhibition, it is difficult to establish how much the concentration of the inhibitor decreases in the 4-hour period prior to the swelling phase. However, an attempt can be made to infer these from experiments with _A. nidulans_ [10], where both the effect of spore crowding and of added 1-octen-3-ol have been measured."
   ]
  },
  {
   "cell_type": "markdown",
   "metadata": {
    "slideshow": {
     "slide_type": "subslide"
    }
   },
   "source": [
    "### 2.1. Measured relationship between crowding and germination success"
   ]
  },
  {
   "cell_type": "markdown",
   "metadata": {
    "slideshow": {
     "slide_type": "fragment"
    }
   },
   "source": [
    "The documented impact of spore density on the germination at 11 hours of incubation is as follows:\n",
    "\n",
    "|Conidia/mL|$1\\times 10^3$|$1\\times 10^4$|$1\\times 10^5$|$1\\times 10^6$|$1\\times 10^7$|$1\\times 10^8$|\n",
    "|----------|--------------|--------------|--------------|--------------|--------------|--------------|\n",
    "|% Germination|$91.3\\pm7.1$|$92.5\\pm7.4$|$83\\pm7.0$|$72\\pm6.1$|$17\\pm0.3$|$8\\pm0.3$|"
   ]
  },
  {
   "cell_type": "code",
   "execution_count": 2,
   "metadata": {
    "slideshow": {
     "slide_type": "subslide"
    }
   },
   "outputs": [
    {
     "data": {
      "image/png": "[encoded data removed]",
      "text/plain": [
       "Figure(PyObject <Figure size 500x400 with 1 Axes>)"
      ]
     },
     "metadata": {},
     "output_type": "display_data"
    }
   ],
   "source": [
    "spore_densities = [1e3, 1e4, 1e5, 1e6, 1e7, 1e8]\n",
    "germination_responses_A = [91.3, 92.5, 83.0, 72.0, 17.0, 8.0]\n",
    "confidence_intervals_A = [7.1, 7.4, 7.0, 6.1, 0.3, 0.3]\n",
    "\n",
    "fig, ax = plt.subplots(1, 1, figsize=(5, 4))\n",
    "ax.errorbar(spore_densities, germination_responses_A, yerr=confidence_intervals_A, fmt=\"o\", color=\"black\", markersize=5, label=\"Germination response\")\n",
    "ax.set_xlabel(\"Spore density (spores/mL)\", fontsize=12)\n",
    "ax.set_ylabel(\"Germination response (%)\", fontsize=12)\n",
    "ax.set_xscale(\"log\")\n",
    "ax.grid()\n",
    "\n",
    "gcf()"
   ]
  },
  {
   "cell_type": "markdown",
   "metadata": {
    "slideshow": {
     "slide_type": "fragment"
    }
   },
   "source": [
    "A sigmoidal tendency is observable in the data, hinting at a non-linear relationsip between the spore density and the rate of germination."
   ]
  },
  {
   "cell_type": "markdown",
   "metadata": {
    "slideshow": {
     "slide_type": "subslide"
    }
   },
   "source": [
    "### 2.2. Measured relationship between added 1-octen-3-ol and germination success"
   ]
  },
  {
   "cell_type": "markdown",
   "metadata": {
    "slideshow": {
     "slide_type": "fragment"
    }
   },
   "source": [
    "The effect of added 1-octen-3-ol concentrations to a spore inoculum of density $10^5$ spores/mL, measured at 10 hours of incubation, is as follows:\n",
    "\n",
    "|mM|1.0|2.5|4.0|5.0|\n",
    "|----------|--------------|--------------|--------------|--------------|\n",
    "|% Germination|$87\\pm6.1$|$36\\pm4.3$|$14\\pm2.1$|$1\\pm0.3$|\n",
    "\n",
    "The control experiment yields a germination success of $95\\pm5.3\\%$."
   ]
  },
  {
   "cell_type": "code",
   "execution_count": 3,
   "metadata": {
    "slideshow": {
     "slide_type": "subslide"
    }
   },
   "outputs": [
    {
     "name": "stdout",
     "output_type": "stream",
     "text": [
      "Fitted parameters: 5.09074242509029 -0.01882370806130874\n"
     ]
    },
    {
     "data": {
      "image/png": "[encoded data removed]",
      "text/plain": [
       "Figure(PyObject <Figure size 500x400 with 1 Axes>)"
      ]
     },
     "metadata": {},
     "output_type": "display_data"
    }
   ],
   "source": [
    "concentrations = [1.0, 2.5, 4.0, 5.0]\n",
    "germination_responses_B = [87, 36, 14, 1]\n",
    "confidence_intervals_B = [6.1, 4.3, 2.1, 0.3]\n",
    "\n",
    "# Fit exponential model to data\n",
    "fit = exp_fit(germination_responses_B, concentrations)\n",
    "println(\"Fitted parameters: \", fit[1], \" \", fit[2])\n",
    "\n",
    "fig, ax = plt.subplots(1, 1, figsize=(5, 4))\n",
    "ax.errorbar(concentrations, germination_responses_B, yerr=confidence_intervals_B, fmt=\"o\", color=\"black\", markersize=5, label=\"Germination response\")\n",
    "sample_pts = LinRange(0, 100, 100)\n",
    "ax.plot(fit[1] * exp.(fit[2] .* sample_pts), sample_pts, color=\"red\", label=\"Fitted curve\")\n",
    "ax.set_xlabel(\"1-octen-3-ol concentration (mM)\", fontsize=12)\n",
    "ax.set_ylabel(\"Germination response (%)\", fontsize=12)\n",
    "ax.grid()\n",
    "ax.set_ylim(0, 100)\n",
    "\n",
    "gcf()"
   ]
  },
  {
   "cell_type": "markdown",
   "metadata": {
    "slideshow": {
     "slide_type": "fragment"
    }
   },
   "source": [
    "Interestingly, a logarithmic function yields the closest fit through the data."
   ]
  },
  {
   "cell_type": "markdown",
   "metadata": {
    "slideshow": {
     "slide_type": "subslide"
    }
   },
   "source": [
    "### 2.3. Equating the results via the established model"
   ]
  },
  {
   "cell_type": "markdown",
   "metadata": {
    "slideshow": {
     "slide_type": "skip"
    }
   },
   "source": [
    "Following our hypothesis and the inhibitor saturation model derived earlier, the concentration of inhibitor in the spore follows the formula\n",
    "\n",
    "$$\n",
    "\\begin{equation}\n",
    "c_{\\textrm{in}}{(t)}=\\phi c_0+(1-\\phi)\\left[c_{\\textrm{ex}}+\\left(c_0-c_{\\textrm{ex}}\\right)e^{-\\frac{t}{\\tau(1-\\phi)}}\\right].\n",
    "\\end{equation}\n",
    "$$\n",
    "\n",
    "where $\\phi=\\rho V_s$ is the volume fraction occupied by the spores.\n",
    "\n",
    "<!-- Separating the $c_0$-dependent terms and rewriting the equation yields an expression for the initial concentration:\n",
    "\n",
    "$$\n",
    "\\begin{equation}\n",
    "c_{\\textrm{in}}{(t)}=\\phi c_0+(1-\\phi)c_0e^{-\\frac{t}{\\tau(1-\\phi)}} + (1-\\phi)c_{\\textrm{ex}}\\left[1- e^{-\\frac{t}{\\tau(1-\\phi)}}\\right],\n",
    "\\end{equation}\n",
    "$$\n",
    "\n",
    "$$\n",
    "\\begin{equation}\n",
    "c_{\\textrm{in}}{(t)}-(1-\\phi)c_{\\textrm{ex}}\\left[1- e^{-\\frac{t}{\\tau(1-\\phi)}}\\right]=c_0\\left[\\phi+(1-\\phi)e^{-\\frac{t}{\\tau(1-\\phi)}}\\right],\n",
    "\\end{equation}\n",
    "$$\n",
    "\n",
    "$$\n",
    "\\begin{equation}\n",
    "c_0=\\frac{c_{\\textrm{in}}{(t)}-(1-\\phi)c_{\\textrm{ex}}\\left[1- e^{-\\frac{t}{\\tau(1-\\phi)}}\\right]}{\\phi+(1-\\phi)e^{-\\frac{t}{\\tau(1-\\phi)}}}.\n",
    "\\end{equation}\n",
    "$$\n",
    "\n",
    "In the case of a zero added exogenous concentration, the above term reduces to\n",
    "\n",
    "$$\n",
    "\\begin{equation}\n",
    "c_0=\\frac{c_{\\textrm{in}}{(t)}}{\\phi+(1-\\phi)e^{-\\frac{t}{\\tau(1-\\phi)}}}.\n",
    "\\end{equation}\n",
    "$$\n",
    "\n",
    "**Correlating the empirical results** -->\n",
    "\n",
    "Assuming that the two germination experiments contain spores with the same distribution of heterogeneity, an equivalent average concentration drop would lead to an equivalent germination percentage. It is easy to fit an exponential relationship through the data points for germination percentage and inhibitor concentration in the second model. Evaluating this function at the germination percentages from the first experiment, one can obtain the exogenous 1-octen-3-ol concentration equivalents of the different spore densities.\n",
    "\n",
    "For simplicity, it is assumed that both results are valid for 10 hours of incubation, even though the first measurements were taken at the 11-hour mark. At a first glance, the germination rate of $95\\pm5.3\\%$ for control experiment at $10^5$ spores/mL and zero added inhibitor has a minor confidence interval overlap with the $83\\pm7.0\\%$ germination success of the $10^5$ spores/mL setup in the variable spore density experiments. Since further data on the samples is lacking, this can be taken as sufficient evidence that the results follow the same distribution."
   ]
  },
  {
   "cell_type": "code",
   "execution_count": 4,
   "metadata": {
    "slideshow": {
     "slide_type": "fragment"
    }
   },
   "outputs": [
    {
     "name": "stdout",
     "output_type": "stream",
     "text": [
      "Spore density: 1000.0 Germination response: 91.3 Exogenous concentration equivalent: 0.912852591491095\n",
      "Spore density: 10000.0 Germination response: 92.5 Exogenous concentration equivalent: 0.8924638090818455\n",
      "Spore density: 100000.0 Germination response: 83.0 Exogenous concentration equivalent: 1.0672186913225532\n",
      "Spore density: 1.0e6 Germination response: 72.0 Exogenous concentration equivalent: 1.3127401879158425\n",
      "Spore density: 1.0e7 Germination response: 17.0 Exogenous concentration equivalent: 3.6966264831416455\n",
      "Spore density: 1.0e8 Germination response: 8.0 Exogenous concentration equivalent: 4.379059673750989\n"
     ]
    }
   ],
   "source": [
    "ex_conc_equivalents = fit[1] * exp.(fit[2] .* germination_responses_A)\n",
    "\n",
    "for i in 1:length(germination_responses_A)\n",
    "    println(\"Spore density: \", spore_densities[i], \" Germination response: \", germination_responses_A[i], \" Exogenous concentration equivalent: \", ex_conc_equivalents[i])\n",
    "end"
   ]
  },
  {
   "cell_type": "markdown",
   "metadata": {
    "slideshow": {
     "slide_type": "skip"
    }
   },
   "source": [
    "If one equates the internal concentration under density-driven saturation to the one under exogenously added inhibitor, the following equation is obtained:\n",
    "\n",
    "$$\n",
    "\\begin{equation}\n",
    "\\phi c_0+(1-\\phi)\\left(c_0e^{-\\frac{t}{\\tau(1-\\phi)}}\\right)=\\phi' c_0+(1-\\phi')\\left[c_{\\textrm{ex}}+\\left(c_0-c_{\\textrm{ex}}\\right)e^{-\\frac{t}{\\tau(1-\\phi')}}\\right],\n",
    "\\end{equation}\n",
    "$$\n",
    "\n",
    "where $\\phi'$ is the volume fraction at the reference density of $\\rho'=10^5$ spores/mL. The two unknown variables in this system are $\\tau$ (in particular, its $P_s$ component) and $c_0$. Separating the $c_0$-dependent terms,\n",
    "\n",
    "$$\n",
    "\\begin{equation}\n",
    "c_0\\left[\\phi+(1-\\phi)e^{-\\frac{t}{\\tau(1-\\phi)}}\\right]=c_0\\left[\\phi' +(1-\\phi')e^{-\\frac{t}{\\tau(1-\\phi')}}\\right] + (1-\\phi')c_{\\textrm{ex}}\\left[1- e^{-\\frac{t}{\\tau(1-\\phi')}}\\right],\n",
    "\\end{equation}\n",
    "$$\n",
    "\n",
    "and rewriting for $c_0$,\n",
    "\n",
    "$$\n",
    "\\begin{equation}\n",
    "c_0\\left[\\phi+(1-\\phi)e^{-\\frac{t}{\\tau(1-\\phi)}}-\\phi' -(1-\\phi')e^{-\\frac{t}{\\tau(1-\\phi')}}\\right]=(1-\\phi')c_{\\textrm{ex}}\\left[1- e^{-\\frac{t}{\\tau(1-\\phi')}}\\right],\n",
    "\\end{equation}\n",
    "$$\n",
    "\n",
    "$$\n",
    "\\begin{equation}\n",
    "c_0=\\frac{(1-\\phi')c_{\\textrm{ex}}\\left[1- e^{-\\frac{t}{\\tau(1-\\phi')}}\\right]}{\\phi+(1-\\phi)e^{-\\frac{t}{\\tau(1-\\phi)}}-\\phi' -(1-\\phi')e^{-\\frac{t}{\\tau(1-\\phi')}}}.\n",
    "\\end{equation}\n",
    "$$\n",
    "\n",
    "The term in the denominator can assume negative values for densities smaller than the reference spore density. This makes sense, because according to the mathematical approach, $\\rho_s'=10^5$ corresponds to the \"ground-zero\" from which additions in exogenous concentrations correspond to additions of spores. Conversely, if spores are taken away from the reference point, the corresponding exogenous concentration would be negative, i.e. inhibitor molecules need to be removed from the system.\n",
    "\n",
    "One can examine whether, having the same $\\tau$, this formula produces consistent results for $c_0$ under varying spore densities linked to exogenous concentrations from the 10-hour experimental measurements. To this end, a minimisation procedure is implemented, which fits a variable $P_s$ with respect to minimising the standard deviation of $c_0$ under the given $c_{\\textrm{ex}}$ inputs. The standard deviation is thereby normalised by dividing by the mean $\\langle c_0\\rangle_{c_{\\textrm{ex}}}$"
   ]
  },
  {
   "cell_type": "code",
   "execution_count": null,
   "metadata": {
    "slideshow": {
     "slide_type": "skip"
    }
   },
   "outputs": [
    {
     "name": "stdout",
     "output_type": "stream",
     "text": [
      "[1000.0, 10000.0, 100000.0, 1.0e6, 1.0e7, 1.0e8]\n",
      "[0.912852591491095, 0.8924638090818455, 1.0672186913225532, 1.3127401879158425, 3.6966264831416455, 4.379059673750989]\n",
      "c₀: [-0.0002062836018415309, -0.000277434745875132, -0.0003416276193411824, -0.00042144490317281224, -0.0011871175873169105, -0.001406311879332602]\n",
      "Minimum coefficient of variation 2.164725589359492 for P_s=1.0006910833004609e-13: <c_0>=2.583513300250021e-6\n",
      "[1.406620959049648e-5, 1.3752073625728871e-6, 1.644488012471892e-7, 2.0228002467326703e-8, 5.695725824261308e-9, 6.742439130738761e-10]\n"
     ]
    },
    {
     "data": {
      "image/png": "[encoded data removed]",
      "text/plain": [
       "Figure(PyObject <Figure size 600x400 with 1 Axes>)"
      ]
     },
     "metadata": {},
     "output_type": "display_data"
    }
   ],
   "source": [
    "# Example usage:\n",
    "spore_diameter = 5.0\n",
    "A, V = compute_spore_area_and_volume_from_dia(spore_diameter)       # Surface area and volume of the sphere\n",
    "Ps_fit = 0.0002675353069511818                                          # Permeation constant\n",
    "t = 36000                                                           # Total integration time (10 hours)\n",
    "\n",
    "println(spore_densities)\n",
    "println(ex_conc_equivalents)\n",
    "\n",
    "function calc_c0(t, ρ_ref, Pₛ, A, V)\n",
    "    ρ = spore_densities\n",
    "    c_ex = ex_conc_equivalents\n",
    "    ϕ = ρ .* V\n",
    "    ϕ_ref = ρ_ref * V\n",
    "    τ = V / (A * Pₛ) # Decay time constant\n",
    "    c₀ = (1 - ϕ_ref) .* c_ex .* (1 - exp(-t/(τ * (1-ϕ_ref)))) ./ (ϕ .+ (1 .- ϕ) .* exp.(-t./(τ.-ϕ)) .- ϕ_ref .- (1 - ϕ_ref) * exp(-t/(τ * (1-ϕ_ref))))\n",
    "    return c₀\n",
    "end\n",
    "\n",
    "c₀ = calc_c0(t, 1e5, Ps_fit, A, V)\n",
    "println(\"c₀: \", c₀)\n",
    "\n",
    "Ps_vals = 10 .^ LinRange(-13, -10, 10000)\n",
    "\n",
    "c0_means = zeros(length(Ps_vals))\n",
    "c0_norm_vars = zeros(length(Ps_vals))\n",
    "for i in 1:length(Ps_vals)\n",
    "    c0 = calc_c0(t, 1e5, Ps_vals[i], A, V)\n",
    "    c0_means[i] = mean(c0)\n",
    "    c0_norm_vars[i] = std(c0) / abs(c0_means[i])\n",
    "end\n",
    "\n",
    "min_idx = argmin(c0_norm_vars)\n",
    "println(\"Minimum coefficient of variation \", c0_norm_vars[min_idx],\" for P_s=$(Ps_vals[min_idx]): <c_0>=$(c0_means[min_idx])\")\n",
    "println(calc_c0(t, 1e5, Ps_vals[min_idx], A, V))\n",
    "\n",
    "fig, ax = plt.subplots(figsize=(6, 4))\n",
    "ax.plot(Ps_vals, c0_means[:], label=L\"\\langle c_0\\rangle\", alpha=0.75)\n",
    "# ax.plot(Ps_vals, c0_norm_vars[:], label=L\"\\text{CV}{(c_0)}\", alpha=0.75)\n",
    "# ax.axvline(Ps_vals[min_idx], color=\"red\", linestyle=\"--\", label=\"Minimum variance\")\n",
    "ax.set_xlabel(L\"P_s\\ [\\mu\\text{m/s}]\")\n",
    "ax.set_ylabel(L\"c_0\\ [\\text{mM}]\")\n",
    "ax.grid()\n",
    "ax.legend()\n",
    "\n",
    "gcf()"
   ]
  },
  {
   "cell_type": "markdown",
   "metadata": {
    "slideshow": {
     "slide_type": "skip"
    }
   },
   "source": [
    "The resulting solutions for the mean initial concentration consistently fluctuate close to $\\langle c_0\\rangle\\approx 2.58\\times 10^{-6}\\ \\textrm{mM}=2.58\\times 10^{-9}\\ \\textrm{M}$, a physically sensible value. This is accompanied by a constant coefficient of variability, indicating that the model does not perfectly succeed in explaining and linking the experimental data.\n",
    "\n",
    "<!-- The problem could also be formulated in an inverse way - fix $c_0$ and vary $\\rho$ to observe the changes in $c_{\\textrm{ex}}$, expressed as\n",
    "\n",
    "\n",
    "$$\n",
    "\\begin{equation}\n",
    "c_{\\textrm{ex}}=c_0\\left[\\frac{\\phi+(1-\\phi)e^{-\\frac{t}{\\tau(1-\\phi)}}-\\phi' -(1-\\phi')e^{-\\frac{t}{\\tau(1-\\phi')}}}{(1-\\phi')\\left[1- e^{-\\frac{t}{\\tau(1-\\phi')}}\\right]}\\right].\n",
    "\\end{equation}\n",
    "$$ -->"
   ]
  },
  {
   "cell_type": "markdown",
   "metadata": {
    "slideshow": {
     "slide_type": "subslide"
    }
   },
   "source": [
    "### 2.4. Heuristics for finding $c_0$"
   ]
  },
  {
   "cell_type": "markdown",
   "metadata": {
    "slideshow": {
     "slide_type": "fragment"
    }
   },
   "source": [
    "Another approach that can be used to estimate the upper limit of the inhibitor concentration is by referring to the measured concentration of 1-octen-3-ol released by conidia. Studies with _A. flavus_ have shown that, even after repetitive freeze-dry treatment to destroy the integrity of the conidial envelope, the released concentration of 1-octen-3-ol in the medium was below $1\\ \\mu\\textrm{M}$ [11]. The experiment was performed at a conidial density of $10^9$ spores/mL in a $300\\ \\mu\\textrm{L}$ suspension, which is equivalent to $3\\times 10^8$ spores. The quantity of 1-octen-3-ol in the volume of the suspension can be calculated to $3\\times 10^{-10}$ moles. Distributing these molecules over the spherical volumes of the conidia, equal to $\\frac{4}{3}\\pi R^3=6.54\\times 10^{-14}\\ \\textrm{L}$ each, results in a maximum concentration of $1.5\\times 10^{-5}\\ \\textrm{M}$ per conidium.\n",
    "\n",
    "As for the concentration of the second inhibitor candidate, the heat-labile peptide, a precise estimate is difficult to pinpoint, but a moderate abundance would likely be in the micromolar order. Therefore, a reference value of $c_0=10^{-6}\\ \\textrm{M}$ can be taken."
   ]
  },
  {
   "cell_type": "markdown",
   "metadata": {
    "slideshow": {
     "slide_type": "subslide"
    }
   },
   "source": [
    "### 2.5. Threshold for inhibition"
   ]
  },
  {
   "cell_type": "markdown",
   "metadata": {
    "slideshow": {
     "slide_type": "fragment"
    }
   },
   "source": [
    "The threshold for inhibition is another variable that can be narrowed down using experimental observations. Resorting to the _A. nidulans_ studies [10], it is evident that an exogenously added $1\\ \\textrm{mM}$ of 1-octen-3-ol already causes inhibition. In studies with _A. flavus_, not less than $10\\ \\textrm{mM}$ added 1-octen-3-ol was needed to induce inhibition [11]. Both of these values are much higher than the supposed initial concentration at the spore. This is logical, if one considers that a significant $c_{\\textrm{out}}$ concentration is needed to delay the endogenous release of inhibitor from the spore.\n",
    "\n",
    "Despite the flaws of the model in reconstructing a coherent initial concentration, an attempt can be made to use it for finding the concentration threshold $c_T$ given the empirical germination data. Given the heterogeneity of the spores and the fact that there is no hard threshold beyond which all of them stop germinating, the first question is how to define $c_T$ based on germination statistics.\n",
    "\n",
    "![Inhibitor thresholds](Data/inhibitor_thresholds.png)\n",
    "\n",
    "<!-- It can be assumed that each spore has a slightly varying release rate, leading to a concentration $c{(t_{\\textrm{max}})}=C$ at the time of measurement $t_{\\textrm{max}}$, where $C$ is a random variable. Concurrently, each spore has its inherent, sligthly varying concentration threshold for germination $T$, which is also a random variable, albeit not necessarily correlated with or from the same distribution as $C$.\n",
    "\n",
    "Thus, a spore germinates if $C<T$. In the case when all spores germinate, it is guaranteed that the highest $C$ is lower than the lowest $T$. If the environmental conditions change in a way that the release is affected, it can be assumed that the distribution $C$ shifts upward in a consistent manner. Then, the germination fraction can be expressed as\n",
    "\n",
    "$$\n",
    "\\begin{equation}\n",
    "p=P(C<T).\n",
    "\\end{equation}\n",
    "$$\n",
    "\n",
    "In order to capture $C$ into a single final concentration variable $c_F$, we need to define $c_F$ such that, if all spores had the same effective final concentration, their germination fraction would be the same under the changed environmental conditions:\n",
    "\n",
    "$$\n",
    "\\begin{equation}\n",
    "p=P(c_F<T).\n",
    "\\end{equation}\n",
    "$$\n",
    "\n",
    "Let $F_T$ denote the cumulative distribution function of the thresholds (the probability that the threshold is less than or equal to a given value). Then,\n",
    "\n",
    "$$\n",
    "\\begin{equation}\n",
    "p=P(T>c_F)=1-F_T(c_F).\n",
    "\\end{equation}\n",
    "$$\n",
    "\n",
    "Solving for $c_F$, one obtains the expression\n",
    "\n",
    "$$\n",
    "\\begin{equation}\n",
    "c_F=F_T^{-1}(1-p).\n",
    "\\end{equation}\n",
    "$$\n",
    "\n",
    "For simplicity, one can assume that the shift in $c{(t_{\\textrm{max}})}$ under changing the germination conditions is a constant for all spores, denoted as $\\Delta$. Thus, the transformed final concentrations become\n",
    "\n",
    "$$\n",
    "\\begin{equation}\n",
    "c{(t_{\\textrm{max}})}=C+\\Delta.\n",
    "\\end{equation}\n",
    "$$\n",
    "\n",
    "Consequently, the effective final concentrations also change by the same amount:\n",
    "\n",
    "$$\n",
    "\\begin{equation}\n",
    "c_F^{\\textrm{shifted}}=c_F+\\Delta.\n",
    "\\end{equation}\n",
    "$$\n",
    "\n",
    "Rearranging this, one can express the shift as\n",
    "\n",
    "$$\n",
    "\\begin{equation}\n",
    "\\Delta=c_F^{\\textrm{shifted}}-c_F=F_T^{-1}(1-p_2)-F_T^{-1}(1-p_1),\n",
    "\\end{equation}\n",
    "$$\n",
    "\n",
    "where $p_1$ is the fraction of germinated spores before the shift and $p_2$ is the updated fraction of germinated spores.\n",
    "\n",
    "Starting with the simpler analytical scheme,\n",
    "\n",
    "$$\n",
    "\\begin{equation}\n",
    "c_T=\\left(I_{\\textrm{self}} + \\rho_s I_{\\textrm{bg}} - 1\\right)\\Delta{c}{(0)}e^{-\\frac{t}{\\tau}}\n",
    "\\end{equation}\n",
    "$$ -->"
   ]
  },
  {
   "cell_type": "markdown",
   "metadata": {},
   "source": [
    "The general formula for the concentration at the measurement time $t_\\textrm{max}$ can be expressed as:\n",
    "\n",
    "$$\n",
    "\\begin{equation}\n",
    "c_{\\textrm{in}}{(t_\\textrm{max})}=\\phi c_0+(1-\\phi)\\left[c_{\\textrm{ex}}+\\left(c_0-c_{\\textrm{ex}}\\right)e^{-\\frac{t_\\textrm{max}}{\\tau(1-\\phi)}}\\right].\n",
    "\\end{equation}\n",
    "$$\n",
    "\n",
    "The characteristic relaxation time depends on the surface-to-volume ratio of the spore and may exhibit variability within the inoclulum, therefore it is modelled by a random variable. Thus, denoting the final measured concentration as $c_F$,\n",
    "\n",
    "$$\n",
    "\\begin{equation}\n",
    "c_F{(\\tau, c_{\\textrm{ex}})}=\\phi c_0+(1-\\phi)\\left[c_{\\textrm{ex}}+\\left(c_0-c_{\\textrm{ex}}\\right)e^{-\\frac{t_\\textrm{max}}{\\tau(1-\\phi)}}\\right].\n",
    "\\end{equation}\n",
    "$$\n",
    "\n",
    "The condition for germination is that the final concentration is below the germination threshold $c_T$, which is also a random variable:\n",
    "\n",
    "$$\n",
    "\\begin{equation}\n",
    "c_F{(\\tau, c_{\\textrm{ex}})}\\le c_T.\n",
    "\\end{equation}\n",
    "$$\n",
    "\n",
    "Conditional on $\\tau$, the probability that a spore germinates is\n",
    "\n",
    "$$\n",
    "\\begin{equation}\n",
    "P(\\textrm{germination}\\ | \\ \\tau)=P(c_T\\ge c_F{(\\tau, c_{\\textrm{ex}})})=1-P(c_F{(\\tau, c_{\\textrm{ex}})}>c_T)=1-F_\\Theta(c_F{(\\tau, c_{\\textrm{ex}})}),\n",
    "\\end{equation}\n",
    "$$\n",
    "\n",
    "where $F_\\Theta(x)$ is the cumulative distribution function (CDF) of the germination thresholds. Averaging over the distribution of $\\tau$, one can find the fraction $G$ of spores that germinate under a given $c_{\\textrm{ex}}$:\n",
    "\n",
    "$$\n",
    "\\begin{equation}\n",
    "G(c_{\\textrm{ex}})=\\int{p{(\\tau)}\\left[1-F_\\Theta\\left(c_F{(\\tau, c_{\\textrm{ex}})}\\right)\\right]d{\\tau}},\n",
    "\\end{equation}\n",
    "$$\n",
    "\n",
    "where $p{(\\tau)}$ is the probability density of $\\tau$. For the sake of simplicity, it can be assumed that the characteristic $\\tau$ does not vary significantly, compared to the germination thresholds - it mostly depends on the spherical area-to-volume ratio, which only sligthly changes among spores, while the threshold may be related to more complex physiological characteristics. In this case, the above fraction can be approximated using an average $\\bar{\\tau}$:\n",
    "\n",
    "$$\n",
    "\\begin{equation}\n",
    "G(c_{\\textrm{ex}})\\approx 1-F_\\Theta\\left(c_F{(\\bar{\\tau}, c_{\\textrm{ex}})}\\right).\n",
    "\\end{equation}\n",
    "$$\n",
    "\n",
    "Assuming that the distribution of threshold concentrations is symetric, its mean would coincide with its median. Thus, one can identify a reference point in the exogenous concentration addition when the germination response is 50%:\n",
    "\n",
    "$$\n",
    "\\begin{equation}\n",
    "G(c_{\\textrm{ex}}^{50\\%})=0.5,\n",
    "\\end{equation}\n",
    "$$\n",
    "\n",
    "and substitute the germination fraction in the general formula:\n",
    "\n",
    "$$\n",
    "\\begin{equation}\n",
    "0.5= 1-F_\\Theta\\left(\\phi c_0+(1-\\phi)\\left[c_{\\textrm{ex}}+\\left(c_0-c_{\\textrm{ex}}\\right)e^{-\\frac{t_\\textrm{max}}{\\bar{\\tau}(1-\\phi)}}\\right]\\right),\n",
    "\\end{equation}\n",
    "$$\n",
    "\n",
    "$$\n",
    "\\begin{equation}\n",
    "F_\\Theta\\left(\\phi c_0+(1-\\phi)\\left[c_{\\textrm{ex}}+\\left(c_0-c_{\\textrm{ex}}\\right)e^{-\\frac{t_\\textrm{max}}{\\bar{\\tau}(1-\\phi)}}\\right]\\right)=0.5.\n",
    "\\end{equation}\n",
    "$$\n",
    "\n",
    "This means that the mean of the thresholds can be expressed as\n",
    "\n",
    "$$\n",
    "\\bar{c_T}=\\phi c_0+(1-\\phi)\\left[c_{\\textrm{ex}}^{50\\%}+\\left(c_0-c_{\\textrm{ex}}^{50\\%}\\right)e^{-\\frac{t_\\textrm{max}}{\\bar{\\tau}(1-\\phi)}}\\right].\n",
    "$$\n",
    "\n",
    "Using this formula, the threshold for 1-octen-3-ol inhibition is computed below for all candidate permeabilities at time $t_{\\textrm{max}}=10\\ \\textrm{h}$."
   ]
  },
  {
   "cell_type": "code",
   "execution_count": 53,
   "metadata": {},
   "outputs": [
    {
     "name": "stdout",
     "output_type": "stream",
     "text": [
      "c_ex_median: 1.9862298149123427\n",
      "P_s: 2.0e-6 c_thresh: 1.5402465594669668\n",
      "P_s: 1724.9999999999998 c_thresh: 1.986226632545646\n",
      "P_s: 39.0 c_thresh: 1.986226632545646\n"
     ]
    }
   ],
   "source": [
    "c0 = 1.5 # 1e-5 M\n",
    "t_max = 36000 # 10 hours\n",
    "A, V = compute_spore_area_and_volume_from_dia(5.0)\n",
    "Ps_variants = [2e-10, 0.1725, 0.0039] # [cm/s]\n",
    "Ps_variants = [cm_to_um(Ps) for Ps in Ps_variants]\n",
    "\n",
    "D = 600\n",
    "B = 1.0\n",
    "\n",
    "c_ex_median = fit[1] * exp.(fit[2] .* 50)\n",
    "println(\"c_ex_median: \", c_ex_median)\n",
    "\n",
    "for Ps in Ps_variants\n",
    "\n",
    "    # Constants\n",
    "    τ = V / (A * Ps) # Decay time constant\n",
    "    ϕ = inverse_mL_to_cubic_um(1e5) * V # Volume fraction of spores in the solution\n",
    "    \n",
    "    c_thresh = ϕ * c0 + (1 - ϕ) * (c_ex_median + (c0 - c_ex_median) * exp(-t_max / (τ * (1 - ϕ)))) # Threshold concentration\n",
    "    println(\"P_s: \", Ps, \" c_thresh: \", c_thresh)\n",
    "end"
   ]
  },
  {
   "cell_type": "markdown",
   "metadata": {},
   "source": [
    "The issue arising from the results is that all computed thresholds are higher than the initial concentration. This could be traced back to the fact that the median of the exogenous concentration itself is higher than the concentration in the spores, meaning that the concentration jump is reversed immediately at the beginning of the process, effectively leading to a sole intake of external inhibitor into the spore. This is not consistent with a realistic scenario, therefore the method is not appropriate for inferring meaningful threshold levels."
   ]
  },
  {
   "cell_type": "markdown",
   "metadata": {},
   "source": [
    "A simple assumption for the lower bound of the inhibition threshold $c_T$ would be that the inhibitor stops working once there are only about a hundred molecules left in the spore. Referring this amount to the volume of a spore with a diameter of $5\\ \\mu\\textrm{m}$, one arrives at a concentration of approximately $2.54\\times 10^{-9}\\ \\textrm{M}$."
   ]
  },
  {
   "cell_type": "markdown",
   "metadata": {
    "slideshow": {
     "slide_type": "slide"
    }
   },
   "source": [
    "## 3. Comparing the different inhibitor release scenarios"
   ]
  },
  {
   "cell_type": "markdown",
   "metadata": {
    "slideshow": {
     "slide_type": "fragment"
    }
   },
   "source": [
    "Using the diffusion coefficient assumptions, the time-dependent inhibitor release is computed for multiple inhibitor-barrier scenarios, using the simple permeation scheme. Parallel to that, different thresholds of inhibition at $t=4\\ \\textrm{h}$, from $10^{-1}$ to $10^{-10}\\ \\textrm{M}$, are tested to find the corresponding permeation constants leading to their attainment."
   ]
  },
  {
   "cell_type": "code",
   "execution_count": 3,
   "metadata": {
    "slideshow": {
     "slide_type": "slide"
    }
   },
   "outputs": [
    {
     "data": {
      "image/png": "[encoded data removed]",
      "text/plain": [
       "Figure(PyObject <Figure size 1200x400 with 2 Axes>)"
      ]
     },
     "metadata": {},
     "output_type": "display_data"
    }
   ],
   "source": [
    "spore_diameter = 5.0 # um\n",
    "A, V = compute_spore_area_and_volume_from_dia(spore_diameter)\n",
    "\n",
    "t_max = 14400 # 4 hours\n",
    "n_frames = 1000000\n",
    "times = collect(LinRange(0, t_max, n_frames))\n",
    "\n",
    "# 1-octen-3-ol\n",
    "c0_oct = 1.5 # 1e-5 M\n",
    "D = cm2_to_um2(6.906e-6) # [um^2/s]\n",
    "Ps_variants = [2e-10, 0.1725, 0.0039] # [cm/s]\n",
    "Ps_variants = cm_to_um.(Ps_variants)\n",
    "labels_oct = [\"1o3o - Lipid Bilayer\", \"1o3o - Agarose\", \"1o3o - Cellulose\"]\n",
    "\n",
    "c_vals_oct = []\n",
    "for (i, Ps) in enumerate(Ps_variants)\n",
    "    push!(c_vals_oct, permeation_time_dependent_analytical(c0_oct, 0, times, Ps, A, V) .* 1e-5)\n",
    "end\n",
    "\n",
    "# Heat-labile peptide\n",
    "c0_prot = 0.1 # 1e-5 M\n",
    "D = cm2_to_um2(4.54855e-7) # [um^2/s]\n",
    "Ps_variants = [0.01137, 2.55e-4] # [cm/s]\n",
    "Ps_variants = cm_to_um.(Ps_variants)\n",
    "labels_prot = [\"Protein - Agarose\", \"Protein - Cellulose\"]\n",
    "\n",
    "c_vals_prot = []\n",
    "for (i, Ps) in enumerate(Ps_variants)\n",
    "    push!(c_vals_prot, permeation_time_dependent_analytical(c0_prot, 0, times, Ps, A, V) .* 1e-5)\n",
    "end\n",
    "\n",
    "# Fit permeation constants\n",
    "exponents = LinRange(-1, -5, 5)\n",
    "cT_range = 10 .^ exponents\n",
    "labels_fit = [L\"c_T = \\mathcal{O}{(10^{%$(round(Int, e - 5))}})\\ \\text{M}\" for e in exponents]\n",
    "Ps_fits = compute_permeation_constant.(cT_range, 0.0, c0_oct, t_max, A, V)\n",
    "\n",
    "# Simulate fitted Ps\n",
    "c_vals_fit = []\n",
    "times_fit = []\n",
    "for (i, Ps) in enumerate(Ps_fits)\n",
    "    push!(c_vals_fit, permeation_time_dependent_analytical(c0_oct, 0, times, Ps, A, V) .* 1e-5)\n",
    "    push!(times_fit, times)\n",
    "end\n",
    "\n",
    "# Plotting\n",
    "fig, ax = plt.subplots(1, 2, figsize=(12, 4), sharey=true)\n",
    "compare_concentration_evolution_groups([c_vals_oct, c_vals_prot], [[times, times, times], [times, times]], [labels_oct, labels_prot], ax[1], logx=true, logy=true, title=\"Concentration in the spore, natural scenarios\")\n",
    "compare_concentration_evolutions(c_vals_fit, times_fit, labels_fit, ax[2], logx=true, logy=true, title=\"Concentration in the spore, depletion scenarios\")\n",
    "gcf()"
   ]
  },
  {
   "cell_type": "markdown",
   "metadata": {
    "slideshow": {
     "slide_type": "slide"
    }
   },
   "source": [
    "The results confirm that, under the assumed initial concentrations, the permeation of 1-octen-3-ol and of the hypothetical protein through an agarose- or cellulose-like barrier occurs too fast to meet any realistic threshold at a time mark longer than 10 seconds.\n",
    "\n",
    "The permeation of 1-octen-3-ol through a lipid bilayer, on the other hand, proceeds too slowly to cause any significant reduction within 4 hours of incubation."
   ]
  },
  {
   "cell_type": "markdown",
   "metadata": {
    "slideshow": {
     "slide_type": "slide"
    }
   },
   "source": [
    "## References"
   ]
  },
  {
   "cell_type": "markdown",
   "metadata": {
    "slideshow": {
     "slide_type": "fragment"
    }
   },
   "source": [
    "- [1] Höber, R. Physikalische Chemie der Zelle und der Gewebe. Nature, 112, 93-93.\n",
    "- [2] Zhang, T., & Fang, H. (2005). Effective Diffusion Coefficients of Glucose in Artificial Biofilms. Environmental Technology, 26, 155 - 160.\n",
    "- [3] Carter, N., Towne, J., & Neivandt, D.J. (2021). Finite element analysis of glucose diffusivity in cellulose nanofibril peripheral nerve conduits. Cellulose, 28, 2791 - 2803.\n",
    "- [4] Brul, S., Nussbaum, J., & Dielbandhoesing, S.K. (1997). Fluorescent probes for wall porosity and membrane integrity in filamentous fungi. Journal of Microbiological Methods, 28, 169-178.\n",
    "- [5] Bresseleers, G.J., Goderis, H.L., & Tobback, P. (1984). Measurement of the glucose permeation rate across phospholipid bilayers using small unilamellar vesicles. Effect of membrane composition and temperature. Biochimica et biophysica acta, 772 3, 374-82 .\n",
    "- [6] Jakubowski, H.V., Flatt, P., Agnew, H., & Larsen, D. (2022). Fundamentals of Biochemistry, a free and new LibreText book for Undergraduate Courses. The FASEB Journal, 36.\n",
    "- [7] Yarrow, F., & Kuipers, B.W. (2011). AFM study of the thermotropic behaviour of supported DPPC bilayers with and without the model peptide WALP23. Chemistry and physics of lipids, 164 1, 9-15.\n",
    "- [8] Mazzobre, M.F., Román, M., Mourelle, A.F., & Corti, H.R. (2005). Octanol-water partition coefficient of glucose, sucrose, and trehalose. Carbohydrate research, 340 6, 1207-11.\n",
    "- [9] Beauvais, A., Bozza, S., Kniemeyer, O., Formosa, C., Balloy, V., Henry, C., Roberson, R.W., Dague, E., Chignard, M., Brakhage, A.A., Romani, L., & Latgé, J.P. (2013). Deletion of the α-(1,3)-Glucan Synthase Genes Induces a Restructuring of the Conidial Cell Wall Responsible for the Avirulence of Aspergillus fumigatus. PLoS Pathogens, 9.\n",
    "- [10] Herrero-García, E., Garzia, A., Cordobés, S., Espeso, E.A., & Ugalde, U. (2011). 8-Carbon oxylipins inhibit germination and growth, and stimulate aerial conidiation in Aspergillus nidulans. Fungal biology, 115 4-5, 393-400.\n",
    "- [11] Miyamoto, K., Murakami, T., Kakumyan, P., Keller, N.P., & Matsui, K. (2014). Formation of 1-octen-3-ol from Aspergillus flavus conidia is accelerated after disruption of cells independently of Ppo oxygenases, and is not a main cause of inhibition of germination. PeerJ, 2."
   ]
  }
 ],
 "metadata": {
  "kernelspec": {
   "display_name": "Julia 1.10.5",
   "language": "julia",
   "name": "julia-1.10"
  },
  "language_info": {
   "file_extension": ".jl",
   "mimetype": "application/julia",
   "name": "julia",
   "version": "1.10.5"
  }
 },
 "nbformat": 4,
 "nbformat_minor": 4
}
