{
 "cells": [
  {
   "cell_type": "markdown",
   "id": "08fc5ded",
   "metadata": {},
   "source": [
    "# 14. From a deterministic to a statistical model\n",
    "\n",
    "## Numerical experiments - Week 17/2025\n",
    "\n",
    "_Boyan Mihaylov, MSc Computational Science (UVA/VU)_"
   ]
  },
  {
   "cell_type": "markdown",
   "id": "4374d237",
   "metadata": {},
   "source": [
    "Spores are inherently heterogeneous, exhibiting a variation in their size and physiology, which affects their characteristic inhibitor release time, initial concentration and threshold of germination inhibition. This results in empirical experiments observing a gradual change in the germination percentage under changing environmental conditions, instead of a binary switch from a fully germinated to a fully non-germinated inoculum. This notebook attempts to address the statistical distributions of the different parameters in the established analytical formula, so that the model can be fitted to existing experimental data."
   ]
  },
  {
   "cell_type": "markdown",
   "id": "4049532e",
   "metadata": {},
   "source": [
    "## Prerequisite libraries"
   ]
  },
  {
   "cell_type": "code",
   "execution_count": 1,
   "id": "80ed5c91",
   "metadata": {},
   "outputs": [],
   "source": [
    "using QuadGK\n",
    "using LsqFit\n",
    "using Optim\n",
    "using BlackBoxOptim\n",
    "using SpecialFunctions\n",
    "using PyPlot\n",
    "using Revise\n",
    "\n",
    "Revise.includet(\"./conversions.jl\")\n",
    "Revise.includet(\"./diffusion.jl\")\n",
    "Revise.includet(\"./setup.jl\")\n",
    "Revise.includet(\"./plotting.jl\")\n",
    "Revise.includet(\"./analysis.jl\")\n",
    "using .Conversions\n",
    "using .Diffusion\n",
    "using .Setup\n",
    "using .Plotting\n",
    "using .Analysis"
   ]
  },
  {
   "cell_type": "markdown",
   "id": "e50d5167",
   "metadata": {},
   "source": [
    "## 1. Derivation of germination success rate"
   ]
  },
  {
   "cell_type": "markdown",
   "id": "285a2845",
   "metadata": {},
   "source": [
    "The inhibitor release model developed so far follows the formula\n",
    "\n",
    "$$\n",
    "\\begin{equation}\n",
    "c_{\\textrm{in}}{(t)}=\\phi c_0+(1-\\phi)\\left[c_{\\textrm{ex}}+\\left(c_0-c_{\\textrm{ex}}\\right)e^{-\\frac{t}{\\tau(1-\\phi)}}\\right],\n",
    "\\end{equation}\n",
    "$$\n",
    "\n",
    "where\n",
    "\n",
    "$$\n",
    "\\begin{equation}\n",
    "\\tau=\\frac{V_s}{P_sA}\n",
    "\\end{equation}\n",
    "$$\n",
    "\n",
    "is the characteristic relaxation time dependent on the ratio of the surface $A$ and the volume $V_s$ of the spore, and on the permeation coefficient $P_s$. The volume fraction $\\phi=\\rho_sV_s$ is a dimensionless measure dependent on the spore number density $\\rho_s$. Some basic assumptions can be made about the variables in this model:\n",
    "\n",
    "- Each spore is approximately spherical, so the surface-to-volume ratio can be expressed through the spore radius $R$: $\\frac{V_s}{A}\\approx \\frac{\\frac{4}{3}\\pi R^3}{4\\pi R}=\\frac{R}{3}$. The radius can be modelled by a random variable $\\xi$.\n",
    "- The spore density can be considered a constant, so the volume fraction $\\phi$ varies only depending on the radius via the spore volume.\n",
    "- The permeation coefficient is a quantity derived from statistical mechanics, so it is considered a constant.\n",
    "- The initial concentration $c_0$ and the concentration threshold $c_T$ for germination inhibition vary randomly.\n",
    "\n",
    "In the absence of an exogenously added external inhibitor, the inhibitor loses its effect once its concentration reaches the concentration threshold at an observed time for germination $t_{\\textrm{germ}}$:\n",
    "\n",
    "$$\n",
    "\\begin{equation}\n",
    "c_{\\textrm{in}}{(t_{\\textrm{germ}})}=\\phi c_0+(1-\\phi)c_0e^{-\\frac{t_{\\textrm{germ}}}{\\tau(1-\\phi)}}=c_T.\n",
    "\\end{equation}\n",
    "$$\n",
    "\n",
    "In reality, the onset of germination can be observed at slightly varying times, but this randomness can be absorbed by the threshold variable $c_T$. Thus, expressing\n",
    "\n",
    "$$\n",
    "\\begin{equation}\n",
    "c_{\\textrm{in}}{(t_{\\textrm{germ}})}=\\beta c_0,\n",
    "\\end{equation}\n",
    "$$\n",
    "\n",
    "where $\\beta=\\phi+(1-\\phi)e^{-\\frac{t_{\\textrm{germ}}}{\\tau(1-\\phi)}}$, and\n",
    "\n",
    "$$\n",
    "\\begin{equation}\n",
    "c_T=\\gamma c_0,\n",
    "\\end{equation}\n",
    "$$\n",
    "\n",
    "where $\\gamma$ is a random variable with an unknown distribution, one can express the condition for germination as\n",
    "\n",
    "$$\n",
    "\\begin{equation}\n",
    "\\beta c_0<\\gamma c_0,\n",
    "\\end{equation}\n",
    "$$\n",
    "\n",
    "or, simplified,\n",
    "\n",
    "$$\n",
    "\\begin{equation}\n",
    "\\beta{(\\xi, \\rho_s)}<\\gamma,\n",
    "\\end{equation}\n",
    "$$\n",
    "\n",
    "where $\\beta$ is expressed as a function of $\\xi$ and $\\rho_s$. When changing the main control parameter of the model, the spore density $\\rho_s$, the percentage of germinated spores is expressed through the probability\n",
    "\n",
    "$$\n",
    "\\begin{equation}\n",
    "p{(\\rho_s)}=P{(\\beta<\\gamma\\ |\\ \\rho_s)}.\n",
    "\\end{equation}\n",
    "$$\n",
    "\n",
    "Accounting for the distribution of $\\xi$,\n",
    "\n",
    "$$\n",
    "\\begin{equation}\n",
    "p{(\\rho_s)}=\\int_{-\\infty}^\\infty{P{(\\beta<\\gamma\\ |\\ \\rho_s, \\xi)}\\ f_\\xi{(\\xi)}\\ d{\\xi}},\n",
    "\\end{equation}\n",
    "$$\n",
    "\n",
    "where $f_\\xi{(\\xi)}$ is the probability distribution funciton (PDF) for the spore radius. For simplicity, it can be assumed that $\\gamma$ and $\\xi$ are normally distributed. Then, following the standard normal cumulative distribution function (CDF) of $\\gamma$, $\\Phi{\\left(\\frac{\\beta-\\mu_\\gamma}{\\sigma_\\gamma}\\right)}$,\n",
    "\n",
    "$$\n",
    "\\begin{equation}\n",
    "P{(\\beta<\\gamma\\ |\\ \\rho_s, \\xi)}=1-\\Phi{\\left(\\frac{\\beta{(\\xi)}-\\mu_\\gamma}{\\sigma_\\gamma}\\right)}.\n",
    "\\end{equation}\n",
    "$$\n",
    "\n",
    "The PDF of $\\xi$ is then the Gaussian function\n",
    "\n",
    "$$\n",
    "\\begin{equation}\n",
    "f_\\xi{(\\xi)}=\\frac{1}{\\sqrt{2\\pi}\\sigma_\\xi}\\exp{\\left(-\\frac{(\\xi-\\mu_\\xi)}{2\\sigma_\\xi^2}\\right)}.\n",
    "\\end{equation}\n",
    "$$\n",
    "\n",
    "Thus, the germination probability can be expressed as\n",
    "\n",
    "$$\n",
    "\\begin{equation}\n",
    "p{(\\rho_s)}=\\int_{-\\infty}^\\infty{\\left[1-\\Phi{\\left(\\frac{\\beta{(\\xi)}-\\mu_\\gamma}{\\sigma_\\gamma}\\right)}\\right]\\ \\frac{1}{\\sqrt{2\\pi}\\sigma_\\xi}\\exp{\\left(-\\frac{(\\xi-\\mu_\\xi)^2}{2\\sigma_\\xi^2}\\right)}\\ d{\\xi}}.\n",
    "\\end{equation}\n",
    "$$\n",
    "\n",
    "The mean and standard deviation of the spore radius can be inferred from literature. For instance, the diameter of _A. niger_ has $\\mu_\\xi=5.3\\ \\mu\\textrm{m}$ and $\\sigma_\\xi=0.6\\ \\mu\\textrm{m}$ [1], while the diameter of _A. nidulans_ is observed to vary between $2.4$ and $2.7\\ \\mu\\textrm{m}$. Thus, in the latter case it can be assumed that $\\mu_\\xi=1.275\\ \\mu\\textrm{m}$ and $\\sigma_\\xi=0.075\\ \\mu\\textrm{m}$."
   ]
  },
  {
   "cell_type": "markdown",
   "id": "8cc8bac2",
   "metadata": {},
   "source": [
    "## 2. Fitting the model to experimental data"
   ]
  },
  {
   "cell_type": "markdown",
   "id": "f8735c8c",
   "metadata": {},
   "source": [
    "### 2.1. Parameter estimation on the density-driven germination data"
   ]
  },
  {
   "cell_type": "markdown",
   "id": "e957b08d",
   "metadata": {},
   "source": [
    "The free parameters in the model are $\\mu_\\gamma$, $\\sigma_\\gamma$ and $P_s$. Using the experimental data from Herrero-Garcia et al. [3], the spore density $\\rho_s$ can be used as input variable for matching the germination responses. A non-linear optimisation process using `BlackBoxOptim.jl` is applied to find the appropriate parameter values."
   ]
  },
  {
   "cell_type": "code",
   "execution_count": 4,
   "id": "9709bb2c",
   "metadata": {},
   "outputs": [
    {
     "name": "stdout",
     "output_type": "stream",
     "text": [
      "0.7934415835678857\n",
      "Starting optimization with optimizer DiffEvoOpt{FitPopulation{Float64}, RadiusLimitedSelector, BlackBoxOptim.AdaptiveDiffEvoRandBin{3}, RandomBound{ContinuousRectSearchSpace}}\n",
      "0.00 secs, 0 evals, 0 steps\n",
      "7.74 secs, 282 evals, 201 steps, improv/step: 0.572 (last = 0.5721), fitness=0.728067971\n",
      "14.65 secs, 512 evals, 414 steps, improv/step: 0.488 (last = 0.4085), fitness=0.713722132\n",
      "20.09 secs, 626 evals, 526 steps, improv/step: 0.439 (last = 0.2589), fitness=0.713722132\n",
      "22.15 secs, 1534 evals, 1433 steps, improv/step: 0.344 (last = 0.2889), fitness=0.259684879\n",
      "24.06 secs, 1610 evals, 1509 steps, improv/step: 0.343 (last = 0.3158), fitness=0.259684879\n",
      "25.33 secs, 2245 evals, 2144 steps, improv/step: 0.319 (last = 0.2630), fitness=0.100780628\n",
      "25.83 secs, 4626 evals, 4526 steps, improv/step: 0.307 (last = 0.2968), fitness=0.021731527\n",
      "26.33 secs, 9586 evals, 9486 steps, improv/step: 0.271 (last = 0.2381), fitness=0.020952101\n",
      "\n",
      "Optimization stopped after 10001 steps and 26.41 seconds\n",
      "Termination reason: Max number of steps (10000) reached\n",
      "Steps per second = 378.73\n",
      "Function evals per second = 382.51\n",
      "Improvements/step = 0.26800\n",
      "Total function evaluations = 10101\n",
      "\n",
      "\n",
      "Best candidate found: [3.8944, 6.55163e-5, 3.56117e-5]\n",
      "\n",
      "Fitness: 0.020914449\n",
      "\n",
      "Optimized parameters:\n",
      "Pₛ: 0.00012752720345901044\n",
      "μ_γ: 6.55162959285888e-5\n",
      "σ_γ: 3.561168911442421e-5\n"
     ]
    },
    {
     "data": {
      "image/png": "[encoded data removed]",
      "text/plain": [
       "Figure(PyObject <Figure size 640x480 with 1 Axes>)"
      ]
     },
     "metadata": {},
     "output_type": "display_data"
    }
   ],
   "source": [
    "function germination_response(ρ, Pₛ, μ_γ, σ_γ, μ_ξ, σ_ξ, t)\n",
    "    \"\"\"\n",
    "    Compute the germination_response for a given set of parameters.\n",
    "    inputs:\n",
    "        ρ - spore density in spores/mL\n",
    "        μ_γ - mean inhibition threshold\n",
    "        σ_γ - standard deviation of inhibition threshold\n",
    "        μ_ξ - mean spore radius in um\n",
    "        σ_ξ - standard deviation of spore radius in um\n",
    "        Pₛ - permeation constant in um/s\n",
    "        t - time\n",
    "    output:\n",
    "        germination_response - the germination response for the given parameters\n",
    "    \"\"\"\n",
    "\n",
    "    # Convert units\n",
    "    ρ = inverse_mL_to_cubic_um(ρ) # Convert from spores/mL to spores/m^3\n",
    "    \n",
    "    function integrand(ξ)\n",
    "        V = 4/3 * π .* ξ^3\n",
    "        A = 4 * π .* ξ^2\n",
    "        τ = V ./ (Pₛ * A)\n",
    "        ϕ = ρ .* V\n",
    "        β = ϕ .+ (1 .- ϕ) .* exp.(-t ./ (τ .* (1 .- ϕ)))\n",
    "        z = (β .- μ_γ) ./ σ_γ\n",
    "        Φ = 0.5 .* (1 .+ erf.(z ./ √2))\n",
    "        return (1 .- Φ) .* exp.(-(ξ .- μ_ξ).^2 ./ (2 * σ_ξ^2)) ./ (σ_ξ * √(2 * π))\n",
    "    end\n",
    "\n",
    "    return quadgk(x -> integrand(x), 0.0, Inf, rtol=1e-8)[1]\n",
    "end\n",
    "\n",
    "# Constants\n",
    "μ_ξ = 1.275\n",
    "σ_ξ = 0.075\n",
    "t = 36000 # 10 hours in seconds\n",
    "\n",
    "# Model wrapper\n",
    "# wrapper(ρ, Pₛ, μ_γ, σ_γ) = germination_response(ρ, Pₛ, μ_γ, σ_γ, μ_ξ, σ_ξ, t)\n",
    "wrapper(ρ_exp, params) = germination_response(10 .^ ρ_exp, 10 .^ (-params[1]), params[2], params[3], μ_ξ, σ_ξ, t)\n",
    "\n",
    "println(wrapper(5, [3, 1e-6, 1e-8]))\n",
    "\n",
    "# spore_densities = [1e3, 1e4, 1e5, 1e6, 1e7, 1e8]\n",
    "spore_density_exponents = collect(3:8)\n",
    "germination_responses = [0.913, 0.925, 0.83, 0.72, 0.17, 0.08]\n",
    "confidence_intervals_A = [0.071, 0.074, 0.07, 0.061, 0.003, 0.003]\n",
    "\n",
    "# Initial guesses and bounds for the parameters\n",
    "p0 = [3, 1e-6, 1e-8] # Initial guess for Pₛ, μ_γ, σ_γ\n",
    "lower_bounds = [2, 1e-10, 1e-12]\n",
    "upper_bounds = [5, 1.0, 0.1]\n",
    "\n",
    "# Fit the model to the data\n",
    "# fit = curve_fit(wrapper, spore_density_exponents, germination_responses, p0, lower=lower_bounds, upper=upper_bounds)\n",
    "# println(fit.param)\n",
    "# println(fit.resid)\n",
    "\n",
    "# Define a scalar objective: sum of squared errors\n",
    "function obj(params)\n",
    "    ŷ = wrapper.(spore_density_exponents, Ref(params))\n",
    "    return sum(abs2, ŷ .- germination_responses)\n",
    "end\n",
    "\n",
    "# res_nm = optimize(obj, p0, NelderMead(); \n",
    "#                   lower=lower_bounds, upper=upper_bounds,\n",
    "#                   options=Optim.Options(iterations=10000))\n",
    "bounds = [(lb, ub) for (lb, ub) in zip(lower_bounds, upper_bounds)]\n",
    "res = bboptimize(params -> obj(params);\n",
    "                 SearchRange = bounds,\n",
    "                 NumDimensions = 3,\n",
    "                 MaxSteps = 10000)\n",
    "p_opt = best_candidate(res)\n",
    "\n",
    "# wrapper(1e4, [1e-2, 2e-6, 0.0])\n",
    "\n",
    "println(\"Optimized parameters:\")\n",
    "println(\"Pₛ: \", 10 .^ (- p_opt[1]))\n",
    "println(\"μ_γ: \", p_opt[2])\n",
    "println(\"σ_γ: \", p_opt[3])\n",
    "\n",
    "# Plot data and fit\n",
    "fig, ax = plt.subplots()\n",
    "# ax.scatter(10 .^ spore_density_exponents, germination_responses, label=\"Data\", color=\"blue\")\n",
    "ax.errorbar(10 .^ spore_density_exponents, germination_responses, yerr=confidence_intervals_A, fmt=\"o\", markersize=5, label=\"Data\")\n",
    "sample_exp = LinRange(3, 8, 5000)\n",
    "fit_responses = [wrapper(exponent, p_opt) for exponent in sample_exp]\n",
    "ax.plot(10 .^ sample_exp, fit_responses, label=\"Fit\", color=\"red\")\n",
    "ax.set_xscale(\"log\")\n",
    "ax.set_xlabel(\"Spore Density (spores/mL)\")\n",
    "ax.set_ylabel(\"Germination Response\")\n",
    "ax.grid()\n",
    "ax.legend()\n",
    "\n",
    "gcf()"
   ]
  },
  {
   "cell_type": "markdown",
   "id": "7a736f89",
   "metadata": {},
   "source": [
    "The fitted model closely resembles the experimental data, mostly in capturing the transition from full germination to no germination as $\\rho_s$ increases from $10^5$ to $10^7$. The fitted concenration reduction is $6.5\\times 10^{-5}\\pm 3.6\\times 10^{-5}$, encompassing a rather borad interval of concentration thresholds $c_T=\\gamma c_0$ from $\\mathcal{O}{(10^{-10})}\\ \\textrm{M}$ to a very slight decrease, still within the order of $10^{-5}\\ \\textrm{M}$. The fitted permeation constant is $P_s\\approx 1.3\\times10^{-4}\\ \\mu\\textrm{m/s}$, close to the lower limit of observed permeabilities."
   ]
  },
  {
   "cell_type": "markdown",
   "id": "e9fa66e0",
   "metadata": {},
   "source": [
    "### 2.2. Testing the parameters on data from exogenously driven inhibition"
   ]
  },
  {
   "cell_type": "markdown",
   "id": "2f7ec5ba",
   "metadata": {},
   "source": [
    "The estimated parameters are used in an attempt to reproduce the data from the second experiment of Herrero-Garcia et al. [3], using different inputs for $c_{\\textrm{ex}}$. To this end, the germination probability needs to be redefined in the presence of an exogenously added inhibitor. Rewriting the concentration formula,\n",
    "\n",
    "$$\n",
    "\\begin{equation}\n",
    "c_{\\textrm{in}}{(t)}=\\left[\\phi+(1-\\phi)e^{-\\frac{t}{\\tau(1-\\phi)}}\\right] c_0+(1-\\phi)\\left(1-e^{-\\frac{t}{\\tau(1-\\phi)}}\\right)c_{\\textrm{ex}},\n",
    "\\end{equation}\n",
    "$$\n",
    "\n",
    "one can define $\\beta=\\phi+(1-\\phi)e^{-\\frac{t}{\\tau(1-\\phi)}}$ and $\\chi=(1-\\phi)\\left(1-e^{-\\frac{t}{\\tau(1-\\phi)}}\\right)$, such that the condition for germination becomes\n",
    "\n",
    "$$\n",
    "\\begin{equation}\n",
    "\\beta c_0 + \\chi c_{\\textrm{ex}}<\\gamma c_0.\n",
    "\\end{equation}\n",
    "$$"
   ]
  },
  {
   "cell_type": "code",
   "execution_count": null,
   "id": "000f5eb0",
   "metadata": {},
   "outputs": [],
   "source": [
    "concentrations = [1.0, 2.5, 4.0, 5.0]\n",
    "germination_responses = [0.87, 0.36, 0.14, 0.01]\n",
    "confidence_intervals = [0.061, 0.043, 0.021, 0.003]\n",
    "\n"
   ]
  },
  {
   "cell_type": "markdown",
   "id": "3f8abd7e",
   "metadata": {},
   "source": [
    "## References"
   ]
  },
  {
   "cell_type": "markdown",
   "id": "4556a275",
   "metadata": {},
   "source": [
    "- [1] Müller, H., Barthel, L., Schmideder, S., Schütze, T., Meyer, V., & Briesen, H. (2022). From spores to fungal pellets: A new high‐throughput image analysis highlights the structural development of Aspergillus niger. Biotechnology and Bioengineering, 119, 2182 - 2195.\n",
    "- [2] Yu, J. (2010). Regulation of Development in Aspergillus nidulans and Aspergillus fumigatus. Mycobiology, 38, 229 - 237.\n",
    "- [3] Herrero-García, E., Garzia, A., Cordobés, S., Espeso, E.A., & Ugalde, U. (2011). 8-Carbon oxylipins inhibit germination and growth, and stimulate aerial conidiation in Aspergillus nidulans. Fungal biology, 115 4-5, 393-400."
   ]
  }
 ],
 "metadata": {
  "kernelspec": {
   "display_name": "Julia 1.10.5",
   "language": "julia",
   "name": "julia-1.10"
  },
  "language_info": {
   "file_extension": ".jl",
   "mimetype": "application/julia",
   "name": "julia",
   "version": "1.10.5"
  }
 },
 "nbformat": 4,
 "nbformat_minor": 5
}
