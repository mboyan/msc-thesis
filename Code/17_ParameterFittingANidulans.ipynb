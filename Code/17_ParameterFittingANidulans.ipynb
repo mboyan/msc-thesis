{
 "cells": [
  {
   "cell_type": "markdown",
   "id": "07eb37c9",
   "metadata": {},
   "source": [
    "# 17. Parameter fitting on _A. nidulans_ data\n",
    "\n",
    "## Numerical experiments - Week 21/2025\n",
    "\n",
    "_Boyan Mihaylov, MSc Computational Science (UVA/VU)_"
   ]
  },
  {
   "cell_type": "markdown",
   "id": "652ae87d",
   "metadata": {},
   "source": [
    "Based on the more abundant, time-based data from the _A. niger_ experiments, the most successful models from the previous fitting procedure are used to explain germination data from experiments on _A. nidulans_ conidia [1]."
   ]
  },
  {
   "cell_type": "markdown",
   "id": "900ac3f0",
   "metadata": {},
   "source": [
    "## Prerequisite libraries"
   ]
  },
  {
   "cell_type": "code",
   "execution_count": 1,
   "id": "dcabc213",
   "metadata": {},
   "outputs": [],
   "source": [
    "using PyPlot\n",
    "using JLD2\n",
    "using Statistics\n",
    "using Distributions\n",
    "using Revise\n",
    "using Printf\n",
    "\n",
    "Revise.includet(\"./conversions.jl\")\n",
    "Revise.includet(\"./diffusion.jl\")\n",
    "Revise.includet(\"./setup.jl\")\n",
    "Revise.includet(\"./plotting.jl\")\n",
    "Revise.includet(\"./analysis.jl\")\n",
    "Revise.includet(\"./datautils.jl\")\n",
    "Revise.includet(\"./germstats.jl\")\n",
    "using .Conversions\n",
    "using .Diffusion\n",
    "using .Setup\n",
    "using .Plotting\n",
    "using .Analysis\n",
    "using .DataUtils\n",
    "using .GermStats"
   ]
  },
  {
   "cell_type": "markdown",
   "id": "aefa60be",
   "metadata": {},
   "source": [
    "## 1. Fitting considerations"
   ]
  },
  {
   "cell_type": "markdown",
   "id": "15fc2e1c",
   "metadata": {},
   "source": [
    "The _A. nidulans_ dataset does not contain values from which time-dependent evolutions can be reconstructed. Nonetheless, it is noted the measurements are taken at 11 hours of incubation. An alternative study [2] state that the half-saturation time $\\tau_g$ for germ tube formation in _A. nidulans_ in a comparable medium is 9.67 hours, the germination rate saturation is 85.46% and the respective design parameter $\\nu$ is 6.28. The spore density used in this study is $2.7\\times10^5$ spores/mL - at this density, the 11-hour germination rate aligned with the measurements by Herrero-Garcia is estimated to be about 80% [1].\n",
    "\n",
    "The conflicting findings in the two experiments are rooted in the fact that the 11-hour measurement time in Herrero-Garcia et al [1] is closer to the half-saturation time in the alternative study [2] rather than to a full saturation time. This could suggest that the Dantigny parameters for the data in Herrero-Garcia et al. are different from those in Ijadpanahsaravi et al, likely due to differences in the strain and the cultivation medium used. On the other hand, Herrero-Garcia et al. do not explicitly specify the method used to classify conidia as germinated, which could imply that the percentages also include swollen spores. In any case, it is plausible to assume that the indicated density-dependent germination rates are equilibrium values, i.e. they would not increase significantly under a continued experiment.\n",
    "\n",
    "With this in consideration, the fitting procedure is required to use **equilibrium probabilities** only. The three models chosen for this are\n",
    "- inducer-dependent inhibitor threshold and release;\n",
    "- 2-factor germination with inhibitor-dependent induction threshold;\n",
    "- independent 2-factor germination with varying permeability.\n",
    "\n",
    "All models may incorporate a slowly permeating carbon signal, but this assumption becomes irrelevant in the equilibrium limit."
   ]
  },
  {
   "cell_type": "markdown",
   "id": "a88202d8",
   "metadata": {},
   "source": [
    "## 2. Equilibrium probabilities"
   ]
  },
  {
   "cell_type": "markdown",
   "id": "18e665b9",
   "metadata": {},
   "source": [
    "### 2.1. Inducer-dependent inhibitor threshold and release"
   ]
  },
  {
   "cell_type": "markdown",
   "id": "88f8c427",
   "metadata": {},
   "source": [
    "The time-dependent probability in the first model follows the expression\n",
    "\n",
    "$$\n",
    "\\begin{equation}\n",
    "p(\\textrm{germination})=\\int_0^\\infty{\\int_0^\\infty{\\left[1-\\Phi{\\left(\\frac{\\beta{(\\xi, \\pi_{\\textrm{eff}})}-\\mu_\\gamma}{\\sigma_\\gamma}\\right)}\\right]\\ f_\\pi{(\\pi_{\\textrm{eff}})}\\ f_\\xi{(\\xi)}\\ d{\\pi_{\\textrm{eff}}}}\\ d{\\xi}}.\n",
    "\\end{equation}\n",
    "$$\n",
    "\n",
    "It was previously shown that, in the equilibrium limit, $\\beta=\\phi$, so the distribution of $\\pi_{\\textrm{eff}}$, along with its integral, becomes obsolete. Therefore, the new probability takes the form\n",
    "\n",
    "$$\n",
    "\\begin{equation}\n",
    "p_{\\textrm{eq}}(\\textrm{germination})=\\int_0^\\infty{\\left[1-\\Phi{\\left(\\frac{\\phi{(\\xi)}-\\mu_\\gamma}{\\sigma_\\gamma}\\right)}\\right]\\ f_\\xi{(\\xi)}\\ d{\\xi}}.\n",
    "\\end{equation}\n",
    "$$\n",
    "\n",
    "This is a simple integral which can be solved without resorting to Gauss-Hermite approximation.\n",
    "\n",
    "If an exogenous concentration of inhibitor is considered upon inoculation, the equilibrium limit of the residual inhibitor concentration in the spore becomes\n",
    "\n",
    "$$\n",
    "\\begin{equation}\n",
    "c_{\\textrm{in}}^{\\textrm{eq}}=\\phi \\psi+(1-\\phi)c_{\\textrm{ex}}.\n",
    "\\end{equation}\n",
    "$$\n",
    "\n",
    "With the condition for inhibitor depletion,\n",
    "\n",
    "$$\n",
    "\\begin{equation}\n",
    "\\phi \\psi+(1-\\phi)c_{\\textrm{ex}}<\\gamma \\psi,\n",
    "\\end{equation}\n",
    "$$\n",
    "\n",
    "the germination probability can be formulated as\n",
    "\n",
    "$$\n",
    "\\begin{equation}\n",
    "p_{\\textrm{eq}}(\\textrm{germination})=\\int_0^\\infty{\\int_0^\\infty{\\left[1-\\Phi{\\left(\\frac{\\phi{(\\xi)}+(1-\\phi)\\frac{c_{\\textrm{ex}}}{\\psi}-\\mu_\\gamma}{\\sigma_\\gamma}\\right)}\\right]\\ f_\\psi{(\\psi)}\\ f_\\xi{(\\xi)}\\ d{\\psi}}\\ d{\\xi}}.\n",
    "\\end{equation}\n",
    "$$"
   ]
  },
  {
   "cell_type": "markdown",
   "id": "666fedf0",
   "metadata": {},
   "source": [
    "### 2.2. Two-factor germination with inhibitor-dependent induction threshold"
   ]
  },
  {
   "cell_type": "markdown",
   "id": "07a199e6",
   "metadata": {},
   "source": [
    "The time-dependent probability in the second model follows the expression\n",
    "\n",
    "$$\n",
    "\\begin{equation}\n",
    "p(\\textrm{germination})=\\int_0^\\infty{\\int_0^\\infty{\\left[1-\\Phi{\\left(\\frac{\\beta{(\\xi, t)}-\\mu_\\gamma}{\\sigma_\\gamma}\\right)}\\right]\\left[\\int_0^\\infty{\\Phi{\\left(\\frac{s{(\\xi, \\kappa, t)}-kc_{\\textrm{in}}{(\\xi, \\psi)}-\\mu_{\\omega_0}}{\\sigma_{\\omega_0}}\\right)}\\ f_\\psi{(\\psi)}\\ d{\\psi}}\\right] f_\\kappa{(\\kappa)}\\ f_\\xi{(\\xi)}\\ d{\\kappa}}\\ d{\\xi}}.\n",
    "\\end{equation}\n",
    "$$\n",
    "\n",
    "It was previously shown that, in the equilibrium limit, $\\beta=\\phi$, hence the equilibrium value of $c_{\\textrm{in}}^{\\textrm{eq}}=\\phi\\psi$. Since $c_{\\textrm{in}}\\to 0$ and $\\phi$ is only dependent on $\\xi$, the integral over $\\psi$ can be omitted. In the long-time limit, the carbon source concentration at the receptor proteins equalises to the ambient concentration in the medium, $c_{\\textrm{out}}^{\\textrm{cs}}$, so the integral over $\\kappa$ can be discarded. Thus, the equilibrium signal strength becomes\n",
    "\n",
    "$$\n",
    "\\begin{equation}\n",
    "s_{\\textrm{eq}}=\\frac{c_{\\textrm{out}}^{\\textrm{cs}}}{c_{\\textrm{out}}^{\\textrm{cs}}+K_{\\textrm{cs}}}.\n",
    "\\end{equation}\n",
    "$$\n",
    "\n",
    "Taking this together, the germination probability simplifies to\n",
    "\n",
    "$$\n",
    "\\begin{equation}\n",
    "p_{\\textrm{eq}}(\\textrm{germination})=\\int_0^\\infty{\\left[1-\\Phi{\\left(\\frac{\\phi{(\\xi)}-\\mu_\\gamma}{\\sigma_\\gamma}\\right)}\\right]\\left[\\int_0^\\infty{\\Phi{\\left(\\frac{s_{\\textrm{eq}}-k\\phi{(\\xi)}\\psi-\\mu_{\\omega_0}}{\\sigma_{\\omega_0}}\\right)}\\ f_\\psi{(\\psi)}\\ d{\\psi}}\\right]f_\\xi{(\\xi)}\\ d{\\xi}}.\n",
    "\\end{equation}\n",
    "$$\n",
    "\n",
    "In summary, the residual inhibition still affects both the inhibition-determined germination trigger and the threshold of the inducing signal.\n",
    "\n",
    "Considering the exogenous inhibitor, the probability is reformulated to\n",
    "\n",
    "$$\n",
    "\\begin{equation}\n",
    "p_{\\textrm{eq}}(\\textrm{germination})=\\int_0^\\infty{\\int_0^\\infty{\\left[1-\\Phi{\\left(\\frac{\\phi{(\\xi)}+(1-\\phi)\\frac{c_{\\textrm{ex}}}{\\psi}-\\mu_\\gamma}{\\sigma_\\gamma}\\right)}\\right]\\left[\\Phi{\\left(\\frac{s_{\\textrm{eq}}-k\\left[\\phi{(\\xi)}\\psi+(1-\\phi)c_{\\textrm{ex}}\\right]-\\mu_{\\omega_0}}{\\sigma_{\\omega_0}}\\right)}\\ f_\\psi{(\\psi)}\\right]f_\\xi{(\\xi)}\\ d{\\psi}}\\ d{\\xi}}.\n",
    "\\end{equation}\n",
    "$$"
   ]
  },
  {
   "cell_type": "markdown",
   "id": "ef4fa1c3",
   "metadata": {},
   "source": [
    "### 2.3. Independent two-factor germination with with varying permeability"
   ]
  },
  {
   "cell_type": "markdown",
   "id": "dfde009b",
   "metadata": {},
   "source": [
    "The time-dependent probability in the third model follows the expression\n",
    "\n",
    "$$\n",
    "\\begin{equation}\n",
    "p(\\textrm{germination})=\\int_0^\\infty{\\int_0^\\infty{\\int_0^\\infty{\\Phi{\\left(\\frac{s{(\\xi, \\kappa, t)}-\\mu_\\omega}{\\sigma_\\omega}\\right)}\\left[1-\\Phi{\\left(\\frac{\\beta{(\\xi, \\alpha, t)}-\\mu_\\gamma}{\\sigma_\\gamma}\\right)}\\right]\\ f_\\alpha{(\\alpha)}\\ f_\\kappa{(\\kappa)}\\ f_\\xi{(\\xi)\\ d{\\alpha}}}\\ d{\\kappa}}\\ d{\\xi}}.\n",
    "\\end{equation}\n",
    "$$\n",
    "\n",
    "Since $\\beta=\\phi$ and $\\phi$ is only dependent on $\\xi$, the integral over $\\alpha$ can be omitted. Similarly, in the long-time limit, the carbon source concentration at the receptor proteins equalises to the ambient concentration in the medium, $c_{\\textrm{out}}^{\\textrm{cs}}$, making the computations with $t$ and $\\kappa$ obsolete. Thus, the germination probability simplifies to\n",
    "\n",
    "$$\n",
    "\\begin{equation}\n",
    "p_{\\textrm{eq}}(\\textrm{germination})=\\Phi{\\left(\\frac{s_{\\textrm{eq}}-\\mu_\\omega}{\\sigma_\\omega}\\right)}\\int_0^\\infty{\\left[1-\\Phi{\\left(\\frac{\\phi{(\\xi)}-\\mu_\\gamma}{\\sigma_\\gamma}\\right)}\\right]\\ f_\\xi{(\\xi)}\\ d{\\xi}}.\n",
    "\\end{equation}\n",
    "$$\n",
    "\n",
    "It should be noted that this probability does not involve any information about the distribution of the permeation constant or the cell wall porosity, so it is identical with the case of a deterministic permeation constant. Since this is a simple integral, it does not require a Gauss-Hermite approximation.\n",
    "\n",
    "Taking into account the exogenous inhibitor concentration, the germination probability becomes\n",
    "\n",
    "$$\n",
    "\\begin{equation}\n",
    "p_{\\textrm{eq}}(\\textrm{germination})=\\Phi{\\left(\\frac{s_{\\textrm{eq}}-\\mu_\\omega}{\\sigma_\\omega}\\right)}\\int_0^\\infty{\\int_0^\\infty{\\left[1-\\Phi{\\left(\\frac{\\phi{(\\xi)}+(1-\\phi)\\frac{c_{\\textrm{ex}}}{\\psi}-\\mu_\\gamma}{\\sigma_\\gamma}\\right)}\\right]\\ f_\\psi{(\\psi)}\\ f_\\xi{(\\xi)}\\ d{\\psi}}\\ d{\\xi}}.\n",
    "\\end{equation}\n",
    "$$"
   ]
  },
  {
   "cell_type": "markdown",
   "id": "aea7519b",
   "metadata": {},
   "source": [
    "## 3. Data and default parameters"
   ]
  },
  {
   "cell_type": "markdown",
   "id": "00fa4765",
   "metadata": {},
   "source": [
    "The germination data and the corresponding densities are stored in variables below. The parameter boundaries remain as in the previous parameter fitting procedure. The distribution parameters of the spore radii are set to $\\mu_\\xi=1.275\\ \\mu\\textrm{m}$ and $\\sigma_\\xi=0.075\\ \\mu\\textrm{m}$ [3].\n",
    "\n",
    "The external concentration of the carbon source can be computed by considering that the study uses a minimal medium (MMA) as described in Pontecorvo et al. [4]. The carbon source used in this medium is dextrose, of which $10\\ \\textrm{g}$ are dilluted in 1 liter of water. Having a molar mass of $180\\ \\textrm{g/mol}$, the dextrose has a concentration of $10\\ \\textrm{g}/(180\\ \\textrm{g/mol}\\times 1\\ \\textrm{L})\\approx0.0556\\ \\textrm{M}$.\n",
    "\n",
    "It is known that _A. nidulans_ germinates up to 50% even in the absence of a carbon source [2]. Capturing this in a negative induction threshold, it implies that $p{(\\omega)<0}=0$. This is always true for a Gaussian distribution, so there is effectively no upper boundary for the coefficient of variation of $\\omega$. On the other hand, a control experiment without forced inhibition exhibits 95% germination success [1], so the 5% negative threshold assumption from the previous fitting procedure is maintained."
   ]
  },
  {
   "cell_type": "code",
   "execution_count": 3,
   "id": "85dc469e",
   "metadata": {},
   "outputs": [
    {
     "data": {
      "text/plain": [
       "LogNormal{Float64}(μ=0.2412190611763456, σ=0.05877273915760268)"
      ]
     },
     "metadata": {},
     "output_type": "display_data"
    }
   ],
   "source": [
    "# Germination data\n",
    "densities = [1e3, 1e4, 1e5, 1e6, 1e7, 1e8]\n",
    "germ_responses = [0.913, 0.925, 0.83, 0.72, 0.17, 0.08]\n",
    "conf_intervals = [0.071, 0.074, 0.07, 0.061, 0.003, 0.003]\n",
    "\n",
    "density_ex = 1e5\n",
    "ex_concentrations = [1.0, 2.5, 4.0, 5.0] .* 0.001\n",
    "germ_responses_ex = [0.87, 0.36, 0.14, 0.01]\n",
    "conf_intervals_ex = [0.061, 0.043, 0.021, 0.003]\n",
    "\n",
    "# Define default parameters globally\n",
    "def_params = Dict(\n",
    "    :μ_ξ => 1.275,\n",
    "    :σ_ξ => 0.075,\n",
    "    :c₀_cs => 0.00556\n",
    ")\n",
    "\n",
    "# Define parameter bounds globally\n",
    "bounds_narrow = Dict(\n",
    "    :k => (-6, 6),\n",
    "    :K_cs => (1e-8, 0.1),\n",
    "    :μ_γ => (1e-6, 1e-4),\n",
    "    :δ_γ => (-10, 10),\n",
    "    :μ_ω => (1e-6, 10.0),\n",
    "    :δ_ω => (-10, 0),\n",
    "    :μ_ψ => (1e-5, 1.0),\t\n",
    "    :δ_ψ => (-10, 0)\n",
    ")\n",
    "\n",
    "bounds_broad = Dict(\n",
    "    :k => (-6, 6),\n",
    "    :K_cs => (1e-8, 10.0),\n",
    "    :μ_γ => (1e-8, 1e-1),\n",
    "    :δ_γ => (-10, 10),\n",
    "    :μ_ω => (1e-6, 10.0),\n",
    "    :δ_ω => (-10, 0),\n",
    "    :μ_ψ => (1e-5, 1.0),\t\n",
    "    :δ_ψ => (-10, 0)\n",
    ")\n",
    "\n",
    "# Radius distribution\n",
    "μ_ξ = def_params[:μ_ξ]\n",
    "σ_ξ = def_params[:σ_ξ]\n",
    "μ_ξ_log = log(μ_ξ^2 / sqrt(σ_ξ^2 + μ_ξ^2))\n",
    "σ_ξ_log = sqrt(log(σ_ξ^2 / μ_ξ^2 + 1))\n",
    "dist_ξ = LogNormal(μ_ξ_log, σ_ξ_log)"
   ]
  },
  {
   "cell_type": "markdown",
   "id": "251fa7ea",
   "metadata": {},
   "source": [
    "## 4. Fitting to density-dependent data"
   ]
  },
  {
   "cell_type": "markdown",
   "id": "91525c98",
   "metadata": {},
   "source": [
    "### 4.1. Inducer-dependent inhibitor threshold and release"
   ]
  },
  {
   "cell_type": "code",
   "execution_count": null,
   "id": "adead164",
   "metadata": {},
   "outputs": [],
   "source": [
    "max_steps = 10000\n",
    "params_opt, rmse = fit_model_to_data_equilibrium(\"inhibitor\", def_params, germ_responses, densities, bounds_narrow, max_steps=max_steps)\n",
    "\n",
    "jldopen(\"Data/fit2_inhibitor.jld2\", \"w\") do file\n",
    "    file[\"def_params\"] = def_params\n",
    "    file[\"bounds\"] = bounds_narrow\n",
    "    file[\"params_opt\"] = params_opt\n",
    "    file[\"max_steps\"] = max_steps\n",
    "    file[\"rmse\"] = rmse\n",
    "end\n",
    "\n",
    "params_opt"
   ]
  },
  {
   "cell_type": "code",
   "execution_count": null,
   "id": "2366cc94",
   "metadata": {},
   "outputs": [],
   "source": [
    "matplotlib.pyplot.close()\n",
    "\n",
    "# Load the fitted parameters\n",
    "def_params_opt, bounds_opt, params_opt, max_steps_opt, rmse = jldopen(\"Data/fit2_inhibitor.jld2\", \"r\") do file\n",
    "    return file[\"def_params\"], file[\"bounds\"], file[\"params_opt\"], file[\"max_steps\"], file[\"rmse\"]\n",
    "end\n",
    "\n",
    "# Load default and fitted parameters\n",
    "params_test = merge(def_params, params_opt)\n",
    "for (key, value) in params_test\n",
    "    params_test[key] = value[1]\n",
    "end\n",
    "\n",
    "# Reshape inputs\n",
    "errors = zeros(1, length(germ_responses), 2)\n",
    "errors[1, :, 1] .= conf_intervals\n",
    "germ_resp_vis = reshape(germ_responses, 1, length(germ_responses)).*100\n",
    "\n",
    "# Generate test data\n",
    "density_exp_range = LinRange(3, 8, 1000)\n",
    "model_densities = 10 .^ density_exp_range\n",
    "model_responses = zeros(1, length(model_densities))\n",
    "\n",
    "# Plot the fitted model against the germination data\n",
    "fig, ax = subplots(figsize=(7, 5))\n",
    "model_responses[1, :] .= germ_response_inducer_dep_inhibitor_combined_eq.(inverse_mL_to_cubic_um.(model_densities), dist_ξ, params_test[:μ_γ], params_test[:σ_γ]).*100\n",
    "plot_germination_data_fit(densities, germ_resp_vis, model_densities, model_responses, [\"A. nidulans germination\"], yerr=errors.*100, ax=ax)\n",
    "fig.suptitle(\"Inducer-dependent inhibitor threshold and release, RMSE: $(round(rmse, sigdigits=3))\")\n",
    "\n",
    "tight_layout()\n",
    "gcf()"
   ]
  },
  {
   "cell_type": "markdown",
   "id": "85c0d84b",
   "metadata": {},
   "source": [
    "### 4.2. Two-factor germination with inhibitor-dependent induction threshold"
   ]
  },
  {
   "cell_type": "code",
   "execution_count": null,
   "id": "d8856510",
   "metadata": {},
   "outputs": [],
   "source": [
    "max_steps = 10000\n",
    "params_opt, rmse = fit_model_to_data_equilibrium(\"combined_inducer\", def_params, germ_responses, densities, bounds_narrow, max_steps=max_steps)\n",
    "\n",
    "jldopen(\"Data/fit2_combined_inducer.jld2\", \"w\") do file\n",
    "    file[\"def_params\"] = def_params\n",
    "    file[\"bounds\"] = bounds_narrow\n",
    "    file[\"params_opt\"] = params_opt\n",
    "    file[\"max_steps\"] = max_steps\n",
    "    file[\"rmse\"] = rmse\n",
    "end\n",
    "\n",
    "params_opt"
   ]
  },
  {
   "cell_type": "code",
   "execution_count": null,
   "id": "5e16ad6f",
   "metadata": {},
   "outputs": [],
   "source": [
    "matplotlib.pyplot.close()\n",
    "\n",
    "# Load the fitted parameters\n",
    "def_params_opt, bounds_opt, params_opt, max_steps_opt, rmse = jldopen(\"Data/fit2_combined_inducer.jld2\", \"r\") do file\n",
    "    return file[\"def_params\"], file[\"bounds\"], file[\"params_opt\"], file[\"max_steps\"], file[\"rmse\"]\n",
    "end\n",
    "\n",
    "println(rmse)\n",
    "\n",
    "# Load default and fitted parameters\n",
    "params_test = merge(def_params, params_opt)\n",
    "for (key, value) in params_test\n",
    "    params_test[key] = value[1]\n",
    "end\n",
    "\n",
    "# Reshape inputs\n",
    "errors = zeros(1, length(germ_responses), 2)\n",
    "errors[1, :, 1] .= conf_intervals\n",
    "germ_resp_vis = reshape(germ_responses, 1, length(germ_responses)).*100\n",
    "\n",
    "# Generate test data\n",
    "density_exp_range = LinRange(3, 8, 1000)\n",
    "model_densities = 10 .^ density_exp_range\n",
    "model_responses = zeros(1, length(model_densities))\n",
    "\n",
    "# Plot the fitted model against the germination data\n",
    "fig, ax = subplots(figsize=(7, 5))\n",
    "model_responses[1, :] .= germ_response_inhibitor_dep_inducer_thresh_2_factors_eq.(inverse_mL_to_cubic_um.(model_densities), dist_ξ, def_params[:c₀_cs],\n",
    "                                                                                params_test[:K_cs], params_test[:k],\n",
    "                                                                                params_test[:μ_γ], params_test[:σ_γ],\n",
    "                                                                                params_test[:μ_ω], params_test[:σ_ω],\n",
    "                                                                                params_test[:μ_ψ], params_test[:σ_ψ]).*100\n",
    "plot_germination_data_fit(densities, germ_resp_vis, model_densities, model_responses, [\"A. nidulans germination\"], yerr=errors.*100, ax=ax)\n",
    "fig.suptitle(\"Inducer-dependent inhibitor threshold and release, RMSE: $(round(rmse, sigdigits=3))\")\n",
    "\n",
    "tight_layout()\n",
    "gcf()"
   ]
  },
  {
   "cell_type": "markdown",
   "id": "8a750754",
   "metadata": {},
   "source": [
    "### 4.3. Independent two-factor germination"
   ]
  },
  {
   "cell_type": "code",
   "execution_count": null,
   "id": "724b3b79",
   "metadata": {},
   "outputs": [],
   "source": [
    "max_steps = 10000\n",
    "params_opt, rmse = fit_model_to_data_equilibrium(\"independent\", def_params, germ_responses, densities, bounds_broad, max_steps=max_steps)\n",
    "\n",
    "jldopen(\"Data/fit2_independent.jld2\", \"w\") do file\n",
    "    file[\"def_params\"] = def_params\n",
    "    file[\"bounds\"] = bounds_broad\n",
    "    file[\"params_opt\"] = params_opt\n",
    "    file[\"max_steps\"] = max_steps\n",
    "    file[\"rmse\"] = rmse\n",
    "end\n",
    "\n",
    "params_opt"
   ]
  },
  {
   "cell_type": "code",
   "execution_count": null,
   "id": "8a861900",
   "metadata": {},
   "outputs": [],
   "source": [
    "matplotlib.pyplot.close()\n",
    "\n",
    "# Load the fitted parameters\n",
    "def_params_opt, bounds_opt, params_opt, max_steps_opt, rmse = jldopen(\"Data/fit2_independent.jld2\", \"r\") do file\n",
    "    return file[\"def_params\"], file[\"bounds\"], file[\"params_opt\"], file[\"max_steps\"], file[\"rmse\"]\n",
    "end\n",
    "\n",
    "println(rmse)\n",
    "\n",
    "# Load default and fitted parameters\n",
    "params_test = merge(def_params, params_opt)\n",
    "for (key, value) in params_test\n",
    "    params_test[key] = value[1]\n",
    "end\n",
    "\n",
    "# Reshape inputs\n",
    "errors = zeros(1, length(germ_responses), 2)\n",
    "errors[1, :, 1] .= conf_intervals\n",
    "germ_resp_vis = reshape(germ_responses, 1, length(germ_responses)).*100\n",
    "\n",
    "# Generate test data\n",
    "density_exp_range = LinRange(2, 9, 1000)\n",
    "model_densities = 10 .^ density_exp_range\n",
    "model_responses = zeros(1, length(model_densities))\n",
    "\n",
    "# Plot the fitted model against the germination data\n",
    "fig, ax = subplots(figsize=(7, 5))\n",
    "model_responses[1, :] .= germ_response_independent_eq.(inverse_mL_to_cubic_um.(model_densities), dist_ξ,\n",
    "                                                        params_test[:c₀_cs], params_test[:K_cs],\n",
    "                                                        params_test[:μ_γ], params_test[:σ_γ],\n",
    "                                                        params_test[:μ_ω], params_test[:σ_ω]).*100\n",
    "plot_germination_data_fit(densities, germ_resp_vis, model_densities, model_responses, [\"A. nidulans germination\"], yerr=errors.*100, ax=ax)\n",
    "fig.suptitle(\"Independent inducer and inhibitor, RMSE: $(round(rmse, sigdigits=3))\")\n",
    "\n",
    "tight_layout()\n",
    "gcf()"
   ]
  },
  {
   "cell_type": "markdown",
   "id": "a1a11ace",
   "metadata": {},
   "source": [
    "## 5. Fitting to exogenously driven inhibition data"
   ]
  },
  {
   "cell_type": "markdown",
   "id": "6fb5638a",
   "metadata": {},
   "source": [
    "### 5.1. Inducer-dependent inhibitor threshold and release"
   ]
  },
  {
   "cell_type": "code",
   "execution_count": null,
   "id": "0accd885",
   "metadata": {},
   "outputs": [],
   "source": [
    "max_steps = 10000\n",
    "params_opt, rmse = fit_model_to_data_equilibrium(\"inhibitor_ex\", def_params, germ_responses_ex, inverse_mL_to_cubic_um(density_ex), bounds_narrow, c_ex_vals=ex_concentrations, max_steps=max_steps)\n",
    "\n",
    "jldopen(\"Data/fit2_inhibitor_ex.jld2\", \"w\") do file\n",
    "    file[\"def_params\"] = def_params\n",
    "    file[\"bounds\"] = bounds_narrow\n",
    "    file[\"params_opt\"] = params_opt\n",
    "    file[\"max_steps\"] = max_steps\n",
    "    file[\"rmse\"] = rmse\n",
    "end\n",
    "\n",
    "params_opt"
   ]
  },
  {
   "cell_type": "code",
   "execution_count": null,
   "id": "227e85dd",
   "metadata": {},
   "outputs": [],
   "source": [
    "matplotlib.pyplot.close()\n",
    "\n",
    "# Load the fitted parameters\n",
    "def_params_opt, bounds_opt, params_opt, max_steps_opt, rmse = jldopen(\"Data/fit2_inhibitor_ex.jld2\", \"r\") do file\n",
    "    return file[\"def_params\"], file[\"bounds\"], file[\"params_opt\"], file[\"max_steps\"], file[\"rmse\"]\n",
    "end\n",
    "\n",
    "println(rmse)\n",
    "\n",
    "# Load default and fitted parameters\n",
    "params_test = merge(def_params, params_opt)\n",
    "for (key, value) in params_test\n",
    "    params_test[key] = value[1]\n",
    "end\n",
    "\n",
    "# Reshape inputs\n",
    "errors = zeros(1, length(germ_responses_ex), 2)\n",
    "errors[1, :, 1] .= conf_intervals_ex\n",
    "germ_resp_vis = reshape(germ_responses_ex, 1, length(germ_responses_ex)).*100\n",
    "\n",
    "# Generate test data\n",
    "model_concentrations = LinRange(0.0, ex_concentrations[end], 1000)\n",
    "model_responses = zeros(1, length(model_concentrations))\n",
    "\n",
    "# Plot the fitted model against the germination data\n",
    "fig, ax = subplots(figsize=(7, 5))\n",
    "model_responses[1, :] .= germ_response_inducer_dep_inhibitor_combined_eq_c_ex.(inverse_mL_to_cubic_um(density_ex), dist_ξ, model_concentrations,\n",
    "                                                                                params_test[:μ_γ], params_test[:σ_γ], params_test[:μ_ψ], params_test[:σ_ψ]).*100\n",
    "plot_germination_data_fit(ex_concentrations, germ_resp_vis, model_concentrations, model_responses, [\"A. nidulans germination\"], yerr=errors.*100, ax=ax, c_ex=true)\n",
    "fig.suptitle(\"Independent inducer and inhibitor, RMSE: $(round(rmse, sigdigits=3))\")\n",
    "\n",
    "tight_layout()\n",
    "gcf()"
   ]
  },
  {
   "cell_type": "markdown",
   "id": "b6e2b2ea",
   "metadata": {},
   "source": [
    "### 5.2. Two-factor germination with inhibitor-dependent induction threshold"
   ]
  },
  {
   "cell_type": "code",
   "execution_count": null,
   "id": "ac56c8fd",
   "metadata": {},
   "outputs": [],
   "source": [
    "max_steps = 10000\n",
    "params_opt, rmse = fit_model_to_data_equilibrium(\"combined_inducer_ex\", def_params, germ_responses_ex, inverse_mL_to_cubic_um(density_ex), bounds_narrow, c_ex_vals=ex_concentrations, max_steps=max_steps)\n",
    "\n",
    "jldopen(\"Data/fit2_combined_inducer_ex.jld2\", \"w\") do file\n",
    "    file[\"def_params\"] = def_params\n",
    "    file[\"bounds\"] = bounds_narrow\n",
    "    file[\"params_opt\"] = params_opt\n",
    "    file[\"max_steps\"] = max_steps\n",
    "    file[\"rmse\"] = rmse\n",
    "end\n",
    "\n",
    "params_opt"
   ]
  },
  {
   "cell_type": "code",
   "execution_count": null,
   "id": "63416676",
   "metadata": {},
   "outputs": [],
   "source": [
    "matplotlib.pyplot.close()\n",
    "\n",
    "# Load the fitted parameters\n",
    "def_params_opt, bounds_opt, params_opt, max_steps_opt, rmse = jldopen(\"Data/fit2_combined_inducer_ex.jld2\", \"r\") do file\n",
    "    return file[\"def_params\"], file[\"bounds\"], file[\"params_opt\"], file[\"max_steps\"], file[\"rmse\"]\n",
    "end\n",
    "\n",
    "println(rmse)\n",
    "\n",
    "# Load default and fitted parameters\n",
    "params_test = merge(def_params, params_opt)\n",
    "for (key, value) in params_test\n",
    "    params_test[key] = value[1]\n",
    "end\n",
    "\n",
    "# Reshape inputs\n",
    "errors = zeros(1, length(germ_responses_ex), 2)\n",
    "errors[1, :, 1] .= conf_intervals_ex\n",
    "germ_resp_vis = reshape(germ_responses_ex, 1, length(germ_responses_ex)).*100\n",
    "\n",
    "# Generate test data\n",
    "model_concentrations = LinRange(0.0, ex_concentrations[end], 1000)\n",
    "model_responses = zeros(1, length(model_concentrations))\n",
    "\n",
    "# Plot the fitted model against the germination data\n",
    "fig, ax = subplots(figsize=(7, 5))\n",
    "model_responses[1, :] .= germ_response_inhibitor_dep_inducer_thresh_2_factors_eq_c_ex.(inverse_mL_to_cubic_um(density_ex), dist_ξ, model_concentrations,\n",
    "                                                                                        params_test[:c₀_cs], params_test[:K_cs], params_test[:k],\n",
    "                                                                                        params_test[:μ_γ], params_test[:σ_γ],\n",
    "                                                                                        params_test[:μ_ω], params_test[:σ_ω],\n",
    "                                                                                        params_test[:μ_ψ], params_test[:σ_ψ]).*100\n",
    "plot_germination_data_fit(ex_concentrations, germ_resp_vis, model_concentrations, model_responses, [\"A. nidulans germination\"], yerr=errors.*100, ax=ax, c_ex=true)\n",
    "fig.suptitle(\"Independent inducer and inhibitor, RMSE: $(round(rmse, sigdigits=3))\")\n",
    "\n",
    "tight_layout()\n",
    "gcf()"
   ]
  },
  {
   "cell_type": "markdown",
   "id": "a30b4570",
   "metadata": {},
   "source": [
    "### 5.3. Independent two-factor germination"
   ]
  },
  {
   "cell_type": "code",
   "execution_count": null,
   "id": "c907db86",
   "metadata": {},
   "outputs": [],
   "source": [
    "max_steps = 10000\n",
    "params_opt, rmse = fit_model_to_data_equilibrium(\"independent_ex\", def_params, germ_responses_ex, inverse_mL_to_cubic_um(density_ex), bounds_narrow, c_ex_vals=ex_concentrations, max_steps=max_steps)\n",
    "\n",
    "jldopen(\"Data/fit2_independent_ex.jld2\", \"w\") do file\n",
    "    file[\"def_params\"] = def_params\n",
    "    file[\"bounds\"] = bounds_narrow\n",
    "    file[\"params_opt\"] = params_opt\n",
    "    file[\"max_steps\"] = max_steps\n",
    "    file[\"rmse\"] = rmse\n",
    "end\n",
    "\n",
    "params_opt"
   ]
  },
  {
   "cell_type": "code",
   "execution_count": null,
   "id": "0b36995a",
   "metadata": {},
   "outputs": [],
   "source": [
    "matplotlib.pyplot.close()\n",
    "\n",
    "# Load the fitted parameters\n",
    "def_params_opt, bounds_opt, params_opt, max_steps_opt, rmse = jldopen(\"Data/fit2_independent_ex.jld2\", \"r\") do file\n",
    "    return file[\"def_params\"], file[\"bounds\"], file[\"params_opt\"], file[\"max_steps\"], file[\"rmse\"]\n",
    "end\n",
    "\n",
    "println(rmse)\n",
    "\n",
    "# Load default and fitted parameters\n",
    "params_test = merge(def_params, params_opt)\n",
    "for (key, value) in params_test\n",
    "    params_test[key] = value[1]\n",
    "end\n",
    "\n",
    "# Reshape inputs\n",
    "errors = zeros(1, length(germ_responses_ex), 2)\n",
    "errors[1, :, 1] .= conf_intervals_ex\n",
    "germ_resp_vis = reshape(germ_responses_ex, 1, length(germ_responses_ex)).*100\n",
    "\n",
    "# Generate test data\n",
    "model_concentrations = LinRange(0.0, ex_concentrations[end], 1000)\n",
    "model_responses = zeros(1, length(model_concentrations))\n",
    "\n",
    "# Plot the fitted model against the germination data\n",
    "fig, ax = subplots(figsize=(7, 5))\n",
    "model_responses[1, :] .= germ_response_independent_eq_c_ex.(inverse_mL_to_cubic_um(density_ex), dist_ξ, model_concentrations,\n",
    "                                                            params_test[:c₀_cs], params_test[:K_cs],\n",
    "                                                            params_test[:μ_γ], params_test[:σ_γ],\n",
    "                                                            params_test[:μ_ω], params_test[:σ_ω],\n",
    "                                                            params_test[:μ_ψ], params_test[:σ_ψ]).*100\n",
    "plot_germination_data_fit(ex_concentrations, germ_resp_vis, model_concentrations, model_responses, [\"A. nidulans germination\"], yerr=errors.*100, ax=ax, c_ex=true)\n",
    "fig.suptitle(\"Independent inducer and inhibitor, RMSE: $(round(rmse, sigdigits=3))\")\n",
    "\n",
    "tight_layout()\n",
    "gcf()"
   ]
  },
  {
   "cell_type": "markdown",
   "id": "b2096ace",
   "metadata": {},
   "source": [
    "## References"
   ]
  },
  {
   "cell_type": "markdown",
   "id": "3d893b50",
   "metadata": {},
   "source": [
    "- [1] Herrero-García, E., Garzia, A., Cordobés, S., Espeso, E.A., & Ugalde, U. (2011). 8-Carbon oxylipins inhibit germination and growth, and stimulate aerial conidiation in Aspergillus nidulans. Fungal biology, 115 4-5, 393-400.\n",
    "- [2] Ijadpanahsaravi, M., Teertstra, W.R., & Wösten, H.A. (2022). Inter- and intra-species heterogeneity in germination of Aspergillus conidia. Antonie Van Leeuwenhoek, 115, 1151 - 1164.\n",
    "- [3] Yu, J. (2010). Regulation of Development in Aspergillus nidulans and Aspergillus fumigatus. Mycobiology, 38, 229 - 237.\n",
    "- [4] Pontecorvo, G., Roper, J.A., Chemmons, L.M., Macdonald, K.D., & Bufton, A. (1953). The genetics of Aspergillus nidulans. Advances in genetics, 5, 141-238 ."
   ]
  }
 ],
 "metadata": {
  "kernelspec": {
   "display_name": "Julia 1.10.5",
   "language": "julia",
   "name": "julia-1.10"
  },
  "language_info": {
   "file_extension": ".jl",
   "mimetype": "application/julia",
   "name": "julia",
   "version": "1.10.5"
  }
 },
 "nbformat": 4,
 "nbformat_minor": 5
}
