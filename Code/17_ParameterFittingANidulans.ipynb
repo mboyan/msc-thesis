{
 "cells": [
  {
   "cell_type": "markdown",
   "id": "07eb37c9",
   "metadata": {},
   "source": [
    "# 17. Parameter fitting on _A. nidulans_ data\n",
    "\n",
    "## Numerical experiments - Week 21/2025\n",
    "\n",
    "_Boyan Mihaylov, MSc Computational Science (UVA/VU)_"
   ]
  },
  {
   "cell_type": "markdown",
   "id": "652ae87d",
   "metadata": {},
   "source": [
    "Based on the more abundant, time-based data from the _A. niger_ experiments, the model with [1]"
   ]
  },
  {
   "cell_type": "markdown",
   "id": "900ac3f0",
   "metadata": {},
   "source": [
    "## Prerequisite libraries"
   ]
  },
  {
   "cell_type": "code",
   "execution_count": null,
   "id": "dcabc213",
   "metadata": {},
   "outputs": [],
   "source": [
    "using PyPlot\n",
    "using JLD2\n",
    "using Statistics\n",
    "using Revise\n",
    "using Printf\n",
    "\n",
    "Revise.includet(\"./conversions.jl\")\n",
    "Revise.includet(\"./diffusion.jl\")\n",
    "Revise.includet(\"./setup.jl\")\n",
    "Revise.includet(\"./plotting.jl\")\n",
    "Revise.includet(\"./analysis.jl\")\n",
    "Revise.includet(\"./datautils.jl\")\n",
    "Revise.includet(\"./germstats.jl\")\n",
    "using .Conversions\n",
    "using .Diffusion\n",
    "using .Setup\n",
    "using .Plotting\n",
    "using .Analysis\n",
    "using .DataUtils\n",
    "using .GermStats"
   ]
  },
  {
   "cell_type": "markdown",
   "id": "aefa60be",
   "metadata": {},
   "source": [
    "## 1. Fitting procedure"
   ]
  },
  {
   "cell_type": "markdown",
   "id": "15fc2e1c",
   "metadata": {},
   "source": [
    "The _A. nidulans_ dataset does not contain values from which time-dependent evolutions can be reconstructed. Nonetheless, it is noted the measurements are taken at 11 hours of incubation. An alternative study [2] state that the half-saturation time $\\tau_g$ for germ tube formation in _A. nidulans_ in a comparable medium is 9.67 hours, the germination rate saturation is 85.46% and the respective design parameter $\\nu$ is 6.28. The spore density used in this study is $2.7\\times10^5$ spores/mL - at this density, the 11-hour germination rate aligned with the measurements by Herrero-Garcia is estimated to be about 80% [1].\n",
    "\n",
    "The conflicting findings in the two experiments are rooted in the fact that the 11-hour measurement time in Herrero-Garcia et al [1] is closer to the half-saturation time in the alternative study [2] rather than to a full saturation time. This could suggest that the Dantigny parameters for the data in Herrero-Garcia et al. are different from those in Ijadpanahsaravi et al, likely due to differences in the strain and the cultivation medium used. On the other hand, Herrero-Garcia et al. do not explicitly specify the method used to classify conidia as germinated, which could imply that the percentages also include swollen spores. In any case, it is plausible to assume that the indicated density-dependent germination rates are equilibrium values, i.e. they would not increase significantly under a continued experiment.\n",
    "\n",
    "With this in consideration, the fitting procedure is required to use **equilibrium probabilities** only."
   ]
  },
  {
   "cell_type": "code",
   "execution_count": 21,
   "id": "87339d99",
   "metadata": {},
   "outputs": [
    {
     "data": {
      "text/plain": [
       "85.4498651230853"
      ]
     },
     "metadata": {},
     "output_type": "display_data"
    }
   ],
   "source": [
    "# 80.75 * (1 - 1 / (1 + (11 / 10) ^ 5))\n",
    "85.46 * (1 - 1 / (1 + (11 / 7) ^ 20))"
   ]
  },
  {
   "cell_type": "code",
   "execution_count": 6,
   "id": "654c4675",
   "metadata": {},
   "outputs": [
    {
     "name": "stdout",
     "output_type": "stream",
     "text": [
      "[1 2 3; 1 2 3; 1 2 3][3 3 3; 5 5 5; 6 6 6][7 7 7; 8 8 8; 9 9 9]\n"
     ]
    }
   ],
   "source": [
    "using MeshGrid\n",
    "a = [1, 2, 3]\n",
    "b = [3, 5, 6]\n",
    "a, b = meshgrid(a, b)\n",
    "c = [7, 8, 9]\n",
    "c = repeat(c, 1, size(a, 2))\n",
    "println(a, b, c)"
   ]
  },
  {
   "cell_type": "markdown",
   "id": "b2096ace",
   "metadata": {},
   "source": [
    "## References"
   ]
  },
  {
   "cell_type": "markdown",
   "id": "3d893b50",
   "metadata": {},
   "source": [
    "- [1] Herrero-García, E., Garzia, A., Cordobés, S., Espeso, E.A., & Ugalde, U. (2011). 8-Carbon oxylipins inhibit germination and growth, and stimulate aerial conidiation in Aspergillus nidulans. Fungal biology, 115 4-5, 393-400.\n",
    "- [2] Ijadpanahsaravi, M., Teertstra, W.R., & Wösten, H.A. (2022). Inter- and intra-species heterogeneity in germination of Aspergillus conidia. Antonie Van Leeuwenhoek, 115, 1151 - 1164."
   ]
  }
 ],
 "metadata": {
  "kernelspec": {
   "display_name": "Julia 1.10.5",
   "language": "julia",
   "name": "julia-1.10"
  },
  "language_info": {
   "file_extension": ".jl",
   "mimetype": "application/julia",
   "name": "julia",
   "version": "1.10.5"
  }
 },
 "nbformat": 4,
 "nbformat_minor": 5
}
